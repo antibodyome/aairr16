{
 "cells": [
  {
   "cell_type": "markdown",
   "metadata": {
    "slideshow": {
     "slide_type": "slide"
    }
   },
   "source": [
    "# **Analysis of adaptive immune repertoires**\n",
    "<br>\n",
    "## Simon D.W. Frost\n",
    "### *University of Cambridge*"
   ]
  },
  {
   "cell_type": "markdown",
   "metadata": {
    "slideshow": {
     "slide_type": "slide"
    }
   },
   "source": [
    "## Introduction\n",
    "\n",
    "- What are adaptive immune receptor repertoires?\n",
    "- Why study them?\n",
    "- How can we study them?\n",
    "  - Opportunities provided by next generation sequencing"
   ]
  },
  {
   "cell_type": "markdown",
   "metadata": {
    "slideshow": {
     "slide_type": "slide"
    }
   },
   "source": [
    "## B vs. T cell receptors\n",
    "\n",
    "- Similarities\n",
    "  - Diversity in IGH and TRB repertoires formed by reassortment of V, D, and J germline genes\n",
    "- Differences\n",
    "  - Somatic hypermutation in BCRs"
   ]
  },
  {
   "cell_type": "markdown",
   "metadata": {
    "slideshow": {
     "slide_type": "slide"
    }
   },
   "source": [
    "# Workflow\n",
    "\n",
    "- Bioinformatics processing\n",
    "  - Sequence cleaning etc.\n",
    "  - Germline assignment\n",
    "  - Identification of clones\n",
    "- Statistical analysis\n",
    "  - CDR3 length, amino acid properties\n",
    "  - Diversity\n",
    "  - BCRs: Somatic hypermutation"
   ]
  },
  {
   "cell_type": "markdown",
   "metadata": {
    "collapsed": true,
    "slideshow": {
     "slide_type": "slide"
    }
   },
   "source": [
    "## Sequencing platforms\n",
    "\n",
    "- Roche 454\n",
    "  - Longer reads, but discontinued\n",
    "- Illumina\n",
    "  - Paired end reads up to 300bp\n",
    "    - Sufficient for characterising most of V/D/J region\n",
    "    - High throughput/(relatively) low cost\n",
    "- PacBio\n",
    "  - Can sequence amplicons spanning the variable and constant regions\n",
    "  - Has been used for sequencing VH-VL amplicons using linked PCR"
   ]
  },
  {
   "cell_type": "markdown",
   "metadata": {
    "slideshow": {
     "slide_type": "slide"
    }
   },
   "source": [
    "## Barcoding\n",
    "\n",
    "- Barcodes used to identify samples run in multiplex (MIDs)\n",
    "- Unique molecular identifiers (UMIs)\n",
    "  - Random primers intended to uniquely tag distinct molecules\n",
    "- Can be combined with microfluidics/single cell PCR to allow e.g. sequencing of paired VH/VL"
   ]
  },
  {
   "cell_type": "markdown",
   "metadata": {
    "slideshow": {
     "slide_type": "slide"
    }
   },
   "source": [
    "## Sequence formats\n",
    "\n",
    "- Depend on the sequencing platform used\n",
    "- NCBI Sequence Read Archive stores reads in a bespoke format, sra\n",
    "- Most tools can take input as:\n",
    "  - fastq\n",
    "  - fasta\n",
    "  - normal or compressed (gzipped)\n"
   ]
  },
  {
   "cell_type": "markdown",
   "metadata": {
    "slideshow": {
     "slide_type": "slide"
    }
   },
   "source": [
    "## fastq\n",
    "\n",
    "- Contains base calls with associated quality scores\n",
    "- Paired end sequence datasets may interleave reads, or have them in separate files\n",
    "\n",
    "```\n",
    "@SRR765688.43055 HQP9GKT01ANQEB length=386\n",
    "NNNNNNNNNNNNNNNNNNNNCCGGGGAGTCTCTGAAAAATCT\n",
    "+\n",
    "IIIIIIIIIIIIIIIIIIIHHHCCCCIIIIIIII66666III\n",
    "```"
   ]
  },
  {
   "cell_type": "markdown",
   "metadata": {
    "slideshow": {
     "slide_type": "slide"
    }
   },
   "source": [
    "## fasta\n",
    "\n",
    "- Contains base calls only\n",
    "\n",
    "```\n",
    ">SRR765688.43055 HQP9GKT01ANQEB length=386\n",
    "NNNNNNNNNNNNNNNNNNNNCCGGGGAGTCTCTGAAAAATCT\n",
    "```"
   ]
  },
  {
   "cell_type": "markdown",
   "metadata": {
    "slideshow": {
     "slide_type": "slide"
    }
   },
   "source": [
    "## Output formats\n",
    "\n",
    "- VDJML\n",
    "- Change-O\n",
    "- vdjtools"
   ]
  },
  {
   "cell_type": "markdown",
   "metadata": {
    "slideshow": {
     "slide_type": "slide"
    }
   },
   "source": [
    "## VDJML\n",
    "\n",
    "![](https://vdjserver.org/vdjml/xsd_doc/1/xsd_dot.svg)"
   ]
  },
  {
   "cell_type": "markdown",
   "metadata": {
    "slideshow": {
     "slide_type": "slide"
    }
   },
   "source": [
    "## Software\n",
    "\n",
    "- Diverse and growing suite of software\n",
    "- Various languages:\n",
    "  - Python\n",
    "  - R\n",
    "  - Perl\n",
    "  - C/C++\n",
    "  - Java\n",
    "- List at [omictools/rep-seq](https://omictools.com/rep-seq-category) curated by Mikhail Shugay"
   ]
  },
  {
   "cell_type": "markdown",
   "metadata": {
    "slideshow": {
     "slide_type": "slide"
    }
   },
   "source": [
    "## Reproducibility\n",
    "\n",
    "- Research should be *reproducible*\n",
    "- Important for transparency in research\n",
    "- Also very useful\n",
    "  - Often have to rerun analyses\n",
    "    - Expanded datasets, updated tools, etc."
   ]
  },
  {
   "cell_type": "markdown",
   "metadata": {
    "slideshow": {
     "slide_type": "slide"
    }
   },
   "source": [
    "## Why scripts are not enough\n",
    "\n",
    "- Many tools come with example scripts to run the tools on some example datasets\n",
    "- While fine for examples, not well suited for research purposes\n",
    "  - Lack documentation\n",
    "  - Pipelines may break on other datasets\n",
    "  - May want to combine different tools"
   ]
  },
  {
   "cell_type": "markdown",
   "metadata": {
    "slideshow": {
     "slide_type": "slide"
    }
   },
   "source": [
    "## Jupyter notebooks\n",
    "\n",
    "- Interactive notebook, interleaves\n",
    "  - Notes\n",
    "  - Code\n",
    "  - Output (text, tables, images)\n",
    "- Based on Python, but with multiple language 'kernels'\n",
    "  - `bash_kernel`: shell commands\n",
    "  - `irkernel`: R commands\n",
    "  - `python3`: Python commands\n",
    "- 'Magics' allow mixing of languages inside a single notebook\n",
    "- Can also generate slideshows"
   ]
  },
  {
   "cell_type": "markdown",
   "metadata": {
    "slideshow": {
     "slide_type": "slide"
    }
   },
   "source": [
    "## R notebooks\n",
    "\n",
    "- Although not covered here, notebooks are also available in the R programming environment Rstudio"
   ]
  },
  {
   "cell_type": "markdown",
   "metadata": {
    "slideshow": {
     "slide_type": "slide"
    }
   },
   "source": [
    "## Workflows\n",
    "\n",
    "- Like many bioinformatic analyses, analysis of repertoires often involves repetitive tasks\n",
    "- May want to run an analysis from start to finish with different settings\n",
    "- *Workflow tools* can help to automate this"
   ]
  },
  {
   "cell_type": "markdown",
   "metadata": {
    "slideshow": {
     "slide_type": "slide"
    }
   },
   "source": [
    "## Snakemake\n",
    "\n",
    "- Text-based workflow\n",
    "  - Can include Python, R, and shell commands\n",
    "- Uses file names to infer workflow"
   ]
  },
  {
   "cell_type": "markdown",
   "metadata": {
    "slideshow": {
     "slide_type": "slide"
    }
   },
   "source": [
    "## Common Workflow Language (CWL)\n",
    "\n",
    "- Tools and workflows are written in markup\n",
    "  - YAML\n",
    "  - JSON\n",
    " - Language agnostic\n",
    " - Explicit workflow"
   ]
  },
  {
   "cell_type": "markdown",
   "metadata": {
    "slideshow": {
     "slide_type": "slide"
    }
   },
   "source": [
    "## Example datasets\n",
    "\n",
    "- TCR\n",
    "  - Britanova et al. *J. Immunol.* (2016)\n",
    "- BCR\n",
    "  - Jiang et al. *Sci. Trans. Med* (2013)"
   ]
  },
  {
   "cell_type": "markdown",
   "metadata": {
    "slideshow": {
     "slide_type": "slide"
    }
   },
   "source": [
    "## Britanova et al. (2016)\n",
    "\n",
    "- 65 healthy individuals aged 6–103 yrs"
   ]
  },
  {
   "cell_type": "markdown",
   "metadata": {
    "slideshow": {
     "slide_type": "slide"
    }
   },
   "source": [
    "## Stability of TCR repertoire over time\n",
    "\n",
    "![](britanova2016.F1.large.jpg)"
   ]
  },
  {
   "cell_type": "markdown",
   "metadata": {
    "slideshow": {
     "slide_type": "slide"
    }
   },
   "source": [
    "## Age-related changes\n",
    "\n",
    "![](britanova2016.F2.large.jpg)"
   ]
  },
  {
   "cell_type": "markdown",
   "metadata": {
    "slideshow": {
     "slide_type": "slide"
    }
   },
   "source": [
    "## Repertoire changes\n",
    "\n",
    "![](britanova2016.F3.large.jpg)"
   ]
  },
  {
   "cell_type": "markdown",
   "metadata": {
    "slideshow": {
     "slide_type": "slide"
    }
   },
   "source": [
    "## Age and gender\n",
    "\n",
    "![](britanova2016.F4.large.jpg)"
   ]
  },
  {
   "cell_type": "markdown",
   "metadata": {
    "slideshow": {
     "slide_type": "slide"
    }
   },
   "source": [
    "## Jiang et al. (2013)\n",
    "\n",
    "- Analyzed antibody repertoires from peripheral blood drawn from 17 human volunteers immunized with 2009 or 2010 seasonal influenza vaccines\n",
    "- Three age groups:\n",
    "  - children (8-17 yrs)\n",
    "  - young adults (18-30 yrs)\n",
    "  - elderly (70-100 yrs)\n",
    "- Given trivalent inactivated influenza vaccine (TIV) or live attenuated influenza vaccine (LAIV; not 70+ group)"
   ]
  },
  {
   "cell_type": "markdown",
   "metadata": {
    "slideshow": {
     "slide_type": "slide"
    }
   },
   "source": [
    "## Isotype distribution\n",
    "\n",
    "![](jiang2013.F1.large.jpg)"
   ]
  },
  {
   "cell_type": "markdown",
   "metadata": {
    "slideshow": {
     "slide_type": "slide"
    }
   },
   "source": [
    "## Predicted influenza-specific lineages\n",
    "\n",
    "![](jiang2013.F2.large.jpg)"
   ]
  },
  {
   "cell_type": "markdown",
   "metadata": {
    "slideshow": {
     "slide_type": "slide"
    }
   },
   "source": [
    "## Age-related lineages\n",
    "\n",
    "![](jiang2013.F3.large.jpg)"
   ]
  },
  {
   "cell_type": "markdown",
   "metadata": {},
   "source": [
    "## Interlineage structure of IgGs in visit 2 PBMCs\n",
    "\n",
    "![](jiang2013.F4.large.jpg)"
   ]
  },
  {
   "cell_type": "markdown",
   "metadata": {
    "slideshow": {
     "slide_type": "slide"
    }
   },
   "source": [
    "## Outline\n",
    "\n",
    "- Day 1\n",
    "  - Obtaining NGS data from GenBank\n",
    "  - Data cleaning with pRESTO\n",
    "- Day 2\n",
    "  - Snakemake workflows\n",
    "- Day 3\n",
    "  - Analysis"
   ]
  }
 ],
 "metadata": {
  "celltoolbar": "Slideshow",
  "kernelspec": {
   "display_name": "Python 3",
   "language": "python",
   "name": "python3"
  },
  "language_info": {
   "codemirror_mode": {
    "name": "ipython",
    "version": 3
   },
   "file_extension": ".py",
   "mimetype": "text/x-python",
   "name": "python",
   "nbconvert_exporter": "python",
   "pygments_lexer": "ipython3",
   "version": "3.5.2"
  }
 },
 "nbformat": 4,
 "nbformat_minor": 1
}
