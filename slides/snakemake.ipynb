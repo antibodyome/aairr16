{
 "cells": [
  {
   "cell_type": "markdown",
   "metadata": {
    "slideshow": {
     "slide_type": "slide"
    }
   },
   "source": [
    "# Snakemake workflows"
   ]
  },
  {
   "cell_type": "markdown",
   "metadata": {
    "slideshow": {
     "slide_type": "slide"
    }
   },
   "source": [
    "## Why workflows?\n",
    "\n",
    "- Workflows manage\n",
    "  - Dependencies between tasks\n",
    "  - Suspend/resume (reentrancy)\n",
    "  - Logging\n",
    "  - Parallelisation"
   ]
  },
  {
   "cell_type": "markdown",
   "metadata": {
    "slideshow": {
     "slide_type": "slide"
    }
   },
   "source": [
    "## Classification of workflows\n",
    "\n",
    "- [Leipzig 2016](http://bib.oxfordjournals.org/content/early/2016/03/23/bib.bbw020.long) classifies workflows into:\n",
    "  - Implicit\n",
    "  - Explicit"
   ]
  },
  {
   "cell_type": "markdown",
   "metadata": {
    "slideshow": {
     "slide_type": "slide"
    }
   },
   "source": [
    "## Workflow platforms\n",
    "\n",
    "![](workflows.png)"
   ]
  },
  {
   "cell_type": "markdown",
   "metadata": {
    "slideshow": {
     "slide_type": "slide"
    }
   },
   "source": [
    "## Snakemake\n",
    "\n",
    "- Text-based\n",
    "- Can mix command line (shell), Python, and R scripts\n",
    "- Uses file name conventions to identify the rules to transform one file into another"
   ]
  },
  {
   "cell_type": "markdown",
   "metadata": {
    "collapsed": true,
    "slideshow": {
     "slide_type": "slide"
    }
   },
   "source": [
    "## Basic example\n",
    "\n",
    "```python\n",
    "rule sort:\n",
    "    input:\n",
    "        \"path/to/dataset.txt\"\n",
    "    output:\n",
    "        \"dataset.sorted.txt\"\n",
    "    shell:\n",
    "        \"sort {input} > {output}\"\n",
    "```"
   ]
  },
  {
   "cell_type": "markdown",
   "metadata": {
    "slideshow": {
     "slide_type": "slide"
    }
   },
   "source": [
    "## Top-level rule\n",
    "\n",
    "```python\n",
    "rule all:\n",
    "    \"dataset.sorted.txt\"\n",
    "\n",
    "rule sort:\n",
    "    input:\n",
    "        \"dataset.txt\"\n",
    "    output:\n",
    "        \"dataset.sorted.txt\"\n",
    "    shell:\n",
    "        \"sort {input} > {output}\n",
    "```"
   ]
  },
  {
   "cell_type": "markdown",
   "metadata": {
    "slideshow": {
     "slide_type": "slide"
    }
   },
   "source": [
    "## Handling dependencies\n",
    "\n",
    "- Snakemake works out which rules to apply by *pattern matching*\n",
    "- You specify the *name* of a file (or files) that you want, and Snakemake works out which rules are required\n",
    "- Requires strict conventions for file naming"
   ]
  },
  {
   "cell_type": "markdown",
   "metadata": {
    "slideshow": {
     "slide_type": "slide"
    }
   },
   "source": [
    "```python\n",
    "rule all:\n",
    "  input:\n",
    "    \"dataset.sorted.copied.txt\"\n",
    "\n",
    "rule sort:\n",
    "    input:\n",
    "        \"dataset.txt\"\n",
    "    output:\n",
    "        \"dataset.sorted.txt\"\n",
    "    shell:\n",
    "        \"sort {input} > {output}\n",
    "\n",
    "rule copy:\n",
    "    input:\n",
    "        \"dataset.sorted.txt\"\n",
    "    output:\n",
    "        \"dataset.sorted.copied.txt\"\n",
    "    shell:\n",
    "        \"cp {input} {output}\n",
    "```"
   ]
  },
  {
   "cell_type": "markdown",
   "metadata": {
    "slideshow": {
     "slide_type": "slide"
    }
   },
   "source": [
    "## Wildcards\n",
    "\n",
    "- Wildcards can be used to match filename patterns\n",
    "\n",
    "```python\n",
    "IDS, = glob_wildcards(\"{id}.fasta\")\n",
    "\n",
    "rule all:\n",
    "  input:\n",
    "    expand(\"{id}.fmt7\",id=IDS)\n",
    "```\n",
    "\n",
    "- We can also use *regular expressions* to match more complicated patterns\n",
    "\n",
    "```python\n",
    "IDS, = glob_wildcards(\"{id,[A-Z]{3}[0-9]+}.fasta\"\n",
    "```"
   ]
  },
  {
   "cell_type": "markdown",
   "metadata": {
    "slideshow": {
     "slide_type": "slide"
    }
   },
   "source": [
    "## More wildcards\n",
    "\n",
    "```python\n",
    "rule sort:\n",
    "    input:\n",
    "        \"{d1}.txt\"\n",
    "    output:\n",
    "        \"{d1}.sorted.txt\"\n",
    "    shell:\n",
    "        \"sort {input} > {output}\n",
    "```"
   ]
  },
  {
   "cell_type": "markdown",
   "metadata": {
    "slideshow": {
     "slide_type": "slide"
    }
   },
   "source": [
    "```python\n",
    "rule all:\n",
    "  input:\n",
    "    \"dataset.sorted.copied.txt\"\n",
    "\n",
    "rule sort:\n",
    "    input:\n",
    "        \"{d1}.txt\"\n",
    "    output:\n",
    "        \"{d1}.sorted.txt\"\n",
    "    shell:\n",
    "        \"sort {input} > {output}\n",
    "\n",
    "rule copy:\n",
    "    input:\n",
    "        \"{d1}.txt\"\n",
    "    output:\n",
    "        \"{d1}.copied.txt\"\n",
    "    shell:\n",
    "        \"cp {input} {output}\n",
    "```"
   ]
  },
  {
   "cell_type": "markdown",
   "metadata": {
    "slideshow": {
     "slide_type": "slide"
    }
   },
   "source": [
    "```python\n",
    "rule igblast:\n",
    "  input:\n",
    "    \"{d1}.fasta\"\n",
    "  output:\n",
    "    \"{d1}.fmt7\"\n",
    "  message:\n",
    "    \"Running IgBLAST on {input}\"\n",
    "  threads:\n",
    "    2\n",
    "  shell:\n",
    "    \"igblastn \\\n",
    "    -germline_db_V database/human_trb_v \\\n",
    "    -germline_db_D database/human_trb_d \\\n",
    "    -germline_db_J database/human_trb_j \\\n",
    "    -auxiliary_data optional_file/human_gl.aux \\\n",
    "    -domain_system imgt -ig_seqtype TCR \\\n",
    "    -organism human -outfmt '7 std qseq sseq btop' \\\n",
    "    -query {input} -out {output} \\\n",
    "    -num_threads {threads}\"\n",
    "```"
   ]
  },
  {
   "cell_type": "markdown",
   "metadata": {
    "slideshow": {
     "slide_type": "slide"
    }
   },
   "source": [
    "## Running Snakemake\n",
    "\n",
    "\n",
    "```bash\n",
    "snakemake \\\n",
    "  -j <number of threads> \\\n",
    "  -s <name of snakefile>\n",
    "```"
   ]
  },
  {
   "cell_type": "markdown",
   "metadata": {
    "slideshow": {
     "slide_type": "slide"
    }
   },
   "source": [
    "## Other features of Snakemake\n",
    "\n",
    "- Run Python code or R code instead of shell commands\n",
    "- Output script for use on SLURM clusters\n",
    "- Benchmarking"
   ]
  }
 ],
 "metadata": {
  "celltoolbar": "Slideshow",
  "kernelspec": {
   "display_name": "Python 3",
   "language": "python",
   "name": "python3"
  },
  "language_info": {
   "codemirror_mode": {
    "name": "ipython",
    "version": 3
   },
   "file_extension": ".py",
   "mimetype": "text/x-python",
   "name": "python",
   "nbconvert_exporter": "python",
   "pygments_lexer": "ipython3",
   "version": "3.5.2"
  }
 },
 "nbformat": 4,
 "nbformat_minor": 1
}
