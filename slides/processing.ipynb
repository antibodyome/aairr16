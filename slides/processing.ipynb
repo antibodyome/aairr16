{
 "cells": [
  {
   "cell_type": "markdown",
   "metadata": {
    "slideshow": {
     "slide_type": "slide"
    }
   },
   "source": [
    "# Processing"
   ]
  },
  {
   "cell_type": "markdown",
   "metadata": {
    "slideshow": {
     "slide_type": "slide"
    }
   },
   "source": [
    "## Sequence processing\n",
    "\n",
    "- Next-generation sequencing produces a large amount of sequence data\n",
    "- However, these data are not ideal\n",
    "  - Sequencing errors\n",
    "  - PCR bias\n",
    "- Sequence processing is a vital part of the workflow"
   ]
  },
  {
   "cell_type": "markdown",
   "metadata": {
    "slideshow": {
     "slide_type": "slide"
    }
   },
   "source": [
    "## Steps\n",
    "\n",
    "- QC\n",
    "  - Are the sequences high enough quality?\n",
    "- Read merging\n",
    "  - Paired end reads need to be merged into a single read\n",
    "- Processing of barcodes\n",
    "  - Demultiplexing samples on the basis of MIDs\n",
    "  - Identifying unique templates on the basis of UMIs"
   ]
  },
  {
   "cell_type": "markdown",
   "metadata": {
    "slideshow": {
     "slide_type": "slide"
    }
   },
   "source": [
    "## Software for processing\n",
    "\n",
    "- Many tools for processing of sequence reads:\n",
    "  - Trimmomatic, fastuniq\n",
    "- Some have been developed with repertoire sequencing in mind:\n",
    "  - pRESTO, MIGEC"
   ]
  },
  {
   "cell_type": "markdown",
   "metadata": {
    "slideshow": {
     "slide_type": "slide"
    }
   },
   "source": [
    "## pRESTO\n",
    "\n",
    "- Python library developed at the Kleinstein laboratory\n",
    "- Advantages\n",
    "  - Multiplatform and easy to install\n",
    "  - Well documented\n",
    "  - Highly configurable\n",
    "  - Can use multiple threads\n",
    "- Python can be slow compared to compiled languages"
   ]
  },
  {
   "cell_type": "markdown",
   "metadata": {
    "slideshow": {
     "slide_type": "slide"
    }
   },
   "source": [
    "## Example: Jiang et al. (2013) data\n",
    "\n",
    "- One of the worked examples in the pRESTO documentation\n",
    "  - [http://presto.readthedocs.io/en/latest/workflows/Jiang2013_Workflow.html](http://presto.readthedocs.io/en/latest/workflows/Jiang2013_Workflow.html)\n",
    "- Roche 454 sequencing of human IGH\n",
    "- Multiplexed using MID tags"
   ]
  },
  {
   "cell_type": "markdown",
   "metadata": {
    "slideshow": {
     "slide_type": "slide"
    }
   },
   "source": [
    "## Read configuration"
   ]
  },
  {
   "cell_type": "markdown",
   "metadata": {
    "slideshow": {
     "slide_type": "fragment"
    }
   },
   "source": [
    "![](Jiang2013_ReadConfiguration.svg)"
   ]
  },
  {
   "cell_type": "markdown",
   "metadata": {
    "slideshow": {
     "slide_type": "slide"
    }
   },
   "source": [
    "## Workflow"
   ]
  },
  {
   "cell_type": "markdown",
   "metadata": {
    "slideshow": {
     "slide_type": "fragment"
    }
   },
   "source": [
    "![](Jiang2013_Flowchart.svg)"
   ]
  },
  {
   "cell_type": "markdown",
   "metadata": {
    "slideshow": {
     "slide_type": "slide"
    }
   },
   "source": [
    "## Downloading the data from SRA\n",
    "\n",
    "- For this example, we already know the run accession, so we can download directly."
   ]
  },
  {
   "cell_type": "code",
   "execution_count": 1,
   "metadata": {
    "collapsed": false,
    "slideshow": {
     "slide_type": "fragment"
    }
   },
   "outputs": [
    {
     "name": "stdout",
     "output_type": "stream",
     "text": [
      "Read 277826 spots for SRR765688\r\n",
      "Written 277826 spots for SRR765688\r\n"
     ]
    }
   ],
   "source": [
    "!fastq-dump SRR765688"
   ]
  },
  {
   "cell_type": "markdown",
   "metadata": {
    "slideshow": {
     "slide_type": "slide"
    }
   },
   "source": [
    "## Filtering by length\n",
    "\n",
    "- Sequences are filted by length using the `FilterSeq.py length` command."
   ]
  },
  {
   "cell_type": "code",
   "execution_count": 2,
   "metadata": {
    "collapsed": false,
    "slideshow": {
     "slide_type": "fragment"
    }
   },
   "outputs": [
    {
     "name": "stdout",
     "output_type": "stream",
     "text": [
      "     START> FilterSeq\n",
      "   COMMAND> length\n",
      "      FILE> SRR765688.fastq\n",
      "     INNER> False\n",
      "MIN_LENGTH> 300\n",
      "     NPROC> 4\n",
      "\n",
      "PROGRESS> 22:39:02 [####################] 100% (277,826) 1.3 min\n",
      "\n",
      "   OUTPUT> SRR765688_length-pass.fastq\n",
      "SEQUENCES> 277826\n",
      "     PASS> 138107\n",
      "     FAIL> 139719\n",
      "      END> FilterSeq\n",
      "\n"
     ]
    }
   ],
   "source": [
    "!FilterSeq.py length -s SRR765688.fastq -n 300 --outname SRR765688 --log SRR765688.length.log"
   ]
  },
  {
   "cell_type": "markdown",
   "metadata": {
    "slideshow": {
     "slide_type": "slide"
    }
   },
   "source": [
    "## Length distribution"
   ]
  },
  {
   "cell_type": "markdown",
   "metadata": {
    "slideshow": {
     "slide_type": "fragment"
    }
   },
   "source": [
    "- The log produced can be parsed into a table using `ParseLog.py -l SRR765688.length.log -f ID LENGTH`."
   ]
  },
  {
   "cell_type": "code",
   "execution_count": 3,
   "metadata": {
    "collapsed": false,
    "slideshow": {
     "slide_type": "fragment"
    }
   },
   "outputs": [
    {
     "name": "stdout",
     "output_type": "stream",
     "text": [
      "START> ParseLog\n",
      " FILE> SRR765688.length.log\n",
      "\n",
      "PROGRESS> 22:39:05 (277826) 0.0 min\n",
      "\n",
      " OUTPUT> SRR765688.length_table.tab\n",
      "RECORDS> 277826\n",
      "   PASS> 277826\n",
      "   FAIL> 0\n",
      "    END> ParseLog\n",
      "\n"
     ]
    }
   ],
   "source": [
    "!ParseLog.py -l SRR765688.length.log -f ID LENGTH"
   ]
  },
  {
   "cell_type": "code",
   "execution_count": 4,
   "metadata": {
    "collapsed": false,
    "slideshow": {
     "slide_type": "slide"
    }
   },
   "outputs": [
    {
     "data": {
      "image/png": "[encoded data removed]",
      "text/plain": [
       "<matplotlib.figure.Figure at 0x7f18977a40b8>"
      ]
     },
     "metadata": {},
     "output_type": "display_data"
    }
   ],
   "source": [
    "import pandas as pd\n",
    "import matplotlib.pyplot as plt\n",
    "fsl=pd.read_csv(\"SRR765688.length_table.tab\",sep=\"\\t\")\n",
    "plt.hist(fsl[\"LENGTH\"])\n",
    "plt.show()"
   ]
  },
  {
   "cell_type": "code",
   "execution_count": 5,
   "metadata": {
    "collapsed": false,
    "slideshow": {
     "slide_type": "skip"
    }
   },
   "outputs": [
    {
     "name": "stdout",
     "output_type": "stream",
     "text": [
      "@SRR765688.2 HQP9GKT01DKDXX length=316\r\n",
      "AGTGCTACGAGGTGCAGCTGGTGGAGTCTGGGGGAGACGTGGTCCAGCCTGGGAGGTCCCTGAGACTCTCCTGTGCAGCCTCTGGATTCAGCTTCACCAACTATGCTATGCACTGGGTCCGCCAGGGTCCAGGCAAGGGGCTGGAGTGGGTGGCTTTGATTTCATATGATGGAAGCACTAAATTGTACGCAGACTCCGTGAAGGGCCGATTCACCATCTCCAGTGACATTTCCAAGAACACCCTGTATCTGCAAATGAACAGCCTGAGCGCTGACGACACGGCTGTTTATTACTGTGTGAGAGACAGGGTAGGGGG\r\n",
      "+\r\n",
      "FFFFFFFFFFFIIIIIIIIIIIFDBBBBA3333354BBABBDHIIIIIIIHHFFFFFFFFFFFFFFFFFFFFFFFFFFFFFFFFFFFFFFFFFFFFFFFFFFFFFFFFFFFFFF888<ADADDD???AFFFFFFFFADBBFFFFFFFFFFFFFFFFFFFFFFFFFFFFFF??:::ABBA313::DA:::ABDDDD:::?????????AFFFFFFFFFFFDCCDDDBBA;4444889444<;:::ABDDDDDA?CCCG555?DDDDDA???DDD=:::?DA544<?8840//008><<9<===88966.,-1...,,\r\n",
      "@SRR765688.28 HQP9GKT01AIGIR length=416\r\n",
      "AGTCGAGAGAGGGAATTCTCACAGGAGACGAGGGGAAGGGTAGGGCGGAGTGCACTCCTCGAGGAGACGGTGACCAGGGTTCCTCGGCCCACGTAGTCAAGCCAATAATAACTACCCGAACCACTAGTAATCCGAACTTCGTCTGGCACAGTAATACACGGCCGTGTCCGCGGCGGTCACAGAGCTCAGCTTCAGGGAGAACTGGTTCTTGGACCTGTCTACTGATATGGTGACTCGACTCTTGAGGGACGGGTTGTAGTAGGTGCTCCCACTATGATAGATGTACCCAATCCACTCCAGGCCCTTCCCTGGGGCTGCCGGAATCCAGCTCCAGTAGTAACTACCACTGCTGACGGAGCCACCAGAGACAGTTGCAGGTGAGGGACAGGGTCTCCGAAGGCTTCACCAGTCCTGGG\r\n",
      "+\r\n",
      "FFFFFFFFFD666==IGHHHHHFDFDDBA?9..,,55,,,/,,,,/,,:7:8::94248=44223234714141-/,,,----,,11,,,..=<<96424988624279553-,,,13..,,55767895--./211---31666899<@AAABB===B====AAAA::::<<FFFFFFFFFF@??ABB::::?444?:>><988@BBBB:::?DDFC;;;?FFFFFFFFF;;;??DDDDDDDA???FFFF;;CC>DDBBBBA?899111?<4444<AABB=<8::==A>988>=>86766,,,55,,,1,,,,3399;2244:ADDDDDDDAAADDDIIDDDDIIIDDDIDDDIDDDDDDD>>?DDDDD???DDD///=@888>?B=443=BDDDDD>=344DDDDDB@888886\r\n",
      "@SRR765688.68 HQP9GKT01C7HPI length=312\r\n",
      "AGTCGAGAGAGGCTCAGGACTGGTGAAGCCTTCACAGACCCTGTCCCTCACCTGCACTGTCTCTGGTGGCTCCATCAGCAGTGGTGGTTACTACTGGAGCTGGATCCGCCAACACCCAGGGAAGGGCCTGGAGTGGATTGGGTACATCTATTACAGTGGGAGCACCTACTACAACCCGTCCCTCAAGAGTCGAGTTACCATATCAGTAGACACGTCTAAGAACCAGTTCTCCCTGAAGCTGAGCTCTGTGACTGCCGCGGACACGGCCGTGTATTACTGTGCGAGAGATCAGGGGGAGGGTGGTTCGACCCC\r\n"
     ]
    }
   ],
   "source": [
    "!head SRR765688_length-pass.fastq"
   ]
  },
  {
   "cell_type": "markdown",
   "metadata": {
    "slideshow": {
     "slide_type": "slide"
    }
   },
   "source": [
    "## Filtering by (mean) quality\n",
    "\n",
    "- Sequences with mean Phred score less than a threshold are also excluded using `FilterSeq.py quality`."
   ]
  },
  {
   "cell_type": "code",
   "execution_count": 6,
   "metadata": {
    "collapsed": false,
    "slideshow": {
     "slide_type": "fragment"
    }
   },
   "outputs": [
    {
     "name": "stdout",
     "output_type": "stream",
     "text": [
      "   START> FilterSeq\n",
      " COMMAND> quality\n",
      "    FILE> SRR765688_length-pass.fastq\n",
      "   INNER> False\n",
      "MIN_QUAL> 20.0\n",
      "   NPROC> 4\n",
      "\n",
      "PROGRESS> 22:39:57 [####################] 100% (138,107) 0.8 min\n",
      "\n",
      "   OUTPUT> SRR765688_quality-pass.fastq\n",
      "SEQUENCES> 138107\n",
      "     PASS> 138096\n",
      "     FAIL> 11\n",
      "      END> FilterSeq\n",
      "\n"
     ]
    }
   ],
   "source": [
    "!FilterSeq.py quality -s SRR765688_length-pass.fastq -q 20 --outname SRR765688 --log SRR765688.quality.log"
   ]
  },
  {
   "cell_type": "markdown",
   "metadata": {
    "slideshow": {
     "slide_type": "slide"
    }
   },
   "source": [
    "## Distribution by quality"
   ]
  },
  {
   "cell_type": "code",
   "execution_count": 7,
   "metadata": {
    "collapsed": false,
    "slideshow": {
     "slide_type": "fragment"
    }
   },
   "outputs": [
    {
     "name": "stdout",
     "output_type": "stream",
     "text": [
      "START> ParseLog\n",
      " FILE> SRR765688.quality.log\n",
      "\n",
      "PROGRESS> 22:39:59 (138107) 0.0 min\n",
      "\n",
      " OUTPUT> SRR765688.quality_table.tab\n",
      "RECORDS> 138107\n",
      "   PASS> 138107\n",
      "   FAIL> 0\n",
      "    END> ParseLog\n",
      "\n"
     ]
    }
   ],
   "source": [
    "!ParseLog.py -l SRR765688.quality.log -f ID QUALITY"
   ]
  },
  {
   "cell_type": "code",
   "execution_count": 8,
   "metadata": {
    "collapsed": false,
    "slideshow": {
     "slide_type": "slide"
    }
   },
   "outputs": [
    {
     "data": {
      "image/png": "[encoded data removed]",
      "text/plain": [
       "<matplotlib.figure.Figure at 0x7f1897700588>"
      ]
     },
     "metadata": {},
     "output_type": "display_data"
    }
   ],
   "source": [
    "fsq=pd.read_csv(\"SRR765688.quality_table.tab\",sep=\"\\t\")\n",
    "plt.hist(fsq[\"QUALITY\"])\n",
    "plt.show()"
   ]
  },
  {
   "cell_type": "code",
   "execution_count": 9,
   "metadata": {
    "collapsed": false,
    "slideshow": {
     "slide_type": "skip"
    }
   },
   "outputs": [
    {
     "name": "stdout",
     "output_type": "stream",
     "text": [
      "@SRR765688.68 HQP9GKT01C7HPI length=312\r\n",
      "AGTCGAGAGAGGCTCAGGACTGGTGAAGCCTTCACAGACCCTGTCCCTCACCTGCACTGTCTCTGGTGGCTCCATCAGCAGTGGTGGTTACTACTGGAGCTGGATCCGCCAACACCCAGGGAAGGGCCTGGAGTGGATTGGGTACATCTATTACAGTGGGAGCACCTACTACAACCCGTCCCTCAAGAGTCGAGTTACCATATCAGTAGACACGTCTAAGAACCAGTTCTCCCTGAAGCTGAGCTCTGTGACTGCCGCGGACACGGCCGTGTATTACTGTGCGAGAGATCAGGGGGAGGGTGGTTCGACCCC\r\n",
      "+\r\n",
      "FFFFFFFFFFFIIIIIIIIIIIIIIIIIIIIIIIIIIIHHHIIIHHHIIIIIFFFFFFFFFFFFFFFFFFFFFFFFFFFFFFFFFFFFFFFFFFFFFFFFFFFFFFFFFFDDDFCC?D?FFFF888@@FFFFFFFFFFF@@@FFFFFFFFFFFFFFFFFFFFFFFFFFFFDDBB===5511168BBBBBDFFFFFFFFFFFFFFFFFFFFFFFDDDFFFFFDAAAADD?6666?AFFFFFFFFFFFFFF;:::DDDAA555?DCCCDDGGGGGGGDDDGDD???DCDC???77522<11.4/-..957....\r\n",
      "@SRR765688.184 HQP9GKT01DZ35R length=324\r\n",
      "AGTCGAGAGAGGTGCAGCTGGTGGAGTCCGGAGCAGAGGTGAAAAAGCCCGGGAGGTCTCTGAGGATCTCCTGTAAGGGTTCAGGATACAGGTTTACCTAACACTGGATCAGCTGGGTGCGCCAGATGCCCGGGAAAGGCCTGGAGTGGATGGGGAGGATTGATCCTAGTGACTCTTATACCAGCTACAGCCCGTCCTTCCAAGGCCACATCACCATCTCAGGCTGACAAGTCCATCAGCACTGCCTACCTGCAGTGGAGCAGCCTGAAGGCCTCGGACACCGCCATGTATTACTGTGCGAGACATCTTGTCCGATATGATGCC\r\n",
      "+\r\n",
      "FFFFFFFFFFFIIIIIIIIIIIIIIIIIIIIIIIIIHFFDD77777A333===A><??FFFFFFCDDDFFFCAABA<==81000.679:911,,,2--,--112=96799<==B===A<AABAA?BA?;8800088800449887;=;;=:00000..6;<==988:=A===<<<ABBAA=::::=BAA?;444<77<<66244488><<<>>=>??@@?9889?999=<<<==BBBBAAADAC:::ABAAAA<998898?><867:662222900000=>>?>>?@<==:889898?<==?A???AAB=5548<:99997---\r\n",
      "@SRR765688.110 HQP9GKT01AI2QV length=400\r\n",
      "AGTGCTACGAGGGTGTCTGCACCCTGATATGATGGGGAACACATCCGGAGCCTTGGTGGGTGCTGAGGAGACGGTGACCAGGGTGCCCTGGCCCCAGTGCTGGAAGGTAAGCCGGACGTAGCAGCTACCACCACTACAGGCGACGGACTCCCACCTCTTCTCGCACAGTAATACACAGCCGTCGTCCGCGGCGGTCACAGAGCTCAGCTTCAGGGAGAACTGGTTCCGTGACGTGTCTAGGGATATGGCAACTCGACTCTTGAGGGACGACATTGTAATAGGTGTCCCCACCCAGAATAGATATTTTCCAATCCACTCCAGGCCCTTCCCCTGGGGGGCTGACGGATCCAGCCCCACGTAGTGACTAGTAGTTCTGATGGAGGCACCAGAGACAGTTGCG\r\n"
     ]
    }
   ],
   "source": [
    "!head SRR765688_quality-pass.fastq"
   ]
  },
  {
   "cell_type": "markdown",
   "metadata": {
    "slideshow": {
     "slide_type": "slide"
    }
   },
   "source": [
    "## Cutting MIDs\n",
    "\n",
    "- MIDs can be cut or masked from the sequences using `MaskPrimers.py`\n",
    "- If we know where the primers start, we can use a simple scoring approach rather than full alignment."
   ]
  },
  {
   "cell_type": "code",
   "execution_count": 10,
   "metadata": {
    "collapsed": false,
    "slideshow": {
     "slide_type": "fragment"
    }
   },
   "outputs": [
    {
     "name": "stdout",
     "output_type": "stream",
     "text": [
      "      START> MaskPrimers\n",
      "    COMMAND> score\n",
      "   SEQ_FILE> SRR765688_quality-pass.fastq\n",
      "PRIMER_FILE> SRR765688_MIDs.fasta\n",
      "       MODE> cut\n",
      "    BARCODE> False\n",
      "  MAX_ERROR> 0.1\n",
      "  START_POS> 0\n",
      " REV_PRIMER> False\n",
      "      NPROC> 4\n",
      "\n",
      "PROGRESS> 22:41:10 [####################] 100% (138,096) 1.1 min\n",
      "\n",
      "   OUTPUT> SRR765688-MID_primers-pass.fastq\n",
      "SEQUENCES> 138096\n",
      "     PASS> 137087\n",
      "     FAIL> 1009\n",
      "      END> MaskPrimers\n",
      "\n"
     ]
    }
   ],
   "source": [
    "!MaskPrimers.py score -s SRR765688_quality-pass.fastq -p SRR765688_MIDs.fasta \\\n",
    "  --start 0 --maxerror 0.1 --mode cut --outname SRR765688-MID --log SRR765688.MID.log"
   ]
  },
  {
   "cell_type": "code",
   "execution_count": 11,
   "metadata": {
    "collapsed": false,
    "slideshow": {
     "slide_type": "slide"
    }
   },
   "outputs": [
    {
     "name": "stdout",
     "output_type": "stream",
     "text": [
      "START> ParseLog\n",
      " FILE> SRR765688.MID.log\n",
      "\n",
      "PROGRESS> 22:41:13 (138096) 0.0 min\n",
      "\n",
      " OUTPUT> SRR765688.MID_table.tab\n",
      "RECORDS> 138096\n",
      "   PASS> 138096\n",
      "   FAIL> 0\n",
      "    END> ParseLog\n",
      "\n"
     ]
    }
   ],
   "source": [
    "!ParseLog.py -l SRR765688.MID.log -f ID PRSTART PRIMER ERROR"
   ]
  },
  {
   "cell_type": "code",
   "execution_count": 12,
   "metadata": {
    "collapsed": false,
    "slideshow": {
     "slide_type": "slide"
    }
   },
   "outputs": [
    {
     "data": {
      "text/plain": [
       "MID54    72900\n",
       "MID53    64188\n",
       "MID52      996\n",
       "MID51       12\n",
       "Name: PRIMER, dtype: int64"
      ]
     },
     "execution_count": 12,
     "metadata": {},
     "output_type": "execute_result"
    }
   ],
   "source": [
    "mid=pd.read_csv(\"SRR765688.MID_table.tab\",sep=\"\\t\")\n",
    "mid[\"PRIMER\"].value_counts()"
   ]
  },
  {
   "cell_type": "code",
   "execution_count": 13,
   "metadata": {
    "collapsed": false,
    "slideshow": {
     "slide_type": "slide"
    }
   },
   "outputs": [
    {
     "name": "stdout",
     "output_type": "stream",
     "text": [
      "@SRR765688.184 HQP9GKT01DZ35R length=324|SEQORIENT=F|PRIMER=MID53\r\n",
      "GGTGCAGCTGGTGGAGTCCGGAGCAGAGGTGAAAAAGCCCGGGAGGTCTCTGAGGATCTCCTGTAAGGGTTCAGGATACAGGTTTACCTAACACTGGATCAGCTGGGTGCGCCAGATGCCCGGGAAAGGCCTGGAGTGGATGGGGAGGATTGATCCTAGTGACTCTTATACCAGCTACAGCCCGTCCTTCCAAGGCCACATCACCATCTCAGGCTGACAAGTCCATCAGCACTGCCTACCTGCAGTGGAGCAGCCTGAAGGCCTCGGACACCGCCATGTATTACTGTGCGAGACATCTTGTCCGATATGATGCC\r\n",
      "+\r\n",
      "FIIIIIIIIIIIIIIIIIIIIIIIIIHFFDD77777A333===A><??FFFFFFCDDDFFFCAABA<==81000.679:911,,,2--,--112=96799<==B===A<AABAA?BA?;8800088800449887;=;;=:00000..6;<==988:=A===<<<ABBAA=::::=BAA?;444<77<<66244488><<<>>=>??@@?9889?999=<<<==BBBBAAADAC:::ABAAAA<998898?><867:662222900000=>>?>>?@<==:889898?<==?A???AAB=5548<:99997---\r\n",
      "@SRR765688.139 HQP9GKT01BRK5Z length=328|SEQORIENT=F|PRIMER=MID53\r\n",
      "TGGAGCTGAGTGAAGAAGCCTGGTCCTCGGTGAAGGTCTCCTGCAAGGCTTTCTGGAGGCACCTTCAGCAGCTATGCTATCAGCTGGGTNCGACAGGCCCCTGGACAAGGCTTGAGTGGATGGGAAGGATCATCCCTATCCTTGGTATAGCAAACTACGCACAGAAGTTTCCAGGGCANAGTCACGATTACCGCGGACAAAATCCACGAGCACAGCCTTACATGGAGCTGAGCAGCCTGAGATCTGAGGACACGGCCGTGTATTACTGTGCGAGTCTTATAGCAGCTAGCGGGGGACCCACTACTACTACTACGGTAT\r\n",
      "+\r\n",
      "FIDEFDB?9873223,,/-14512--/,--2,----7:9222:=<<;2/..040;6766:?<<333:BDDDBBBBDFC????ADD???B!AAAAAAA66449>=99444276677571247...22228::::688=911133??BBBBDDFFFFA@@DBAA@<<<80....:666:4!34<?989811048?><?<80011?@@444?@BFFFFFF;;;CFFFFF?:::?DDDD:::::FFC??=ABDDDA:::??AADDDDDAAAADAAAB55555@@?><=:77733--,,,-1119476688?=<844266962\r\n",
      "@SRR765688.2 HQP9GKT01DKDXX length=316|SEQORIENT=F|PRIMER=MID54\r\n",
      "GGTGCAGCTGGTGGAGTCTGGGGGAGACGTGGTCCAGCCTGGGAGGTCCCTGAGACTCTCCTGTGCAGCCTCTGGATTCAGCTTCACCAACTATGCTATGCACTGGGTCCGCCAGGGTCCAGGCAAGGGGCTGGAGTGGGTGGCTTTGATTTCATATGATGGAAGCACTAAATTGTACGCAGACTCCGTGAAGGGCCGATTCACCATCTCCAGTGACATTTCCAAGAACACCCTGTATCTGCAAATGAACAGCCTGAGCGCTGACGACACGGCTGTTTATTACTGTGTGAGAGACAGGGTAGGGGG\r\n"
     ]
    }
   ],
   "source": [
    "!head SRR765688-MID_primers-pass.fastq"
   ]
  },
  {
   "cell_type": "markdown",
   "metadata": {
    "slideshow": {
     "slide_type": "slide"
    }
   },
   "source": [
    "## Masking forward primers\n",
    "\n",
    "- Aligns primers against sequence\n",
    "- Corrections orientation such that all sequences are in the direction of the V(D)J reading frame"
   ]
  },
  {
   "cell_type": "code",
   "execution_count": 14,
   "metadata": {
    "collapsed": false,
    "slideshow": {
     "slide_type": "fragment"
    }
   },
   "outputs": [
    {
     "name": "stdout",
     "output_type": "stream",
     "text": [
      "      START> MaskPrimers\n",
      "    COMMAND> align\n",
      "   SEQ_FILE> SRR765688-MID_primers-pass.fastq\n",
      "PRIMER_FILE> SRX190717_VPrimers.fasta\n",
      "       MODE> mask\n",
      "    BARCODE> False\n",
      "  MAX_ERROR> 0.3\n",
      "    MAX_LEN> 50\n",
      " REV_PRIMER> False\n",
      "    SKIP_RC> False\n",
      "GAP_PENALTY> 1, 1\n",
      "      NPROC> 4\n",
      "\n",
      "PROGRESS> 23:22:05 [####################] 100% (137,087) 40.9 min\n",
      "\n",
      "   OUTPUT> SRR765688-FWD_primers-pass.fastq\n",
      "SEQUENCES> 137087\n",
      "     PASS> 105746\n",
      "     FAIL> 31341\n",
      "      END> MaskPrimers\n",
      "\n"
     ]
    }
   ],
   "source": [
    "!MaskPrimers.py align -s SRR765688-MID_primers-pass.fastq -p SRX190717_VPrimers.fasta \\\n",
    "    --maxlen 50 --maxerror 0.3 --mode mask --outname SRR765688-FWD --log SRR765688.FWD.log"
   ]
  },
  {
   "cell_type": "code",
   "execution_count": 15,
   "metadata": {
    "collapsed": false,
    "slideshow": {
     "slide_type": "slide"
    }
   },
   "outputs": [
    {
     "name": "stdout",
     "output_type": "stream",
     "text": [
      "START> ParseLog\n",
      " FILE> SRR765688.FWD.log\n",
      "\n",
      "PROGRESS> 23:22:11 (137087) 0.1 min\n",
      "\n",
      " OUTPUT> SRR765688.FWD_table.tab\n",
      "RECORDS> 137087\n",
      "   PASS> 137087\n",
      "   FAIL> 0\n",
      "    END> ParseLog\n",
      "\n"
     ]
    }
   ],
   "source": [
    "!ParseLog.py -l SRR765688.FWD.log -f ID PRSTART PRIMER ERROR"
   ]
  },
  {
   "cell_type": "code",
   "execution_count": 16,
   "metadata": {
    "collapsed": false,
    "slideshow": {
     "slide_type": "slide"
    }
   },
   "outputs": [
    {
     "data": {
      "text/plain": [
       "LR5     20893\n",
       "LR9     17915\n",
       "LR2     17355\n",
       "LR11    14701\n",
       "LR7     14468\n",
       "LR3     12786\n",
       "LR1     11886\n",
       "LR10     7744\n",
       "LR6      7347\n",
       "LR4      6547\n",
       "LR8      5445\n",
       "Name: PRIMER, dtype: int64"
      ]
     },
     "execution_count": 16,
     "metadata": {},
     "output_type": "execute_result"
    }
   ],
   "source": [
    "fwd=pd.read_csv(\"SRR765688.FWD_table.tab\",sep=\"\\t\")\n",
    "fwd[\"PRIMER\"].value_counts()"
   ]
  },
  {
   "cell_type": "code",
   "execution_count": 17,
   "metadata": {
    "collapsed": false,
    "slideshow": {
     "slide_type": "skip"
    }
   },
   "outputs": [
    {
     "name": "stdout",
     "output_type": "stream",
     "text": [
      "@SRR765688.2 HQP9GKT01DKDXX length=316|SEQORIENT=F,F|PRIMER=MID54,LR11\r\n",
      "NNNNNNNNNNNNNNNNNNTGGGGGAGACGTGGTCCAGCCTGGGAGGTCCCTGAGACTCTCCTGTGCAGCCTCTGGATTCAGCTTCACCAACTATGCTATGCACTGGGTCCGCCAGGGTCCAGGCAAGGGGCTGGAGTGGGTGGCTTTGATTTCATATGATGGAAGCACTAAATTGTACGCAGACTCCGTGAAGGGCCGATTCACCATCTCCAGTGACATTTCCAAGAACACCCTGTATCTGCAAATGAACAGCCTGAGCGCTGACGACACGGCTGTTTATTACTGTGTGAGAGACAGGGTAGGGGG\r\n",
      "+\r\n",
      "!!!!!!!!!!!!!!!!!!A3333354BBABBDHIIIIIIIHHFFFFFFFFFFFFFFFFFFFFFFFFFFFFFFFFFFFFFFFFFFFFFFFFFFFFFFFFFFFFFF888<ADADDD???AFFFFFFFFADBBFFFFFFFFFFFFFFFFFFFFFFFFFFFFFF??:::ABBA313::DA:::ABDDDD:::?????????AFFFFFFFFFFFDCCDDDBBA;4444889444<;:::ABDDDDDA?CCCG555?DDDDDA???DDD=:::?DA544<?8840//008><<9<===88966.,-1...,,\r\n",
      "@SRR765688.184 HQP9GKT01DZ35R length=324|SEQORIENT=F,F|PRIMER=MID53,LR11\r\n",
      "NNNNNNNNNNNNNNNNNNCGGAGCAGAGGTGAAAAAGCCCGGGAGGTCTCTGAGGATCTCCTGTAAGGGTTCAGGATACAGGTTTACCTAACACTGGATCAGCTGGGTGCGCCAGATGCCCGGGAAAGGCCTGGAGTGGATGGGGAGGATTGATCCTAGTGACTCTTATACCAGCTACAGCCCGTCCTTCCAAGGCCACATCACCATCTCAGGCTGACAAGTCCATCAGCACTGCCTACCTGCAGTGGAGCAGCCTGAAGGCCTCGGACACCGCCATGTATTACTGTGCGAGACATCTTGTCCGATATGATGCC\r\n",
      "+\r\n",
      "!!!!!!!!!!!!!!!!!!IIIIIIIIHFFDD77777A333===A><??FFFFFFCDDDFFFCAABA<==81000.679:911,,,2--,--112=96799<==B===A<AABAA?BA?;8800088800449887;=;;=:00000..6;<==988:=A===<<<ABBAA=::::=BAA?;444<77<<66244488><<<>>=>??@@?9889?999=<<<==BBBBAAADAC:::ABAAAA<998898?><867:662222900000=>>?>>?@<==:889898?<==?A???AAB=5548<:99997---\r\n",
      "@SRR765688.201 HQP9GKT01BFZ4K length=304|SEQORIENT=F,F|PRIMER=MID53,LR5\r\n",
      "NNNNNNNNNNNNNNNNNNNNGGGAGTCTCTGAGGATCTCCTGTAAGGTTCTGATACAGCTTTACCAGCTACTGGATCAGCTGGGTGCGCCAGATGCCCGGGAAAGCTGAGTGGATGGGAGGATTGATCCTAGTGACTCTTATACCAACTACAGCCCGTCCTTCCAAAGGCACGTCACCATCTCAGGCTGACAAGTCCATCAGCACTTGCCTACCTGCAGTGGAGCAGCCTGAAGGCCTCGGACACCGCCATTGTATTACTGTGCGAAGGCATGAACTCGGTGACTTCTGGGGCC\r\n"
     ]
    }
   ],
   "source": [
    "!head SRR765688-FWD_primers-pass.fastq"
   ]
  },
  {
   "cell_type": "markdown",
   "metadata": {
    "slideshow": {
     "slide_type": "slide"
    }
   },
   "source": [
    "## Masking reverse primers"
   ]
  },
  {
   "cell_type": "code",
   "execution_count": 18,
   "metadata": {
    "collapsed": false,
    "slideshow": {
     "slide_type": "fragment"
    }
   },
   "outputs": [
    {
     "name": "stdout",
     "output_type": "stream",
     "text": [
      "      START> MaskPrimers\n",
      "    COMMAND> align\n",
      "   SEQ_FILE> SRR765688-FWD_primers-pass.fastq\n",
      "PRIMER_FILE> SRX190717_CPrimers.fasta\n",
      "       MODE> cut\n",
      "    BARCODE> False\n",
      "  MAX_ERROR> 0.3\n",
      "    MAX_LEN> 50\n",
      " REV_PRIMER> True\n",
      "    SKIP_RC> True\n",
      "GAP_PENALTY> 1, 1\n",
      "      NPROC> 4\n",
      "\n",
      "PROGRESS> 23:55:39 [####################] 100% (105,746) 33.4 min\n",
      "\n",
      "   OUTPUT> SRR765688-REV_primers-pass.fastq\n",
      "SEQUENCES> 105746\n",
      "     PASS> 56136\n",
      "     FAIL> 49610\n",
      "      END> MaskPrimers\n",
      "\n"
     ]
    }
   ],
   "source": [
    "!MaskPrimers.py align -s SRR765688-FWD_primers-pass.fastq -p SRX190717_CPrimers.fasta \\\n",
    "    --maxlen 50 --maxerror 0.3 --revpr --skiprc --mode cut \\\n",
    "    --outname SRR765688-REV --log SRR765688.REV.log"
   ]
  },
  {
   "cell_type": "code",
   "execution_count": 19,
   "metadata": {
    "collapsed": false,
    "slideshow": {
     "slide_type": "slide"
    }
   },
   "outputs": [
    {
     "name": "stdout",
     "output_type": "stream",
     "text": [
      "@SRR765688.28 HQP9GKT01AIGIR length=416|SEQORIENT=F,RC,F|PRIMER=MID53,LR7,IgM-PCR\r\n",
      "NNNNNNNNNNNNNNNNNNNNCCCTGTCCCTCACCTGCAACTGTCTCTGGTGGCTCCGTCAGCAGTGGTAGTTACTACTGGAGCTGGATTCCGGCAGCCCCAGGGAAGGGCCTGGAGTGGATTGGGTACATCTATCATAGTGGGAGCACCTACTACAACCCGTCCCTCAAGAGTCGAGTCACCATATCAGTAGACAGGTCCAAGAACCAGTTCTCCCTGAAGCTGAGCTCTGTGACCGCCGCGGACACGGCCGTGTATTACTGTGCCAGACGAAGTTCGGATTACTAGTGGTTCGGGTAGTTATTATTGGCTTGACTACGTGGGCCGAGGAACCCTGGTCACCGTCTCCTCGAGGAGTGCACTCCGCCCTACCCTTCCCCT\r\n",
      "+\r\n",
      "!!!!!!!!!!!!!!!!!!!!44=B?>888@=///DDD???DDDDD?>>DDDDDDDIDDDIDDDIIIDDDDIIDDDAAADDDDDDDA:4422;9933,,,,1,,,55,,,66768>=>889>A==::8<=BBAA<4444<?111998?ABBBBDD>CC;;FFFF???ADDDDDDD??;;;FFFFFFFFF?;;;CFDD?:::BBBB@889<>>:?444?::::BBA??@FFFFFFFFFF<<::::AAAA====B===BBAAA@<99866613---112/.--59876755,,..31,,,-35597242688942469<<=..,,,11,,----,,,/-14141743232244=84249::8:7:,,/,,,,/,,,55,,..9\r\n",
      "@SRR765688.200 HQP9GKT01DRKX5 length=362|SEQORIENT=F,F,F|PRIMER=MID53,LR5,IgA-PCR\r\n",
      "NNNNNNNNNNNNNNNNNNNNNCCGGGCAGTCTCTGAAGATCTCGTGTAAGGATTCTGGATACAACTTTGCCAACTATTGGATCGGCTGGGTGCGCCAGATGCCCGGGAAAGGCCTGGAGTGGATGGGAATCATCTATCCTCATAACTCTGACACCATATACAGCCCGTCCTTCCAAGGCCAGGTCACCATCTCAGCCGACAAGTCCATCACCACCGCCTACCTGCAGTGGAGCAGCCTGAAGGCCTCGGACACCGCCATGTATTACTGTGCGAGACCATACGATTTGGACGTCTGGGGCCAAGGGACCACGGTCACCGTCTCCTCAGCATTCCCG\r\n",
      "+\r\n",
      "!!!!!!!!!!!!!!!!!!!!!BBBBCIIIIIIIIIIIIIIIIIIIICCCCCGGGIIIIIIIIIIIHHHIIIIIIIIIIIIIIIIIIIHHHIIIIIIIIIII???HCC;;;DDIIIIIIIIIIII;;;??IIIIIIIIIIIIIG;;;GIIIIIIIIIIIGGGIIBBB;7//1///999==9547BBCCIIIIIIIIIIGGGIIIIIIIIIIIIIIIGGGG????IIIIIIIIIIIIIIIIIIIIIIIIEECCC???EEIIIIIHCCCFIIIIGCCCGIIIIIIHIGG???CIIIE<<<<CC:::::>BGEECCCII???GIIIIIIIIIIIIH???\r\n",
      "@SRR765688.244 HQP9GKT01AGCP9 length=314|SEQORIENT=F,F,F|PRIMER=MID53,LR4,IgD-PCR\r\n",
      "NNNNNNNNNNNNNNNNNNNCTTCGGAGACCCTGTCCCTCACCTGCACTGTGTCTGGTGGCTCCATCACCAATAGTCTTTACTACTGGGGCTGGATCCGCCAGTTTCCCAGGGAAGGGACTGGAGTGGACTGGGAGTATCTATCATGGGTGGGAAACACCCACTATAACCCGTCCTCAAGAGTCGAGTCACCATTTTCGTAGACACGTCCAAGAACCAATTCTCCCTGAAGTTGAACTCTGTGACTGCCGCAGACACGGCTGTT\r\n"
     ]
    }
   ],
   "source": [
    "!head SRR765688-REV_primers-pass.fastq"
   ]
  },
  {
   "cell_type": "code",
   "execution_count": 20,
   "metadata": {
    "collapsed": false,
    "slideshow": {
     "slide_type": "slide"
    }
   },
   "outputs": [
    {
     "name": "stdout",
     "output_type": "stream",
     "text": [
      "START> ParseLog\n",
      " FILE> SRR765688.REV.log\n",
      "\n",
      "PROGRESS> 23:55:53 (105746) 0.2 min\n",
      "\n",
      " OUTPUT> SRR765688.REV_table.tab\n",
      "RECORDS> 105746\n",
      "   PASS> 105746\n",
      "   FAIL> 0\n",
      "    END> ParseLog\n",
      "\n"
     ]
    }
   ],
   "source": [
    "!ParseLog.py -l SRR765688.REV.log -f ID PRSTART PRIMER ERROR"
   ]
  },
  {
   "cell_type": "markdown",
   "metadata": {
    "collapsed": true,
    "slideshow": {
     "slide_type": "slide"
    }
   },
   "source": [
    "## Frequency of reverse primers"
   ]
  },
  {
   "cell_type": "code",
   "execution_count": 21,
   "metadata": {
    "collapsed": false,
    "slideshow": {
     "slide_type": "fragment"
    }
   },
   "outputs": [
    {
     "data": {
      "text/plain": [
       "IgM-PCR    30132\n",
       "IgG-PCR    28881\n",
       "IgA-PCR    21868\n",
       "IgD-PCR    16291\n",
       "IgE-PCR     8574\n",
       "Name: PRIMER, dtype: int64"
      ]
     },
     "execution_count": 21,
     "metadata": {},
     "output_type": "execute_result"
    }
   ],
   "source": [
    "rev=pd.read_csv(\"SRR765688.REV_table.tab\",sep=\"\\t\")\n",
    "rev[\"PRIMER\"].value_counts()"
   ]
  },
  {
   "cell_type": "markdown",
   "metadata": {
    "slideshow": {
     "slide_type": "slide"
    }
   },
   "source": [
    "## Editing the sequence headers"
   ]
  },
  {
   "cell_type": "code",
   "execution_count": 22,
   "metadata": {
    "collapsed": false,
    "slideshow": {
     "slide_type": "fragment"
    }
   },
   "outputs": [
    {
     "name": "stdout",
     "output_type": "stream",
     "text": [
      "@SRR765688.28 HQP9GKT01AIGIR length=416|SEQORIENT=F,RC,F|PRIMER=MID53,LR7,IgM-PCR\r\n",
      "NNNNNNNNNNNNNNNNNNNNCCCTGTCCCTCACCTGCAACTGTCTCTGGTGGCTCCGTCAGCAGTGGTAGTTACTACTGGAGCTGGATTCCGGCAGCCCCAGGGAAGGGCCTGGAGTGGATTGGGTACATCTATCATAGTGGGAGCACCTACTACAACCCGTCCCTCAAGAGTCGAGTCACCATATCAGTAGACAGGTCCAAGAACCAGTTCTCCCTGAAGCTGAGCTCTGTGACCGCCGCGGACACGGCCGTGTATTACTGTGCCAGACGAAGTTCGGATTACTAGTGGTTCGGGTAGTTATTATTGGCTTGACTACGTGGGCCGAGGAACCCTGGTCACCGTCTCCTCGAGGAGTGCACTCCGCCCTACCCTTCCCCT\r\n",
      "+\r\n",
      "!!!!!!!!!!!!!!!!!!!!44=B?>888@=///DDD???DDDDD?>>DDDDDDDIDDDIDDDIIIDDDDIIDDDAAADDDDDDDA:4422;9933,,,,1,,,55,,,66768>=>889>A==::8<=BBAA<4444<?111998?ABBBBDD>CC;;FFFF???ADDDDDDD??;;;FFFFFFFFF?;;;CFDD?:::BBBB@889<>>:?444?::::BBA??@FFFFFFFFFF<<::::AAAA====B===BBAAA@<99866613---112/.--59876755,,..31,,,-35597242688942469<<=..,,,11,,----,,,/-14141743232244=84249::8:7:,,/,,,,/,,,55,,..9\r\n",
      "@SRR765688.200 HQP9GKT01DRKX5 length=362|SEQORIENT=F,F,F|PRIMER=MID53,LR5,IgA-PCR\r\n",
      "NNNNNNNNNNNNNNNNNNNNNCCGGGCAGTCTCTGAAGATCTCGTGTAAGGATTCTGGATACAACTTTGCCAACTATTGGATCGGCTGGGTGCGCCAGATGCCCGGGAAAGGCCTGGAGTGGATGGGAATCATCTATCCTCATAACTCTGACACCATATACAGCCCGTCCTTCCAAGGCCAGGTCACCATCTCAGCCGACAAGTCCATCACCACCGCCTACCTGCAGTGGAGCAGCCTGAAGGCCTCGGACACCGCCATGTATTACTGTGCGAGACCATACGATTTGGACGTCTGGGGCCAAGGGACCACGGTCACCGTCTCCTCAGCATTCCCG\r\n",
      "+\r\n",
      "!!!!!!!!!!!!!!!!!!!!!BBBBCIIIIIIIIIIIIIIIIIIIICCCCCGGGIIIIIIIIIIIHHHIIIIIIIIIIIIIIIIIIIHHHIIIIIIIIIII???HCC;;;DDIIIIIIIIIIII;;;??IIIIIIIIIIIIIG;;;GIIIIIIIIIIIGGGIIBBB;7//1///999==9547BBCCIIIIIIIIIIGGGIIIIIIIIIIIIIIIGGGG????IIIIIIIIIIIIIIIIIIIIIIIIEECCC???EEIIIIIHCCCFIIIIGCCCGIIIIIIHIGG???CIIIE<<<<CC:::::>BGEECCCII???GIIIIIIIIIIIIH???\r\n",
      "@SRR765688.244 HQP9GKT01AGCP9 length=314|SEQORIENT=F,F,F|PRIMER=MID53,LR4,IgD-PCR\r\n",
      "NNNNNNNNNNNNNNNNNNNCTTCGGAGACCCTGTCCCTCACCTGCACTGTGTCTGGTGGCTCCATCACCAATAGTCTTTACTACTGGGGCTGGATCCGCCAGTTTCCCAGGGAAGGGACTGGAGTGGACTGGGAGTATCTATCATGGGTGGGAAACACCCACTATAACCCGTCCTCAAGAGTCGAGTCACCATTTTCGTAGACACGTCCAAGAACCAATTCTCCCTGAAGTTGAACTCTGTGACTGCCGCAGACACGGCTGTT\r\n"
     ]
    }
   ],
   "source": [
    "!head SRR765688-REV_primers-pass.fastq"
   ]
  },
  {
   "cell_type": "code",
   "execution_count": 23,
   "metadata": {
    "collapsed": false,
    "slideshow": {
     "slide_type": "slide"
    }
   },
   "outputs": [
    {
     "name": "stdout",
     "output_type": "stream",
     "text": [
      "  START> ParseHeaders\n",
      "COMMAND> expand\n",
      "   FILE> SRR765688-REV_primers-pass.fastq\n",
      " FIELDS> PRIMER\n",
      "\n",
      "PROGRESS> 23:56:37 [####################] 100% (56,136) 0.7 min\n",
      "\n",
      "   OUTPUT> SRR765688-REV_primers-pass_reheader.fastq\n",
      "SEQUENCES> 56136\n",
      "      END> ParseHeaders\n",
      "\n"
     ]
    }
   ],
   "source": [
    "!ParseHeaders.py expand -s SRR765688-REV_primers-pass.fastq -f PRIMER"
   ]
  },
  {
   "cell_type": "code",
   "execution_count": 24,
   "metadata": {
    "collapsed": false,
    "slideshow": {
     "slide_type": "slide"
    }
   },
   "outputs": [
    {
     "name": "stdout",
     "output_type": "stream",
     "text": [
      "@SRR765688.28 HQP9GKT01AIGIR length=416|SEQORIENT=F,RC,F|PRIMER1=MID53|PRIMER2=LR7|PRIMER3=IgM-PCR\r\n",
      "NNNNNNNNNNNNNNNNNNNNCCCTGTCCCTCACCTGCAACTGTCTCTGGTGGCTCCGTCAGCAGTGGTAGTTACTACTGGAGCTGGATTCCGGCAGCCCCAGGGAAGGGCCTGGAGTGGATTGGGTACATCTATCATAGTGGGAGCACCTACTACAACCCGTCCCTCAAGAGTCGAGTCACCATATCAGTAGACAGGTCCAAGAACCAGTTCTCCCTGAAGCTGAGCTCTGTGACCGCCGCGGACACGGCCGTGTATTACTGTGCCAGACGAAGTTCGGATTACTAGTGGTTCGGGTAGTTATTATTGGCTTGACTACGTGGGCCGAGGAACCCTGGTCACCGTCTCCTCGAGGAGTGCACTCCGCCCTACCCTTCCCCT\r\n",
      "+\r\n",
      "!!!!!!!!!!!!!!!!!!!!44=B?>888@=///DDD???DDDDD?>>DDDDDDDIDDDIDDDIIIDDDDIIDDDAAADDDDDDDA:4422;9933,,,,1,,,55,,,66768>=>889>A==::8<=BBAA<4444<?111998?ABBBBDD>CC;;FFFF???ADDDDDDD??;;;FFFFFFFFF?;;;CFDD?:::BBBB@889<>>:?444?::::BBA??@FFFFFFFFFF<<::::AAAA====B===BBAAA@<99866613---112/.--59876755,,..31,,,-35597242688942469<<=..,,,11,,----,,,/-14141743232244=84249::8:7:,,/,,,,/,,,55,,..9\r\n",
      "@SRR765688.200 HQP9GKT01DRKX5 length=362|SEQORIENT=F,F,F|PRIMER1=MID53|PRIMER2=LR5|PRIMER3=IgA-PCR\r\n",
      "NNNNNNNNNNNNNNNNNNNNNCCGGGCAGTCTCTGAAGATCTCGTGTAAGGATTCTGGATACAACTTTGCCAACTATTGGATCGGCTGGGTGCGCCAGATGCCCGGGAAAGGCCTGGAGTGGATGGGAATCATCTATCCTCATAACTCTGACACCATATACAGCCCGTCCTTCCAAGGCCAGGTCACCATCTCAGCCGACAAGTCCATCACCACCGCCTACCTGCAGTGGAGCAGCCTGAAGGCCTCGGACACCGCCATGTATTACTGTGCGAGACCATACGATTTGGACGTCTGGGGCCAAGGGACCACGGTCACCGTCTCCTCAGCATTCCCG\r\n",
      "+\r\n",
      "!!!!!!!!!!!!!!!!!!!!!BBBBCIIIIIIIIIIIIIIIIIIIICCCCCGGGIIIIIIIIIIIHHHIIIIIIIIIIIIIIIIIIIHHHIIIIIIIIIII???HCC;;;DDIIIIIIIIIIII;;;??IIIIIIIIIIIIIG;;;GIIIIIIIIIIIGGGIIBBB;7//1///999==9547BBCCIIIIIIIIIIGGGIIIIIIIIIIIIIIIGGGG????IIIIIIIIIIIIIIIIIIIIIIIIEECCC???EEIIIIIHCCCFIIIIGCCCGIIIIIIHIGG???CIIIE<<<<CC:::::>BGEECCCII???GIIIIIIIIIIIIH???\r\n",
      "@SRR765688.244 HQP9GKT01AGCP9 length=314|SEQORIENT=F,F,F|PRIMER1=MID53|PRIMER2=LR4|PRIMER3=IgD-PCR\r\n",
      "NNNNNNNNNNNNNNNNNNNCTTCGGAGACCCTGTCCCTCACCTGCACTGTGTCTGGTGGCTCCATCACCAATAGTCTTTACTACTGGGGCTGGATCCGCCAGTTTCCCAGGGAAGGGACTGGAGTGGACTGGGAGTATCTATCATGGGTGGGAAACACCCACTATAACCCGTCCTCAAGAGTCGAGTCACCATTTTCGTAGACACGTCCAAGAACCAATTCTCCCTGAAGTTGAACTCTGTGACTGCCGCAGACACGGCTGTT\r\n"
     ]
    }
   ],
   "source": [
    "!head SRR765688-REV_primers-pass_reheader.fastq"
   ]
  },
  {
   "cell_type": "code",
   "execution_count": 25,
   "metadata": {
    "collapsed": false,
    "slideshow": {
     "slide_type": "slide"
    }
   },
   "outputs": [
    {
     "name": "stdout",
     "output_type": "stream",
     "text": [
      "  START> ParseHeaders\n",
      "COMMAND> rename\n",
      "   FILE> SRR765688-REV_primers-pass_reheader.fastq\n",
      "ACTIONS> None\n",
      " FIELDS> PRIMER1,PRIMER2,PRIMER3\n",
      "  NAMES> MID,VPRIMER,CPRIMER\n",
      "\n",
      "PROGRESS> 23:57:23 [####################] 100% (56,136) 0.7 min\n",
      "\n",
      "   OUTPUT> SRR765688_reheader.fastq\n",
      "SEQUENCES> 56136\n",
      "      END> ParseHeaders\n",
      "\n"
     ]
    }
   ],
   "source": [
    "!ParseHeaders.py rename -s SRR765688-REV_primers-pass_reheader.fastq -f PRIMER1 PRIMER2 PRIMER3 \\\n",
    "    -k MID VPRIMER CPRIMER --outname SRR765688"
   ]
  },
  {
   "cell_type": "code",
   "execution_count": 26,
   "metadata": {
    "collapsed": false,
    "slideshow": {
     "slide_type": "slide"
    }
   },
   "outputs": [
    {
     "name": "stdout",
     "output_type": "stream",
     "text": [
      "@SRR765688.28 HQP9GKT01AIGIR length=416|SEQORIENT=F,RC,F|MID=MID53|VPRIMER=LR7|CPRIMER=IgM-PCR\r\n",
      "NNNNNNNNNNNNNNNNNNNNCCCTGTCCCTCACCTGCAACTGTCTCTGGTGGCTCCGTCAGCAGTGGTAGTTACTACTGGAGCTGGATTCCGGCAGCCCCAGGGAAGGGCCTGGAGTGGATTGGGTACATCTATCATAGTGGGAGCACCTACTACAACCCGTCCCTCAAGAGTCGAGTCACCATATCAGTAGACAGGTCCAAGAACCAGTTCTCCCTGAAGCTGAGCTCTGTGACCGCCGCGGACACGGCCGTGTATTACTGTGCCAGACGAAGTTCGGATTACTAGTGGTTCGGGTAGTTATTATTGGCTTGACTACGTGGGCCGAGGAACCCTGGTCACCGTCTCCTCGAGGAGTGCACTCCGCCCTACCCTTCCCCT\r\n",
      "+\r\n",
      "!!!!!!!!!!!!!!!!!!!!44=B?>888@=///DDD???DDDDD?>>DDDDDDDIDDDIDDDIIIDDDDIIDDDAAADDDDDDDA:4422;9933,,,,1,,,55,,,66768>=>889>A==::8<=BBAA<4444<?111998?ABBBBDD>CC;;FFFF???ADDDDDDD??;;;FFFFFFFFF?;;;CFDD?:::BBBB@889<>>:?444?::::BBA??@FFFFFFFFFF<<::::AAAA====B===BBAAA@<99866613---112/.--59876755,,..31,,,-35597242688942469<<=..,,,11,,----,,,/-14141743232244=84249::8:7:,,/,,,,/,,,55,,..9\r\n",
      "@SRR765688.200 HQP9GKT01DRKX5 length=362|SEQORIENT=F,F,F|MID=MID53|VPRIMER=LR5|CPRIMER=IgA-PCR\r\n",
      "NNNNNNNNNNNNNNNNNNNNNCCGGGCAGTCTCTGAAGATCTCGTGTAAGGATTCTGGATACAACTTTGCCAACTATTGGATCGGCTGGGTGCGCCAGATGCCCGGGAAAGGCCTGGAGTGGATGGGAATCATCTATCCTCATAACTCTGACACCATATACAGCCCGTCCTTCCAAGGCCAGGTCACCATCTCAGCCGACAAGTCCATCACCACCGCCTACCTGCAGTGGAGCAGCCTGAAGGCCTCGGACACCGCCATGTATTACTGTGCGAGACCATACGATTTGGACGTCTGGGGCCAAGGGACCACGGTCACCGTCTCCTCAGCATTCCCG\r\n",
      "+\r\n",
      "!!!!!!!!!!!!!!!!!!!!!BBBBCIIIIIIIIIIIIIIIIIIIICCCCCGGGIIIIIIIIIIIHHHIIIIIIIIIIIIIIIIIIIHHHIIIIIIIIIII???HCC;;;DDIIIIIIIIIIII;;;??IIIIIIIIIIIIIG;;;GIIIIIIIIIIIGGGIIBBB;7//1///999==9547BBCCIIIIIIIIIIGGGIIIIIIIIIIIIIIIGGGG????IIIIIIIIIIIIIIIIIIIIIIIIEECCC???EEIIIIIHCCCFIIIIGCCCGIIIIIIHIGG???CIIIE<<<<CC:::::>BGEECCCII???GIIIIIIIIIIIIH???\r\n",
      "@SRR765688.244 HQP9GKT01AGCP9 length=314|SEQORIENT=F,F,F|MID=MID53|VPRIMER=LR4|CPRIMER=IgD-PCR\r\n",
      "NNNNNNNNNNNNNNNNNNNCTTCGGAGACCCTGTCCCTCACCTGCACTGTGTCTGGTGGCTCCATCACCAATAGTCTTTACTACTGGGGCTGGATCCGCCAGTTTCCCAGGGAAGGGACTGGAGTGGACTGGGAGTATCTATCATGGGTGGGAAACACCCACTATAACCCGTCCTCAAGAGTCGAGTCACCATTTTCGTAGACACGTCCAAGAACCAATTCTCCCTGAAGTTGAACTCTGTGACTGCCGCAGACACGGCTGTT\r\n"
     ]
    }
   ],
   "source": [
    "!head SRR765688_reheader.fastq"
   ]
  },
  {
   "cell_type": "markdown",
   "metadata": {
    "slideshow": {
     "slide_type": "slide"
    }
   },
   "source": [
    "## Deduplication"
   ]
  },
  {
   "cell_type": "code",
   "execution_count": 27,
   "metadata": {
    "collapsed": false,
    "slideshow": {
     "slide_type": "fragment"
    }
   },
   "outputs": [
    {
     "name": "stdout",
     "output_type": "stream",
     "text": [
      "       START> CollapseSeq\n",
      "        FILE> SRR765688_reheader.fastq\n",
      " MAX_MISSING> 20\n",
      " UNIQ_FIELDS> MID,CPRIMER\n",
      " COPY_FIELDS> VPRIMER\n",
      "COPY_ACTIONS> set\n",
      "   MAX_FIELD> None\n",
      "   MIN_FIELD> None\n",
      "       INNER> True\n",
      "KEEP_MISSING> False\n",
      "\n",
      "MISSING>  0\n",
      "PROGRESS> 23:57:49 [####################] 100% (56,136) 0.2 min\n",
      "\n",
      "MISSING>  1\n",
      "PROGRESS> 00:01:01 [####################] 100% (1,787) 3.2 min\n",
      "\n",
      "MISSING>  2\n",
      "PROGRESS> 00:01:17 [####################] 100% (152) 0.3 min\n",
      "\n",
      "MISSING>  3\n",
      "PROGRESS> 00:01:20 [####################] 100% (22) 0.0 min\n",
      "\n",
      "      OUTPUT> SRR765688_collapse-unique.fastq\n",
      "   SEQUENCES> 56136\n",
      "      UNIQUE> 48647\n",
      "   DUPLICATE> 7489\n",
      "UNDETERMINED> 0\n",
      "         END> CollapseSeq\n",
      "\n"
     ]
    }
   ],
   "source": [
    "!CollapseSeq.py -s SRR765688_reheader.fastq -n 20 --inner --uf MID CPRIMER \\\n",
    "    --cf VPRIMER --act set --outname SRR765688"
   ]
  },
  {
   "cell_type": "code",
   "execution_count": 28,
   "metadata": {
    "collapsed": false,
    "slideshow": {
     "slide_type": "slide"
    }
   },
   "outputs": [
    {
     "name": "stdout",
     "output_type": "stream",
     "text": [
      "@SRR765688.266977 HQP9GKT02JF1W5 length=390|SEQORIENT=F,RC,F|MID=MID54|CPRIMER=IgM-PCR|VPRIMER=LR9|DUPCOUNT=1\r\n",
      "NNNNNNNNNNNNNNNNNNNNNAAGCCTGGGGCCTCAGTGAAGGTCTCCTGCAAGGCTTCTGGTTACACCTTTACCAGCTACGGTATCAGCTGGGTGCGACAGGCCCCTGGACAAGGGCTTGAGTGGATGGGATGGATCAGCGCTTACAATGGTAACACAAACTATGCACAGAAGCTCCAGGGCAGAGTCACCATGACCACAGACACATCCACGAGCACAGCCTACATGGAGCTGAGGAGCCTGAGATCTGACGACACGGCCGTGTATTACTGATTCACGCCTGGTATAACTGGAAACTGGGGCCAGGGAACCCTGGTCACCGTCTCCTCAGGGAGTGCATCCGCCCAACCCTTTCCCCCT\r\n",
      "+\r\n",
      "!!!!!!!!!!!!!!!!!!!!!99557A2224AAIGEEEIIIIIIDDCIHHHHHIIIIIIHHHIIIII99===?IIIIIIIIIIIIIIIIIICCCIIIHEEICC====EEEIIIIIIHIIIIIIIIIIICCCHIIIIIIIIIIIIIIIIIIIIIIIIIHGHHIIIIDDDHIIIIIIIIII;;;IIIIIIIIIIIIIIIIIIIIIIIIIIIIIIIIIIIIIIIIIIIIIIIIIIIIIIIIIIIIIIIIIIIIIIIIIIIIIIIIIIIIIIIIIIIIIIIIIIIIIIIIIIIIIIIHHHIICCCCIII???HHHHHIIIIIIIIIIIIIIIIIHHHIIIIIIIIII644IE<;;55579999I\r\n",
      "@SRR765688.239596 HQP9GKT02HO885 length=393|SEQORIENT=F,F,F|MID=MID53|CPRIMER=IgA-PCR|VPRIMER=LR4|DUPCOUNT=1\r\n",
      "NNNNNNNNNNNNNNNNNNNCTTCGGAGACCCTGTCCCTCACCTGCCTTGTCTCTGGTGGCTCCATCAGTAGTCACTATTGGAGCTGGATTCGGCAGGCCCCAGGGAAGGGATTGGAGTGGATTGGGTACATCTACTACACTGGTAAAACCAACTACAATCCGTCCCTCAAGAGTCGAGTCACCATGTCAGTCGACCTGCCTCAGAATCAAGTCTCCCTGAAGCTGACCTCTATTAGTGCCGCAGACACGGCCGTCTATTACTGTGCGAGACACCTTCCGCCCAGCGGCATCTGGTATCAAGACGGGTACTATTACGGCTTGGACGTCTGGGGCCCAGGGACCACGGTCACCGTCTCTCAGCATCCCCG\r\n",
      "+\r\n",
      "!!!!!!!!!!!!!!!!!!!IIH????DIHHHIIIHHHIIIIIIIIIIIIIIIIIIIIIIIIIIIIIIIIIIIIIIIIIIIIIIIIIIIIIIIIIIHE5555CBBBEE=?AIIIIIIIIIIIII???IIIIIIIIIIIIIIIIH?>>>>CC88?GEIIIE???IHCCHIIIIIIHHHIIIIIIIIIIIIIIIIIIIIIIIIIIHHHHIIIIIIHD666IIIIIIIIIIIIIIIIIIIIH???IIIIIIIHHHHIIIIIIIIIIIC??=CIEE99999EEE???BCEHHHIIIIIIIIIHHHIIIHHHIIIIIIIIIIIIIIIIIIIIIICCAAHHHIHHHIHEHHECCC?444?A====IIIII99779\r\n",
      "@SRR765688.261530 HQP9GKT02FWX26 length=424|SEQORIENT=F,RC,F|MID=MID54|CPRIMER=IgM-PCR|VPRIMER=LR11|DUPCOUNT=1\r\n",
      "NNNNNNNNNNNNNNNNNNTGGGGGAGCGTGGTCCAGCCTGGACGGTCCCTGAGACTCTCCTGTGCAGCGTCTGGATTCACCTTCAGTAGCTATGGCATGCACTGGGTCCGCCAGGCTCCAGGCAAGGGGCTGGAGTGGGTGGCAGTTATATCGGGTATGATGGAAGTAATAAATACTATGCAGACTCCGTNAAGGGCCGATTCACCATCTCCAGAGACAATTCCAAGAACACGCTGTATCTGCAAATGAACAGCCTGAGAGCTGAGGACACGGCTGTGTATTACTGTGCGAAAGATGGTGGCTACGATTTTTACTACTACGGTATGGACGTCTGGGGCCAAGGGGACCACGGTCACCGTCTCCTCAGGGAGTGCATCCGCCCAACCCTTTTCCCCCT\r\n"
     ]
    }
   ],
   "source": [
    "!head SRR765688_collapse-unique.fastq"
   ]
  },
  {
   "cell_type": "markdown",
   "metadata": {
    "slideshow": {
     "slide_type": "slide"
    }
   },
   "source": [
    "## Conclusions\n",
    "\n",
    "- Toolkits like pRESTO can be used to clean repseq datasets\n",
    "- Need quite detailed information on the experimental setup\n",
    "  - Read configuration\n",
    "  - Forward and reverse primers\n",
    "  - MIDs\n",
    "  - UMIs\n",
    "  - Metadata\n",
    "- Turn single or paired end FASTQ files into 'cleaned' FASTQ with additional annotations\n",
    "- At this point, some additional filtering can be performed\n",
    "  - Exclude single sequences?"
   ]
  }
 ],
 "metadata": {
  "celltoolbar": "Slideshow",
  "kernelspec": {
   "display_name": "Python 3",
   "language": "python",
   "name": "python3"
  },
  "language_info": {
   "codemirror_mode": {
    "name": "ipython",
    "version": 3
   },
   "file_extension": ".py",
   "mimetype": "text/x-python",
   "name": "python",
   "nbconvert_exporter": "python",
   "pygments_lexer": "ipython3",
   "version": "3.5.2"
  },
  "livereveal": {
   "theme": "white",
   "transition": "slide"
  }
 },
 "nbformat": 4,
 "nbformat_minor": 1
}
