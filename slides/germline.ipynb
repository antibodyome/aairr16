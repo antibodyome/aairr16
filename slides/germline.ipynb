{
 "cells": [
  {
   "cell_type": "code",
   "execution_count": 39,
   "metadata": {
    "collapsed": false,
    "slideshow": {
     "slide_type": "skip"
    }
   },
   "outputs": [],
   "source": [
    "%load_ext rpy2.ipython"
   ]
  },
  {
   "cell_type": "markdown",
   "metadata": {
    "slideshow": {
     "slide_type": "slide"
    }
   },
   "source": [
    "# Germline assignment"
   ]
  },
  {
   "cell_type": "markdown",
   "metadata": {
    "slideshow": {
     "slide_type": "slide"
    }
   },
   "source": [
    "## Introduction\n",
    "\n",
    "- Most analyses work at the level of a clonotype\n",
    "- Identifying what germlines have given rise to a reassorted BCR/TCR is usually the first step in the analysis\n",
    "- Complicated by:\n",
    "  - Sequencing error\n",
    "  - Incomplete reference sequences\n",
    "  - Evolutionary similarity between alleles in a family\n",
    "  - Deletions\n",
    "  - N- and P- nucleotides\n",
    "  - Somatic hypermutation in the context of BCRs\n",
    "- Particularly difficult to assign D genes"
   ]
  },
  {
   "cell_type": "markdown",
   "metadata": {
    "slideshow": {
     "slide_type": "slide"
    }
   },
   "source": [
    "## Software\n",
    "\n",
    "- There are an increasing number of software packages for germline assignment\n",
    "  - Similarity based\n",
    "    - IgBLAST, IgGraph, IMGT/V-Quest\n",
    "  - Hidden Markov models\n",
    "    - iHMMune, partis, repgenHMM\n",
    "  - Phylogenetic approaches\n",
    "    - IgSCUEAL"
   ]
  },
  {
   "cell_type": "markdown",
   "metadata": {
    "slideshow": {
     "slide_type": "slide"
    }
   },
   "source": [
    "## IgBLAST\n",
    "\n",
    "- Highly tuned version of the BLAST algorithm for sequence similarity\n",
    "- Fast\n",
    "- Reasonably accurate for TCRs and BCRs with low mutational load\n",
    "  - Less so for highly mutated BCRs"
   ]
  },
  {
   "cell_type": "markdown",
   "metadata": {
    "slideshow": {
     "slide_type": "slide"
    }
   },
   "source": [
    "## Reference datasets\n",
    "\n",
    "- IgBLAST requires a database of germline sequences to compare query sequences to\n",
    "- IMGT restricts dissemination of germline datasets\n",
    "  - Usually have to be downloaded separately"
   ]
  },
  {
   "cell_type": "markdown",
   "metadata": {
    "slideshow": {
     "slide_type": "slide"
    }
   },
   "source": [
    "## Postprocessing\n",
    "\n",
    "- IgBLAST does not generate friendly output\n",
    "- There are a number of postprocessors"
   ]
  },
  {
   "cell_type": "markdown",
   "metadata": {
    "slideshow": {
     "slide_type": "slide"
    }
   },
   "source": [
    "## Change-O\n",
    "\n",
    "- Both a *package* and a *format*\n",
    "- Package:\n",
    "  - Python package\n",
    "  - Parses output from IgBLAST IMGT/High-VQuest\n",
    "  - Also can generate clones, reconstruct germlines\n",
    "- Format:\n",
    "  - Simple tabular format\n",
    "    - Easy to analyse and process\n",
    "  - Specifies names for particular fields"
   ]
  },
  {
   "cell_type": "markdown",
   "metadata": {
    "slideshow": {
     "slide_type": "slide"
    }
   },
   "source": [
    "## Workflow\n",
    "\n",
    "- Obtain reference sequences\n",
    "- Generate IgBLAST database\n",
    "- Convert FASTQ to FASTA\n",
    "- Run IgBLAST\n",
    "- Parse the output of IgBLAST\n",
    "- Generate clones"
   ]
  },
  {
   "cell_type": "markdown",
   "metadata": {
    "slideshow": {
     "slide_type": "slide"
    }
   },
   "source": [
    "## Obtaining germline sequences\n",
    "\n",
    "- Germline sequences can be obtained from IMGT\n",
    "- Also a community based effort from the AIRR Community\n",
    "  - Work in progress"
   ]
  },
  {
   "cell_type": "markdown",
   "metadata": {
    "slideshow": {
     "slide_type": "slide"
    }
   },
   "source": [
    "## Generating IgBLAST database"
   ]
  },
  {
   "cell_type": "code",
   "execution_count": 1,
   "metadata": {
    "collapsed": false,
    "slideshow": {
     "slide_type": "fragment"
    }
   },
   "outputs": [
    {
     "name": "stdout",
     "output_type": "stream",
     "text": [
      "\n",
      "\n",
      "Building a new DB, current time: 10/31/2016 17:09:29\n",
      "New DB name:   /home/simon/Projects/aairr16-working/slides/database/human_trb_v\n",
      "New DB title:  database/human_trb_v\n",
      "Sequence type: Nucleotide\n",
      "Keep Linkouts: T\n",
      "Keep MBits: T\n",
      "Maximum file size: 1000000000B\n",
      "Adding sequences from FASTA; added 142 sequences in 0.00876689 seconds.\n"
     ]
    }
   ],
   "source": [
    "%%bash\n",
    "# V-segment database\n",
    "perl ./edit_imgt_file.pl IMGT_Human_TRBV.fasta > database/human_trb_v\n",
    "makeblastdb -parse_seqids -dbtype nucl -in database/human_trb_v"
   ]
  },
  {
   "cell_type": "code",
   "execution_count": 2,
   "metadata": {
    "collapsed": false,
    "slideshow": {
     "slide_type": "skip"
    }
   },
   "outputs": [
    {
     "name": "stdout",
     "output_type": "stream",
     "text": [
      "\n",
      "\n",
      "Building a new DB, current time: 10/31/2016 17:09:36\n",
      "New DB name:   /home/simon/Projects/aairr16-working/slides/database/human_trb_d\n",
      "New DB title:  database/human_trb_d\n",
      "Sequence type: Nucleotide\n",
      "Keep Linkouts: T\n",
      "Keep MBits: T\n",
      "Maximum file size: 1000000000B\n",
      "Adding sequences from FASTA; added 3 sequences in 0.000468016 seconds.\n",
      "\n",
      "\n",
      "Building a new DB, current time: 10/31/2016 17:09:36\n",
      "New DB name:   /home/simon/Projects/aairr16-working/slides/database/human_trb_j\n",
      "New DB title:  database/human_trb_j\n",
      "Sequence type: Nucleotide\n",
      "Keep Linkouts: T\n",
      "Keep MBits: T\n",
      "Maximum file size: 1000000000B\n",
      "Adding sequences from FASTA; added 16 sequences in 0.000876904 seconds.\n"
     ]
    }
   ],
   "source": [
    "%%bash\n",
    "# D-segment database\n",
    "perl ./edit_imgt_file.pl IMGT_Human_TRBD.fasta > database/human_trb_d\n",
    "makeblastdb -parse_seqids -dbtype nucl -in database/human_trb_d\n",
    "# J-segment database\n",
    "perl ./edit_imgt_file.pl IMGT_Human_TRBJ.fasta > database/human_trb_j\n",
    "makeblastdb -parse_seqids -dbtype nucl -in database/human_trb_j"
   ]
  },
  {
   "cell_type": "markdown",
   "metadata": {
    "slideshow": {
     "slide_type": "slide"
    }
   },
   "source": [
    "## Convert FASTQ to FASTA\n",
    "\n",
    "- Most pipelines keep sequence data in FASTQ format, but IgBLAST takes FASTA\n",
    "- This little Biopython snippet converts FASTQ to FASTA"
   ]
  },
  {
   "cell_type": "code",
   "execution_count": 31,
   "metadata": {
    "collapsed": false,
    "slideshow": {
     "slide_type": "skip"
    }
   },
   "outputs": [],
   "source": [
    "from copy import deepcopy\n",
    "from Bio import SeqIO\n",
    "inhandle = open(\"A2-i131.fastq\",'r')\n",
    "outhandle = open(\"A2-i131_reheader.fastq\",'w')\n",
    "for record in SeqIO.parse(inhandle,\"fastq\"):\n",
    "    newr = deepcopy(record)\n",
    "    newr.id=newr.description.replace(\"MIG UMI:\",\"\")\n",
    "    newr.id=newr.id.replace(\":\",\"|CONSCOUNT=\")\n",
    "    newr.description=\"\"\n",
    "    newr.name=\"\"\n",
    "    SeqIO.write(newr,outhandle,\"fastq\")\n",
    "inhandle.close()\n",
    "outhandle.close()"
   ]
  },
  {
   "cell_type": "code",
   "execution_count": 32,
   "metadata": {
    "collapsed": false,
    "slideshow": {
     "slide_type": "skip"
    }
   },
   "outputs": [
    {
     "name": "stdout",
     "output_type": "stream",
     "text": [
      "@GTCATTTAGCATGCTG|CONSCOUNT=2\r\n",
      "TCCTGGAGTCGCCCAGCCCCAACCAGACCTCTCTGTACTTCTGTGCCAGCAGTTTAGAGGGGTACACTGAAGCTTTCTTTGGACAAGGCACCAGACTCAC\r\n",
      "+\r\n",
      "IIIIIIIIIIIIIIIIIIIIIIIIIIIIIIIIIIIIIIIIIIIIIIIIIIIIIIIIIIIIIIIIIIIIIIIIIIIIIIIIIIIIIIIIIIIIIIIIIIII\r\n",
      "@TTGCGTTCGTTCTAAT|CONSCOUNT=3\r\n",
      "TGAGCAACATGAGCCCTGAAGACAGCAGCATATATCTCTGCAGCGTCGTTACTAAGGACAGGGAAGAGACCCAGTACTTCGGGCCAGGCACGCGGCTCCT\r\n",
      "+\r\n",
      "IIIIIIIIIIIIIIIIIIIIIIIIIIIIIIIIIIIIIIIIIIIIIIIIIIIIIIIIIIIIIIIIIIIIIIIIIIIIIIIIIIIIIIIIIIIIIIIIIIII\r\n",
      "@TATAATATCGTAACGT|CONSCOUNT=7\r\n",
      "GATCCAGCCTGCAAAGCTTGAGGACTCGGCCGTGTATCTCTGTGCCAGCAGCTCCGGATACACCGGGGAGCTGTTTTTTGGAGAAGGCTCTAGGCTGACC\r\n"
     ]
    }
   ],
   "source": [
    "!head A2-i131_reheader.fastq"
   ]
  },
  {
   "cell_type": "code",
   "execution_count": 33,
   "metadata": {
    "collapsed": false,
    "slideshow": {
     "slide_type": "fragment"
    }
   },
   "outputs": [
    {
     "data": {
      "text/plain": [
       "429994"
      ]
     },
     "execution_count": 33,
     "metadata": {},
     "output_type": "execute_result"
    }
   ],
   "source": [
    "from Bio import SeqIO\n",
    "SeqIO.convert(\"A2-i131_reheader.fastq\",\"fastq\",\"A2-i131.fasta\",\"fasta\")"
   ]
  },
  {
   "cell_type": "markdown",
   "metadata": {
    "slideshow": {
     "slide_type": "slide"
    }
   },
   "source": [
    "## Running IgBLAST\n",
    "\n",
    "- A custom output format is chosen to allow parsing with Change-O"
   ]
  },
  {
   "cell_type": "code",
   "execution_count": 34,
   "metadata": {
    "collapsed": false,
    "slideshow": {
     "slide_type": "fragment"
    }
   },
   "outputs": [],
   "source": [
    "%%bash\n",
    "igblastn \\\n",
    "    -germline_db_V database/human_trb_v \\\n",
    "    -germline_db_D database/human_trb_d \\\n",
    "    -germline_db_J database/human_trb_j \\\n",
    "    -auxiliary_data optional_file/human_gl.aux \\\n",
    "    -domain_system imgt -ig_seqtype TCR -organism human \\\n",
    "    -outfmt '7 std qseq sseq btop' \\\n",
    "    -query A2-i131.fasta \\\n",
    "    -out A2-i131.fmt7 \\\n",
    "    -num_threads 2"
   ]
  },
  {
   "cell_type": "markdown",
   "metadata": {
    "slideshow": {
     "slide_type": "slide"
    }
   },
   "source": [
    "## Postprocess BLAST"
   ]
  },
  {
   "cell_type": "code",
   "execution_count": 35,
   "metadata": {
    "collapsed": false,
    "slideshow": {
     "slide_type": "fragment"
    }
   },
   "outputs": [
    {
     "name": "stdout",
     "output_type": "stream",
     "text": [
      "        START> MakeDB\n",
      "      ALIGNER> IgBlast\n",
      "ALIGN_RESULTS> A2-i131.fmt7\n",
      "     SEQ_FILE> A2-i131.fasta\n",
      "     NO_PARSE> False\n",
      " SCORE_FIELDS> True\n",
      "REGION_FIELDS> True\n",
      "\n",
      "PROGRESS> 20:08:50 [                    ]   0% (      0) 0.0 min\r",
      "PROGRESS> 20:10:28 [#                   ]   5% ( 21,500) 1.6 min\r",
      "PROGRESS> 20:12:11 [##                  ]  10% ( 43,000) 3.3 min\r",
      "PROGRESS> 20:13:47 [###                 ]  15% ( 64,500) 4.9 min\r",
      "PROGRESS> 20:15:31 [####                ]  20% ( 86,000) 6.7 min\r",
      "PROGRESS> 20:17:10 [#####               ]  25% (107,500) 8.3 min\r",
      "PROGRESS> 20:18:41 [######              ]  30% (129,000) 9.8 min\r",
      "PROGRESS> 20:20:13 [#######             ]  35% (150,500) 11.4 min\r",
      "PROGRESS> 20:21:49 [########            ]  40% (172,000) 13.0 min\r",
      "PROGRESS> 20:23:24 [#########           ]  45% (193,500) 14.6 min\r",
      "PROGRESS> 20:24:54 [##########          ]  50% (215,000) 16.1 min\r",
      "PROGRESS> 20:26:28 [###########         ]  55% (236,500) 17.6 min\r",
      "PROGRESS> 20:28:00 [############        ]  60% (258,000) 19.2 min\r",
      "PROGRESS> 20:29:31 [#############       ]  65% (279,500) 20.7 min\r",
      "PROGRESS> 20:31:05 [##############      ]  70% (301,000) 22.2 min\r",
      "PROGRESS> 20:32:36 [###############     ]  75% (322,500) 23.8 min\r",
      "PROGRESS> 20:34:07 [################    ]  80% (344,000) 25.3 min\r",
      "PROGRESS> 20:35:37 [#################   ]  85% (365,500) 26.8 min\r",
      "PROGRESS> 20:37:09 [##################  ]  90% (387,000) 28.3 min\r",
      "PROGRESS> 20:38:50 [################### ]  95% (408,500) 30.0 min\r",
      "PROGRESS> 20:40:34 [####################] 100% (429,994) 31.7 min\n",
      "\n",
      "OUTPUT> A2-i131_db-pass.tab\n",
      "  PASS> 407100\n",
      "  FAIL> 22894\n",
      "   END> MakeDb\n",
      "\n"
     ]
    }
   ],
   "source": [
    "%%bash\n",
    "MakeDb.py igblast -i A2-i131.fmt7 -s A2-i131.fasta -r IMGT_Human_TRB[VDJ].fasta \\\n",
    "    --regions --scores"
   ]
  },
  {
   "cell_type": "code",
   "execution_count": 36,
   "metadata": {
    "collapsed": false,
    "slideshow": {
     "slide_type": "skip"
    }
   },
   "outputs": [
    {
     "name": "stdout",
     "output_type": "stream",
     "text": [
      "SEQUENCE_ID\tSEQUENCE_INPUT\tFUNCTIONAL\tIN_FRAME\tSTOP\tMUTATED_INVARIANT\tINDELS\tV_CALL\tD_CALL\tJ_CALL\tSEQUENCE_VDJ\tSEQUENCE_IMGT\tV_SEQ_START\tV_SEQ_LENGTH\tV_GERM_START_VDJ\tV_GERM_LENGTH_VDJ\tV_GERM_START_IMGT\tV_GERM_LENGTH_IMGT\tNP1_LENGTH\tD_SEQ_START\tD_SEQ_LENGTH\tD_GERM_START\tD_GERM_LENGTH\tNP2_LENGTH\tJ_SEQ_START\tJ_SEQ_LENGTH\tJ_GERM_START\tJ_GERM_LENGTH\tJUNCTION_LENGTH\tJUNCTION\tV_SCORE\tV_IDENTITY\tV_EVALUE\tV_BTOP\tJ_SCORE\tJ_IDENTITY\tJ_EVALUE\tJ_BTOP\tHMM_SCORE\tFWR1_IMGT\tFWR2_IMGT\tFWR3_IMGT\tFWR4_IMGT\tCDR1_IMGT\tCDR2_IMGT\tCDR3_IMGT\tCONSCOUNT\r",
      "\r\n",
      "GTCATTTAGCATGCTG\tTCCTGGAGTCGCCCAGCCCCAACCAGACCTCTCTGTACTTCTGTGCCAGCAGTTTAGAGGGGTACACTGAAGCTTTCTTTGGACAAGGCACCAGACTCAC\tT\tT\tF\t\tF\tTRBV27*01\tTRBD1*01,TRBD2*02\tTRBJ1-1*01\tTCCTGGAGTCGCCCAGCCCCAACCAGACCTCTCTGTACTTCTGTGCCAGCAGTTTAGAGGGGTACACTGAAGCTTTCTTTGGACAAGGCACCAGACTCAC\t............................................................................................................................................................................................................................................................................TCCTGGAGTCGCCCAGCCCCAACCAGACCTCTCTGTACTTCTGTGCCAGCAGTTTAGAGGGGTACACTGAAGCTTTCTTTGGACAAGGCACCAGACTCAC\t1\t56\t230\t56\t1\t324\t1\t58\t5\t6\t5\t1\t64\t37\t4\t37\t39\tTGTGCCAGCAGTTTAGAGGGGTACACTGAAGCTTTCTTT\t89.1\t1.0\t4e-21\t56\t73.8\t1.0\t4e-18\t37\t\t..............................................................................\t...................................................\t.........................................................................TCCTGGAGTCGCCCAGCCCCAACCAGACCTCTCTGTACTTCTGT\tTTTGGACAAGGCACCAGACTCAC\t....................................\t..............................\tGCCAGCAGTTTAGAGGGGTACACTGAAGCTTTC\t2\r",
      "\r\n",
      "TTGCGTTCGTTCTAAT\tTGAGCAACATGAGCCCTGAAGACAGCAGCATATATCTCTGCAGCGTCGTTACTAAGGACAGGGAAGAGACCCAGTACTTCGGGCCAGGCACGCGGCTCCT\tT\tT\tF\t\tF\tTRBV29-1*01,TRBV29-1*02\tTRBD1*01\tTRBJ2-5*01\tTGAGCAACATGAGCCCTGAAGACAGCAGCATATATCTCTGCAGCGTCGTTACTAAGGACAGGGAAGAGACCCAGTACTTCGGGCCAGGCACGCGGCTCCT\t...............................................................................................................................................................................................................................................................................TGAGCAACATGAGCCCTGAAGACAGCAGCATATATCTCTGCAGCGTCGTTACTAAGGACAGGGAAGAGACCCAGTACTTCGGGCCAGGCACGCGGCTCCT\t1\t46\t239\t46\t1\t317\t9\t56\t8\t2\t8\t0\t64\t37\t4\t37\t42\tTGCAGCGTCGTTACTAAGGACAGGGAAGAGACCCAGTACTTC\t73.5\t1.0\t2e-16\t46\t73.8\t1.0\t4e-18\t37\t\t..............................................................................\t...................................................\t............................................................................TGAGCAACATGAGCCCTGAAGACAGCAGCATATATCTCTGC\tTTCGGGCCAGGCACGCGGCTCCT\t....................................\t..............................\tAGCGTCGTTACTAAGGACAGGGAAGAGACCCAGTAC\t3\r",
      "\r\n",
      "TATAATATCGTAACGT\tGATCCAGCCTGCAAAGCTTGAGGACTCGGCCGTGTATCTCTGTGCCAGCAGCTCCGGATACACCGGGGAGCTGTTTTTTGGAGAAGGCTCTAGGCTGACC\tT\tT\tF\t\tF\tTRBV11-2*01\tNone\tTRBJ2-2*01\tGATCCAGCCTGCAAAGCTTGAGGACTCGGCCGTGTATCTCTGTGCCAGCAGCTCCGGATACACCGGGGAGCTGTTTTTTGGAGAAGGCTCTAGGCTGACC\t.............................................................................................................................................................................................................................................................................GATCCAGCCTGCAAAGCTTGAGGACTCGGCCGTGTATCTCTGTGCCAGCAGCTCCGGATACACCGGGGAGCTGTTTTTTGGAGAAGGCTCTAGGCTGACC\t1\t53\t234\t53\t1\t322\t6\t\t\t\t\t\t60\t41\t4\t41\t39\tTGTGCCAGCAGCTCCGGATACACCGGGGAGCTGTTTTTT\t84.4\t1.0\t1e-19\t53\t81.8\t1.0\t1e-20\t41\t\t..............................................................................\t...................................................\t..........................................................................GATCCAGCCTGCAAAGCTTGAGGACTCGGCCGTGTATCTCTGT\tTTTGGAGAAGGCTCTAGGCTGACC\t....................................\t..............................\tGCCAGCAGCTCCGGATACACCGGGGAGCTGTTT\t7\r",
      "\r\n",
      "TCTACTCTCATCTTTT\tCCCTGCAGCCAGAAGACTCGGCCCTGTATCTCTGCTCCAGCAGCCAAGAGGGACAGGGTACTCAAGAGACCCAGTACTTCGAGCCAGGCACGCGGCTCCT\tT\tT\tF\t\tF\tTRBV4-3*01\tTRBD1*01\tTRBJ2-5*01\tCCCTGCAGCCAGAAGACTCGGCCCTGTATCTCTGCTCCAGCAGCCAAGAGGGACAGGGTACTCAAGAGACCCAGTACTTCGAGCCAGGCACGCGGCTCCT\t.....................................................................................................................................................................................................................................................................................CCCTGCAGCCAGAAGACTCGGCCCTGTATCTCTGCTCCAGCAGCCAAGAGGGACAGGGTACTCAAGAGACCCAGTACTTCGAGCCAGGCACGCGGCTCCT\t1\t49\t239\t49\t1\t326\t0\t50\t9\t1\t9\t4\t63\t38\t3\t38\t48\tTGCTCCAGCAGCCAAGAGGGACAGGGTACTCAAGAGACCCAGTACTTC\t75.1\t0.9795999999999999\t7e-17\t35TG13\t67.9\t0.9737\t2e-16\t19AG18\t\t..............................................................................\t...................................................\t..................................................................................CCCTGCAGCCAGAAGACTCGGCCCTGTATCTCTGC\tTTCGAGCCAGGCACGCGGCTCCT\t....................................\t..............................\tTCCAGCAGCCAAGAGGGACAGGGTACTCAAGAGACCCAGTAC\t2\r",
      "\r\n",
      "TCAGTTCTTATTCTGT\tCCTTGGAGCTGGGGGACTCGGCCCTTTATCTTTGCGCCAGCAGCCCCGCTCCTAGCAGGGGGAGAGAGACCCAGTACTTCGGGCCAGGCACGCGGCTCCT\tT\tT\tF\t\tF\tTRBV5-1*01\tTRBD1*01\tTRBJ2-5*01\tCCTTGGAGCTGGGGGACTCGGCCCTTTATCTTTGCGCCAGCAGCCCCGCTCCTAGCAGGGGGAGAGAGACCCAGTACTTCGGGCCAGGCACGCGGCTCCT\t.....................................................................................................................................................................................................................................................................................CCTTGGAGCTGGGGGACTCGGCCCTTTATCTTTGCGCCAGCAGCCCCGCTCCTAGCAGGGGGAGAGAGACCCAGTACTTCGGGCCAGGCACGCGGCTCCT\t1\t44\t239\t44\t1\t321\t11\t56\t7\t5\t7\t2\t65\t36\t5\t36\t48\tTGCGCCAGCAGCCCCGCTCCTAGCAGGGGGAGAGAGACCCAGTACTTC\t70.4\t1.0\t2e-15\t44\t71.9\t1.0\t1e-17\t36\t\t..............................................................................\t...................................................\t..................................................................................CCTTGGAGCTGGGGGACTCGGCCCTTTATCTTTGC\tTTCGGGCCAGGCACGCGGCTCCT\t....................................\t..............................\tGCCAGCAGCCCCGCTCCTAGCAGGGGGAGAGAGACCCAGTAC\t3\r",
      "\r\n",
      "TACCCTAATTTCTTCT\tTGGAGGTTGGGGACTCAGCTTTGTATTTCTGTGCCAGTAGCGTAGTCGGGCGGGATTGATATAGGAACATTCAGTACTTCGGCGCCGGGACCCGGCTCTT\tF\tT\tT\t\tF\tTRBV9*01,TRBV9*02\tTRBD2*02\tTRBJ2-4*01\tTGGAGGTTGGGGACTCAGCTTTGTATTTCTGTGCCAGTAGCGTAGTCGGGCGGGATTGATATAGGAACATTCAGTACTTCGGCGCCGGGACCCGGCTCT\t........................................................................................................................................................................................................................................................................................TGGAGGTTGGGGACTCAGCTTTGTATTTCTGTGCCAGTAGCGTAGTCGGGCGGGATTGATATAGGAACATTCAGTACTTCGGCGCCGGGACCCGGCTCT\t1\t45\t242\t45\t1\t325\t4\t50\t6\t8\t6\t10\t66\t34\t8\t34\t51\tTGTGCCAGTAGCGTAGTCGGGCGGGATTGATATAGGAACATTCAGTACTTC\t62.6\t0.9333\t4e-13\t5GC1TG29TC7\t67.9\t1.0\t2e-16\t34\t\t..............................................................................\t...................................................\t.....................................................................................TGGAGGTTGGGGACTCAGCTTTGTATTTCTGT\tTTCGGCGCCGGGACCCGGCTCT\t....................................\t..............................\tGCCAGTAGCGTAGTCGGGCGGGATTGATATAGGAACATTCAGTAC\t2\r",
      "\r\n",
      "TACGTTAATCTTTTGT\tTGAAGATCCGGTCCACAAAGCTGGAGGACTCAGCCATGTACTTCTGTGCCAGCAACAGGGCCCCCGGGGAGCTGTTTTTTGGAGAAGGCTCTAGGCTGAC\tT\tT\tF\t\tF\tTRBV2*01,TRBV2*02,TRBV2*03\tTRBD1*01\tTRBJ2-2*01\tTGAAGATCCGGTCCACAAAGCTGGAGGACTCAGCCATGTACTTCTGTGCCAGCAACAGGGCCCCCGGGGAGCTGTTTTTTGGAGAAGGCTCTAGGCTGAC\t.........................................................................................................................................................................................................................................................................TGAAGATCCGGTCCACAAAGCTGGAGGACTCAGCCATGTACTTCTGTGCCAGCAACAGGGCCCCCGGGGAGCTGTTTTTTGGAGAAGGCTCTAGGCTGAC\t1\t54\t230\t54\t1\t319\t0\t55\t6\t4\t6\t3\t64\t37\t7\t37\t36\tTGTGCCAGCAACAGGGCCCCCGGGGAGCTGTTTTTT\t86.0\t1.0\t4e-20\t54\t73.8\t1.0\t4e-18\t37\t\t..............................................................................\t...................................................\t......................................................................TGAAGATCCGGTCCACAAAGCTGGAGGACTCAGCCATGTACTTCTGT\tTTTGGAGAAGGCTCTAGGCTGAC\t....................................\t..............................\tGCCAGCAACAGGGCCCCCGGGGAGCTGTTT\t3\r",
      "\r\n",
      "TACTTTCGACTTTGGT\tAGCCTGCAAAGCTTGAGGACTCGGCCGTGTATCTCTGTGCCAGCAGCTTGGGGGGGACAGGGCGCGAGACCCAGTACTTCGGGCCAGGCACGCGGCTCCT\tT\tT\tF\t\tF\tTRBV11-2*01\tTRBD1*01\tTRBJ2-5*01\tAGCCTGCAAAGCTTGAGGACTCGGCCGTGTATCTCTGTGCCAGCAGCTTGGGGGGGACAGGGCGCGAGACCCAGTACTTCGGGCCAGGCACGCGGCTCCT\t..................................................................................................................................................................................................................................................................................AGCCTGCAAAGCTTGAGGACTCGGCCGTGTATCTCTGTGCCAGCAGCTTGGGGGGGACAGGGCGCGAGACCCAGTACTTCGGGCCAGGCACGCGGCTCCT\t1\t49\t239\t49\t1\t323\t4\t54\t9\t1\t9\t3\t66\t35\t6\t35\t45\tTGTGCCAGCAGCTTGGGGGGGACAGGGCGCGAGACCCAGTACTTC\t78.2\t1.0\t8e-18\t49\t69.9\t1.0\t6e-17\t35\t\t..............................................................................\t...................................................\t...............................................................................AGCCTGCAAAGCTTGAGGACTCGGCCGTGTATCTCTGT\tTTCGGGCCAGGCACGCGGCTCCT\t....................................\t..............................\tGCCAGCAGCTTGGGGGGGACAGGGCGCGAGACCCAGTAC\t4\r",
      "\r\n",
      "TCGTATTTGCTCTGTC\tTCCAGCGTACAGAGCAGGGGGACTCGGCCATGTATCTCTGTGCCAGCAGCTTAGCGGTCTCGGAGAATGAAGCTTTCTTTGGACAAGGCACCAGACTCAC\tT\tT\tF\t\tF\tTRBV7-9*01,TRBV7-9*02,TRBV7-9*03\tNone\tTRBJ1-1*01\tTCCAGCGTACAGAGCAGGGGGACTCGGCCATGTATCTCTGTGCCAGCAGCTTAGCGGTCTCGGAGAATGAAGCTTTCTTTGGACAAGGCACCAGACTCAC\t...............................................................................................................................................................................................................................................................................TCCAGCGTACAGAGCAGGGGGACTCGGCCATGTATCTCTGTGCCAGCAGCTTAGCGGTCTCGGAGAATGAAGCTTTCTTTGGACAAGGCACCAGACTCAC\t1\t55\t236\t55\t1\t326\t12\t\t\t\t\t\t68\t33\t8\t33\t42\tTGTGCCAGCAGCTTAGCGGTCTCGGAGAATGAAGCTTTCTTT\t84.4\t0.9818000000000001\t1e-19\t7TC47\t65.9\t1.0\t9e-16\t33\t\t..............................................................................\t...................................................\t............................................................................TCCAGCGTACAGAGCAGGGGGACTCGGCCATGTATCTCTGT\tTTTGGACAAGGCACCAGACTCAC\t....................................\t..............................\tGCCAGCAGCTTAGCGGTCTCGGAGAATGAAGCTTTC\t2\r",
      "\r\n"
     ]
    }
   ],
   "source": [
    "!head A2-i131_db-pass.tab"
   ]
  },
  {
   "cell_type": "markdown",
   "metadata": {
    "slideshow": {
     "slide_type": "slide"
    }
   },
   "source": [
    "## Identifying clones"
   ]
  },
  {
   "cell_type": "code",
   "execution_count": 43,
   "metadata": {
    "collapsed": true,
    "slideshow": {
     "slide_type": "skip"
    }
   },
   "outputs": [],
   "source": [
    "%%R\n",
    "library(ggplot2)\n",
    "library(alakazam)\n",
    "library(shazam)"
   ]
  },
  {
   "cell_type": "code",
   "execution_count": null,
   "metadata": {
    "collapsed": false,
    "slideshow": {
     "slide_type": "slide"
    }
   },
   "outputs": [],
   "source": [
    "%%R\n",
    "db <- readChangeoDb(\"A2-i131_db-pass.tab\")\n",
    "db <- distToNearest(db, model=\"ham\", symmetry=\"min\")\n",
    "p1 <- ggplot() + theme_bw() + \n",
    "    ggtitle(\"Distance to nearest: ham\") + xlab(\"distance\") +\n",
    "    geom_histogram(data=db, aes(x=DIST_NEAREST), binwidth=0.025, \n",
    "                   fill=\"steelblue\", color=\"white\")\n",
    "plot(p1)"
   ]
  },
  {
   "cell_type": "markdown",
   "metadata": {
    "slideshow": {
     "slide_type": "slide"
    }
   },
   "source": [
    "## Define clones"
   ]
  },
  {
   "cell_type": "code",
   "execution_count": null,
   "metadata": {
    "collapsed": true,
    "slideshow": {
     "slide_type": "fragment"
    }
   },
   "outputs": [],
   "source": [
    "%%bash\n",
    "DefineClones.py bygroup -d A2-i131_db-pass.tab --act set --model ham \\\n",
    "--sym min --norm len --dist 0.20"
   ]
  },
  {
   "cell_type": "code",
   "execution_count": null,
   "metadata": {
    "collapsed": true,
    "slideshow": {
     "slide_type": "slide"
    }
   },
   "outputs": [],
   "source": [
    "!head A2-i131_db-pass_clone-pass.tab"
   ]
  }
 ],
 "metadata": {
  "celltoolbar": "Slideshow",
  "kernelspec": {
   "display_name": "Python 3",
   "language": "python",
   "name": "python3"
  },
  "language_info": {
   "codemirror_mode": {
    "name": "ipython",
    "version": 3
   },
   "file_extension": ".py",
   "mimetype": "text/x-python",
   "name": "python",
   "nbconvert_exporter": "python",
   "pygments_lexer": "ipython3",
   "version": "3.5.2"
  }
 },
 "nbformat": 4,
 "nbformat_minor": 1
}
