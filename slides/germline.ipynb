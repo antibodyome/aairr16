{
 "cells": [
  {
   "cell_type": "code",
   "execution_count": 1,
   "metadata": {
    "collapsed": false,
    "slideshow": {
     "slide_type": "skip"
    }
   },
   "outputs": [],
   "source": [
    "%load_ext rpy2.ipython"
   ]
  },
  {
   "cell_type": "markdown",
   "metadata": {
    "slideshow": {
     "slide_type": "slide"
    }
   },
   "source": [
    "# Germline assignment"
   ]
  },
  {
   "cell_type": "markdown",
   "metadata": {
    "slideshow": {
     "slide_type": "slide"
    }
   },
   "source": [
    "## Introduction\n",
    "\n",
    "- Most analyses work at the level of a clonotype\n",
    "- Identifying what germlines have given rise to a reassorted BCR/TCR is usually the first step in the analysis\n",
    "- Complicated by:\n",
    "  - Sequencing error\n",
    "  - Incomplete reference sequences\n",
    "  - Evolutionary similarity between alleles in a family\n",
    "  - Deletions\n",
    "  - N- and P- nucleotides\n",
    "  - Somatic hypermutation in the context of BCRs\n",
    "- Particularly difficult to assign D genes"
   ]
  },
  {
   "cell_type": "markdown",
   "metadata": {
    "slideshow": {
     "slide_type": "slide"
    }
   },
   "source": [
    "## Software\n",
    "\n",
    "- There are an increasing number of software packages for germline assignment\n",
    "  - Similarity based\n",
    "    - IgBLAST, IgGraph, IMGT/V-Quest\n",
    "  - Hidden Markov models\n",
    "    - iHMMune, partis, repgenHMM\n",
    "  - Phylogenetic approaches\n",
    "    - IgSCUEAL"
   ]
  },
  {
   "cell_type": "markdown",
   "metadata": {
    "slideshow": {
     "slide_type": "slide"
    }
   },
   "source": [
    "## IgBLAST\n",
    "\n",
    "- Highly tuned version of the BLAST algorithm for sequence similarity\n",
    "- Fast\n",
    "- Reasonably accurate for TCRs and BCRs with low mutational load\n",
    "  - Less so for highly mutated BCRs"
   ]
  },
  {
   "cell_type": "markdown",
   "metadata": {
    "slideshow": {
     "slide_type": "slide"
    }
   },
   "source": [
    "## Reference datasets\n",
    "\n",
    "- IgBLAST requires a database of germline sequences to compare query sequences to\n",
    "- IMGT restricts dissemination of germline datasets\n",
    "  - Usually have to be downloaded separately"
   ]
  },
  {
   "cell_type": "markdown",
   "metadata": {
    "slideshow": {
     "slide_type": "slide"
    }
   },
   "source": [
    "## Postprocessing\n",
    "\n",
    "- IgBLAST does not generate friendly output\n",
    "- There are a number of postprocessors\n",
    "  - Machine and human readable tabular output\n",
    "  - CDR3 region sequences"
   ]
  },
  {
   "cell_type": "markdown",
   "metadata": {
    "slideshow": {
     "slide_type": "slide"
    }
   },
   "source": [
    "## Change-O\n",
    "\n",
    "- Both a *package* and a *format*\n",
    "- Package:\n",
    "  - Python package\n",
    "  - Parses output from IgBLAST IMGT/High-VQuest\n",
    "  - Also can generate clones, reconstruct germlines\n",
    "- Format:\n",
    "  - Simple tabular format\n",
    "    - Easy to analyse and process\n",
    "  - Specifies names for particular fields"
   ]
  },
  {
   "cell_type": "markdown",
   "metadata": {
    "slideshow": {
     "slide_type": "slide"
    }
   },
   "source": [
    "## Workflow\n",
    "\n",
    "- Obtain reference sequences\n",
    "- Generate IgBLAST database\n",
    "- Convert FASTQ to FASTA\n",
    "- Run IgBLAST\n",
    "- Parse the output of IgBLAST\n",
    "- Generate clones"
   ]
  },
  {
   "cell_type": "markdown",
   "metadata": {
    "slideshow": {
     "slide_type": "slide"
    }
   },
   "source": [
    "## Obtaining germline sequences\n",
    "\n",
    "- Germline sequences can be obtained from IMGT\n",
    "- Also a community based effort from the AIRR Community\n",
    "  - Work in progress"
   ]
  },
  {
   "cell_type": "markdown",
   "metadata": {
    "slideshow": {
     "slide_type": "slide"
    }
   },
   "source": [
    "## Generating IgBLAST database"
   ]
  },
  {
   "cell_type": "code",
   "execution_count": 1,
   "metadata": {
    "collapsed": false,
    "slideshow": {
     "slide_type": "fragment"
    }
   },
   "outputs": [
    {
     "name": "stdout",
     "output_type": "stream",
     "text": [
      "\n",
      "\n",
      "Building a new DB, current time: 10/31/2016 17:09:29\n",
      "New DB name:   /home/simon/Projects/aairr16-working/slides/database/human_trb_v\n",
      "New DB title:  database/human_trb_v\n",
      "Sequence type: Nucleotide\n",
      "Keep Linkouts: T\n",
      "Keep MBits: T\n",
      "Maximum file size: 1000000000B\n",
      "Adding sequences from FASTA; added 142 sequences in 0.00876689 seconds.\n"
     ]
    }
   ],
   "source": [
    "%%bash\n",
    "# V-segment database\n",
    "perl ./edit_imgt_file.pl IMGT_Human_TRBV.fasta > database/human_trb_v\n",
    "makeblastdb -parse_seqids -dbtype nucl -in database/human_trb_v"
   ]
  },
  {
   "cell_type": "code",
   "execution_count": 2,
   "metadata": {
    "collapsed": false,
    "slideshow": {
     "slide_type": "skip"
    }
   },
   "outputs": [
    {
     "name": "stdout",
     "output_type": "stream",
     "text": [
      "\n",
      "\n",
      "Building a new DB, current time: 10/31/2016 17:09:36\n",
      "New DB name:   /home/simon/Projects/aairr16-working/slides/database/human_trb_d\n",
      "New DB title:  database/human_trb_d\n",
      "Sequence type: Nucleotide\n",
      "Keep Linkouts: T\n",
      "Keep MBits: T\n",
      "Maximum file size: 1000000000B\n",
      "Adding sequences from FASTA; added 3 sequences in 0.000468016 seconds.\n",
      "\n",
      "\n",
      "Building a new DB, current time: 10/31/2016 17:09:36\n",
      "New DB name:   /home/simon/Projects/aairr16-working/slides/database/human_trb_j\n",
      "New DB title:  database/human_trb_j\n",
      "Sequence type: Nucleotide\n",
      "Keep Linkouts: T\n",
      "Keep MBits: T\n",
      "Maximum file size: 1000000000B\n",
      "Adding sequences from FASTA; added 16 sequences in 0.000876904 seconds.\n"
     ]
    }
   ],
   "source": [
    "%%bash\n",
    "# D-segment database\n",
    "perl ./edit_imgt_file.pl IMGT_Human_TRBD.fasta > database/human_trb_d\n",
    "makeblastdb -parse_seqids -dbtype nucl -in database/human_trb_d\n",
    "# J-segment database\n",
    "perl ./edit_imgt_file.pl IMGT_Human_TRBJ.fasta > database/human_trb_j\n",
    "makeblastdb -parse_seqids -dbtype nucl -in database/human_trb_j"
   ]
  },
  {
   "cell_type": "markdown",
   "metadata": {
    "slideshow": {
     "slide_type": "slide"
    }
   },
   "source": [
    "## Convert FASTQ to FASTA\n",
    "\n",
    "- Most pipelines keep sequence data in FASTQ format, but IgBLAST takes FASTA\n",
    "- This little Biopython snippet converts FASTQ to FASTA"
   ]
  },
  {
   "cell_type": "code",
   "execution_count": 31,
   "metadata": {
    "collapsed": false,
    "slideshow": {
     "slide_type": "skip"
    }
   },
   "outputs": [],
   "source": [
    "from copy import deepcopy\n",
    "from Bio import SeqIO\n",
    "inhandle = open(\"A2-i131.fastq\",'r')\n",
    "outhandle = open(\"A2-i131_reheader.fastq\",'w')\n",
    "for record in SeqIO.parse(inhandle,\"fastq\"):\n",
    "    newr = deepcopy(record)\n",
    "    newr.id=newr.description.replace(\"MIG UMI:\",\"\")\n",
    "    newr.id=newr.id.replace(\":\",\"|CONSCOUNT=\")\n",
    "    newr.description=\"\"\n",
    "    newr.name=\"\"\n",
    "    SeqIO.write(newr,outhandle,\"fastq\")\n",
    "inhandle.close()\n",
    "outhandle.close()"
   ]
  },
  {
   "cell_type": "code",
   "execution_count": 32,
   "metadata": {
    "collapsed": false,
    "slideshow": {
     "slide_type": "skip"
    }
   },
   "outputs": [
    {
     "name": "stdout",
     "output_type": "stream",
     "text": [
      "@GTCATTTAGCATGCTG|CONSCOUNT=2\r\n",
      "TCCTGGAGTCGCCCAGCCCCAACCAGACCTCTCTGTACTTCTGTGCCAGCAGTTTAGAGGGGTACACTGAAGCTTTCTTTGGACAAGGCACCAGACTCAC\r\n",
      "+\r\n",
      "IIIIIIIIIIIIIIIIIIIIIIIIIIIIIIIIIIIIIIIIIIIIIIIIIIIIIIIIIIIIIIIIIIIIIIIIIIIIIIIIIIIIIIIIIIIIIIIIIIII\r\n",
      "@TTGCGTTCGTTCTAAT|CONSCOUNT=3\r\n",
      "TGAGCAACATGAGCCCTGAAGACAGCAGCATATATCTCTGCAGCGTCGTTACTAAGGACAGGGAAGAGACCCAGTACTTCGGGCCAGGCACGCGGCTCCT\r\n",
      "+\r\n",
      "IIIIIIIIIIIIIIIIIIIIIIIIIIIIIIIIIIIIIIIIIIIIIIIIIIIIIIIIIIIIIIIIIIIIIIIIIIIIIIIIIIIIIIIIIIIIIIIIIIII\r\n",
      "@TATAATATCGTAACGT|CONSCOUNT=7\r\n",
      "GATCCAGCCTGCAAAGCTTGAGGACTCGGCCGTGTATCTCTGTGCCAGCAGCTCCGGATACACCGGGGAGCTGTTTTTTGGAGAAGGCTCTAGGCTGACC\r\n"
     ]
    }
   ],
   "source": [
    "!head A2-i131_reheader.fastq"
   ]
  },
  {
   "cell_type": "code",
   "execution_count": 45,
   "metadata": {
    "collapsed": false,
    "slideshow": {
     "slide_type": "skip"
    }
   },
   "outputs": [
    {
     "name": "stdout",
     "output_type": "stream",
     "text": [
      "       START> CollapseSeq\n",
      "        FILE> A2-i131_reheader.fastq\n",
      " MAX_MISSING> 20\n",
      " UNIQ_FIELDS> None\n",
      " COPY_FIELDS> CONSCOUNT\n",
      "COPY_ACTIONS> sum\n",
      "   MAX_FIELD> None\n",
      "   MIN_FIELD> None\n",
      "       INNER> True\n",
      "KEEP_MISSING> False\n",
      "\n",
      "MISSING>  0\n",
      "PROGRESS> 10:48:40 [####################] 100% (429,994) 0.1 min\n",
      "\n",
      "      OUTPUT> A2-i131_collapse-unique.fastq\n",
      "   SEQUENCES> 429994\n",
      "      UNIQUE> 332480\n",
      "   DUPLICATE> 97514\n",
      "UNDETERMINED> 0\n",
      "         END> CollapseSeq\n",
      "\n"
     ]
    }
   ],
   "source": [
    "!CollapseSeq.py -s A2-i131_reheader.fastq -n 20 --inner \\\n",
    "    --cf CONSCOUNT --act sum --outname A2-i131"
   ]
  },
  {
   "cell_type": "code",
   "execution_count": 46,
   "metadata": {
    "collapsed": false,
    "slideshow": {
     "slide_type": "fragment"
    }
   },
   "outputs": [
    {
     "data": {
      "text/plain": [
       "332480"
      ]
     },
     "execution_count": 46,
     "metadata": {},
     "output_type": "execute_result"
    }
   ],
   "source": [
    "from Bio import SeqIO\n",
    "SeqIO.convert(\"A2-i131_collapse-unique.fastq\",\"fastq\",\"A2-i131.fasta\",\"fasta\")"
   ]
  },
  {
   "cell_type": "markdown",
   "metadata": {
    "slideshow": {
     "slide_type": "slide"
    }
   },
   "source": [
    "## Running IgBLAST\n",
    "\n",
    "- A custom output format is chosen to allow parsing with Change-O"
   ]
  },
  {
   "cell_type": "code",
   "execution_count": 47,
   "metadata": {
    "collapsed": false,
    "slideshow": {
     "slide_type": "fragment"
    }
   },
   "outputs": [],
   "source": [
    "%%bash\n",
    "igblastn \\\n",
    "    -germline_db_V database/human_trb_v \\\n",
    "    -germline_db_D database/human_trb_d \\\n",
    "    -germline_db_J database/human_trb_j \\\n",
    "    -auxiliary_data optional_file/human_gl.aux \\\n",
    "    -domain_system imgt -ig_seqtype TCR -organism human \\\n",
    "    -outfmt '7 std qseq sseq btop' \\\n",
    "    -query A2-i131.fasta \\\n",
    "    -out A2-i131.fmt7 \\\n",
    "    -num_threads 3"
   ]
  },
  {
   "cell_type": "markdown",
   "metadata": {
    "slideshow": {
     "slide_type": "slide"
    }
   },
   "source": [
    "## Postprocess BLAST"
   ]
  },
  {
   "cell_type": "code",
   "execution_count": 3,
   "metadata": {
    "collapsed": false,
    "slideshow": {
     "slide_type": "fragment"
    }
   },
   "outputs": [
    {
     "name": "stdout",
     "output_type": "stream",
     "text": [
      "        START> MakeDB\n",
      "      ALIGNER> IgBlast\n",
      "ALIGN_RESULTS> A2-i131.fmt7\n",
      "     SEQ_FILE> A2-i131.fasta\n",
      "     NO_PARSE> False\n",
      " SCORE_FIELDS> True\n",
      "REGION_FIELDS> True\n",
      "\n",
      "PROGRESS> 14:28:07 [                    ]   0% (      0) 0.0 min\r",
      "PROGRESS> 14:29:25 [#                   ]   5% ( 16,624) 1.3 min\r",
      "PROGRESS> 14:30:41 [##                  ]  10% ( 33,248) 2.6 min\r",
      "PROGRESS> 14:31:58 [###                 ]  15% ( 49,872) 3.9 min\r",
      "PROGRESS> 14:33:21 [####                ]  20% ( 66,496) 5.2 min\r",
      "PROGRESS> 14:34:39 [#####               ]  25% ( 83,120) 6.5 min\r",
      "PROGRESS> 14:36:02 [######              ]  30% ( 99,744) 7.9 min\r",
      "PROGRESS> 14:37:31 [#######             ]  35% (116,368) 9.4 min\r",
      "PROGRESS> 14:40:28 [########            ]  40% (132,992) 12.4 min\r",
      "PROGRESS> 14:43:11 [#########           ]  45% (149,616) 15.1 min\r",
      "PROGRESS> 14:45:45 [##########          ]  50% (166,240) 17.6 min\r",
      "PROGRESS> 14:47:52 [###########         ]  55% (182,864) 19.7 min\r",
      "PROGRESS> 14:49:05 [############        ]  60% (199,488) 21.0 min\r",
      "PROGRESS> 14:50:14 [#############       ]  65% (216,112) 22.1 min\r",
      "PROGRESS> 14:51:22 [##############      ]  70% (232,736) 23.3 min\r",
      "PROGRESS> 14:52:43 [###############     ]  75% (249,360) 24.6 min\r",
      "PROGRESS> 14:54:02 [################    ]  80% (265,984) 25.9 min\r",
      "PROGRESS> 14:55:18 [#################   ]  85% (282,608) 27.2 min\r",
      "PROGRESS> 14:56:31 [##################  ]  90% (299,232) 28.4 min\r",
      "PROGRESS> 14:57:42 [################### ]  95% (315,856) 29.6 min\r",
      "PROGRESS> 14:58:56 [####################] 100% (332,480) 30.8 min\n",
      "\n",
      "OUTPUT> A2-i131_db-pass.tab\n",
      "  PASS> 321568\n",
      "  FAIL> 10912\n",
      "   END> MakeDb\n",
      "\n"
     ]
    }
   ],
   "source": [
    "%%bash\n",
    "MakeDb.py igblast -i A2-i131.fmt7 -s A2-i131.fasta -r IMGT_Human_TRB[VDJ].fasta \\\n",
    "    --regions --scores"
   ]
  },
  {
   "cell_type": "markdown",
   "metadata": {
    "slideshow": {
     "slide_type": "slide"
    }
   },
   "source": [
    "## Defining clones"
   ]
  },
  {
   "cell_type": "code",
   "execution_count": 43,
   "metadata": {
    "collapsed": true,
    "slideshow": {
     "slide_type": "skip"
    }
   },
   "outputs": [],
   "source": [
    "%%R\n",
    "library(ggplot2)\n",
    "library(alakazam)\n",
    "library(shazam)"
   ]
  },
  {
   "cell_type": "code",
   "execution_count": null,
   "metadata": {
    "collapsed": true,
    "slideshow": {
     "slide_type": "slide"
    }
   },
   "outputs": [],
   "source": [
    "%%R\n",
    "db <- readChangeoDb(\"A2-i131_db-pass.tab\")\n",
    "db <- distToNearest(db, model=\"ham\", symmetry=\"min\")"
   ]
  },
  {
   "cell_type": "code",
   "execution_count": 48,
   "metadata": {
    "collapsed": false,
    "slideshow": {
     "slide_type": "slide"
    }
   },
   "outputs": [
    {
     "data": {
      "text/plain": [
       "\r",
       "Read 44.2% of 407100 rows\r",
       "Read 81.1% of 407100 rows\r",
       "Read 407100 rows and 47 (of 47) columns from 0.438 GB file in 00:00:04\n"
      ]
     },
     "metadata": {},
     "output_type": "display_data"
    },
    {
     "data": {
      "image/png": "[encoded data removed]"
     },
     "metadata": {},
     "output_type": "display_data"
    }
   ],
   "source": [
    "%%R\n",
    "p1 <- ggplot() + theme_bw() + \n",
    "    ggtitle(\"Distance to nearest: ham\") + xlab(\"distance\") +\n",
    "    geom_histogram(data=db, aes(x=DIST_NEAREST), binwidth=0.01, \n",
    "                   fill=\"steelblue\", color=\"white\")\n",
    "plot(p1)"
   ]
  },
  {
   "cell_type": "markdown",
   "metadata": {
    "slideshow": {
     "slide_type": "slide"
    }
   },
   "source": [
    "## Defining clones"
   ]
  },
  {
   "cell_type": "code",
   "execution_count": 1,
   "metadata": {
    "collapsed": false,
    "slideshow": {
     "slide_type": "fragment"
    }
   },
   "outputs": [
    {
     "name": "stdout",
     "output_type": "stream",
     "text": [
      "     START> DefineClones\n",
      "   DB_FILE> A2-i131_db-pass.tab\n",
      "GROUP_FUNC> indexJunctions\n",
      "GROUP_ARGS> {'fields': None, 'mode': 'gene', 'action': 'set'}\n",
      "CLONE_FUNC> distanceClones\n",
      "CLONE_ARGS> {'model': 'ham', 'linkage': 'single', 'sym': 'min', 'seq_field': 'JUNCTION', 'norm': 'len', 'distance': 0.01}\n",
      "     NPROC> 4\n",
      "\n",
      "PROGRESS> Grouping sequences\n",
      "PROGRESS> 22:53:15 (0) 0.0 min\r",
      "PROGRESS> 22:53:16 (1000) 0.0 min\r",
      "PROGRESS> 22:53:17 (2000) 0.0 min\r",
      "PROGRESS> 22:53:18 (3000) 0.1 min\r",
      "PROGRESS> 22:53:19 (4000) 0.1 min\r",
      "PROGRESS> 22:53:21 (5000) 0.1 min\r",
      "PROGRESS> 22:53:22 (6000) 0.1 min\r",
      "PROGRESS> 22:53:23 (7000) 0.1 min\r",
      "PROGRESS> 22:53:24 (8000) 0.2 min\r",
      "PROGRESS> 22:53:25 (9000) 0.2 min\r",
      "PROGRESS> 22:53:26 (10000) 0.2 min\r",
      "PROGRESS> 22:53:27 (11000) 0.2 min\r",
      "PROGRESS> 22:53:28 (12000) 0.2 min\r",
      "PROGRESS> 22:53:30 (13000) 0.3 min\r",
      "PROGRESS> 22:53:31 (14000) 0.3 min\r",
      "PROGRESS> 22:53:32 (15000) 0.3 min\r",
      "PROGRESS> 22:53:33 (16000) 0.3 min\r",
      "PROGRESS> 22:53:35 (17000) 0.3 min\r",
      "PROGRESS> 22:53:36 (18000) 0.3 min\r",
      "PROGRESS> 22:53:37 (19000) 0.4 min\r",
      "PROGRESS> 22:53:38 (20000) 0.4 min\r",
      "PROGRESS> 22:53:40 (21000) 0.4 min\r",
      "PROGRESS> 22:53:41 (22000) 0.4 min\r",
      "PROGRESS> 22:53:42 (23000) 0.5 min\r",
      "PROGRESS> 22:53:43 (24000) 0.5 min\r",
      "PROGRESS> 22:53:44 (25000) 0.5 min\r",
      "PROGRESS> 22:53:45 (26000) 0.5 min\r",
      "PROGRESS> 22:53:47 (27000) 0.5 min\r",
      "PROGRESS> 22:53:48 (28000) 0.6 min\r",
      "PROGRESS> 22:53:49 (29000) 0.6 min\r",
      "PROGRESS> 22:53:50 (30000) 0.6 min\r",
      "PROGRESS> 22:53:51 (31000) 0.6 min\r",
      "PROGRESS> 22:53:52 (32000) 0.6 min\r",
      "PROGRESS> 22:53:53 (33000) 0.6 min\r",
      "PROGRESS> 22:53:55 (34000) 0.7 min\r",
      "PROGRESS> 22:53:57 (35000) 0.7 min\r",
      "PROGRESS> 22:53:58 (36000) 0.7 min\r",
      "PROGRESS> 22:53:59 (37000) 0.7 min\r",
      "PROGRESS> 22:54:00 (38000) 0.8 min\r",
      "PROGRESS> 22:54:02 (39000) 0.8 min\r",
      "PROGRESS> 22:54:03 (40000) 0.8 min\r",
      "PROGRESS> 22:54:04 (41000) 0.8 min\r",
      "PROGRESS> 22:54:05 (42000) 0.8 min\r",
      "PROGRESS> 22:54:06 (43000) 0.9 min\r",
      "PROGRESS> 22:54:09 (44000) 0.9 min\r",
      "PROGRESS> 22:54:11 (45000) 0.9 min\r",
      "PROGRESS> 22:54:12 (46000) 1.0 min\r",
      "PROGRESS> 22:54:13 (47000) 1.0 min\r",
      "PROGRESS> 22:54:14 (48000) 1.0 min\r",
      "PROGRESS> 22:54:15 (49000) 1.0 min\r",
      "PROGRESS> 22:54:17 (50000) 1.0 min\r",
      "PROGRESS> 22:54:18 (51000) 1.1 min\r",
      "PROGRESS> 22:54:19 (52000) 1.1 min\r",
      "PROGRESS> 22:54:20 (53000) 1.1 min\r",
      "PROGRESS> 22:54:22 (54000) 1.1 min\r",
      "PROGRESS> 22:54:25 (55000) 1.2 min\r",
      "PROGRESS> 22:54:26 (56000) 1.2 min\r",
      "PROGRESS> 22:54:28 (57000) 1.2 min\r",
      "PROGRESS> 22:54:30 (58000) 1.2 min\r",
      "PROGRESS> 22:54:31 (59000) 1.3 min\r",
      "PROGRESS> 22:54:33 (60000) 1.3 min\r",
      "PROGRESS> 22:54:34 (61000) 1.3 min\r",
      "PROGRESS> 22:54:35 (62000) 1.3 min\r",
      "PROGRESS> 22:54:37 (63000) 1.4 min\r",
      "PROGRESS> 22:54:38 (64000) 1.4 min\r",
      "PROGRESS> 22:54:39 (65000) 1.4 min\r",
      "PROGRESS> 22:54:40 (66000) 1.4 min\r",
      "PROGRESS> 22:54:41 (67000) 1.4 min\r",
      "PROGRESS> 22:54:43 (68000) 1.5 min\r",
      "PROGRESS> 22:54:47 (69000) 1.5 min\r",
      "PROGRESS> 22:54:48 (70000) 1.6 min\r",
      "PROGRESS> 22:54:49 (71000) 1.6 min\r",
      "PROGRESS> 22:54:50 (72000) 1.6 min\r",
      "PROGRESS> 22:54:52 (73000) 1.6 min\r",
      "PROGRESS> 22:54:53 (74000) 1.6 min\r",
      "PROGRESS> 22:54:54 (75000) 1.7 min\r",
      "PROGRESS> 22:54:56 (76000) 1.7 min\r",
      "PROGRESS> 22:54:57 (77000) 1.7 min\r",
      "PROGRESS> 22:54:58 (78000) 1.7 min\r",
      "PROGRESS> 22:55:00 (79000) 1.7 min\r",
      "PROGRESS> 22:55:01 (80000) 1.8 min\r",
      "PROGRESS> 22:55:02 (81000) 1.8 min\r",
      "PROGRESS> 22:55:03 (82000) 1.8 min\r",
      "PROGRESS> 22:55:05 (83000) 1.8 min\r",
      "PROGRESS> 22:55:06 (84000) 1.9 min\r",
      "PROGRESS> 22:55:07 (85000) 1.9 min\r",
      "PROGRESS> 22:55:12 (86000) 1.9 min\r",
      "PROGRESS> 22:55:13 (87000) 2.0 min\r",
      "PROGRESS> 22:55:15 (88000) 2.0 min\r",
      "PROGRESS> 22:55:16 (89000) 2.0 min\r",
      "PROGRESS> 22:55:17 (90000) 2.0 min\r",
      "PROGRESS> 22:55:19 (91000) 2.1 min\r",
      "PROGRESS> 22:55:21 (92000) 2.1 min\r",
      "PROGRESS> 22:55:23 (93000) 2.1 min\r",
      "PROGRESS> 22:55:24 (94000) 2.2 min\r",
      "PROGRESS> 22:55:25 (95000) 2.2 min\r",
      "PROGRESS> 22:55:27 (96000) 2.2 min\r",
      "PROGRESS> 22:55:28 (97000) 2.2 min\r",
      "PROGRESS> 22:55:29 (98000) 2.2 min\r",
      "PROGRESS> 22:55:31 (99000) 2.3 min\r",
      "PROGRESS> 22:55:32 (100000) 2.3 min\r",
      "PROGRESS> 22:55:34 (101000) 2.3 min\r",
      "PROGRESS> 22:55:35 (102000) 2.3 min\r",
      "PROGRESS> 22:55:37 (103000) 2.4 min\r",
      "PROGRESS> 22:55:38 (104000) 2.4 min\r",
      "PROGRESS> 22:55:40 (105000) 2.4 min\r",
      "PROGRESS> 22:55:41 (106000) 2.4 min\r",
      "PROGRESS> 22:55:42 (107000) 2.5 min\r",
      "PROGRESS> 22:55:48 (108000) 2.6 min\r",
      "PROGRESS> 22:55:50 (109000) 2.6 min\r",
      "PROGRESS> 22:55:51 (110000) 2.6 min\r",
      "PROGRESS> 22:55:53 (111000) 2.6 min\r",
      "PROGRESS> 22:55:54 (112000) 2.7 min\r",
      "PROGRESS> 22:55:56 (113000) 2.7 min\r",
      "PROGRESS> 22:55:57 (114000) 2.7 min\r",
      "PROGRESS> 22:55:59 (115000) 2.7 min\r",
      "PROGRESS> 22:56:00 (116000) 2.8 min\r",
      "PROGRESS> 22:56:02 (117000) 2.8 min\r",
      "PROGRESS> 22:56:03 (118000) 2.8 min\r",
      "PROGRESS> 22:56:05 (119000) 2.8 min\r",
      "PROGRESS> 22:56:06 (120000) 2.9 min\r",
      "PROGRESS> 22:56:08 (121000) 2.9 min\r",
      "PROGRESS> 22:56:09 (122000) 2.9 min\r",
      "PROGRESS> 22:56:10 (123000) 2.9 min\r",
      "PROGRESS> 22:56:12 (124000) 2.9 min\r",
      "PROGRESS> 22:56:13 (125000) 3.0 min\r",
      "PROGRESS> 22:56:15 (126000) 3.0 min\r",
      "PROGRESS> 22:56:16 (127000) 3.0 min\r",
      "PROGRESS> 22:56:18 (128000) 3.1 min\r",
      "PROGRESS> 22:56:20 (129000) 3.1 min\r",
      "PROGRESS> 22:56:21 (130000) 3.1 min\r",
      "PROGRESS> 22:56:23 (131000) 3.1 min\r",
      "PROGRESS> 22:56:25 (132000) 3.2 min\r",
      "PROGRESS> 22:56:26 (133000) 3.2 min\r",
      "PROGRESS> 22:56:28 (134000) 3.2 min\r",
      "PROGRESS> 22:56:36 (135000) 3.4 min\r",
      "PROGRESS> 22:56:38 (136000) 3.4 min\r",
      "PROGRESS> 22:56:40 (137000) 3.4 min\r",
      "PROGRESS> 22:56:41 (138000) 3.4 min\r",
      "PROGRESS> 22:56:43 (139000) 3.5 min\r",
      "PROGRESS> 22:56:44 (140000) 3.5 min\r",
      "PROGRESS> 22:56:45 (141000) 3.5 min\r",
      "PROGRESS> 22:56:47 (142000) 3.5 min\r",
      "PROGRESS> 22:56:48 (143000) 3.6 min\r",
      "PROGRESS> 22:56:50 (144000) 3.6 min\r",
      "PROGRESS> 22:56:51 (145000) 3.6 min\r",
      "PROGRESS> 22:56:53 (146000) 3.6 min\r",
      "PROGRESS> 22:56:54 (147000) 3.7 min\r",
      "PROGRESS> 22:56:57 (148000) 3.7 min\r",
      "PROGRESS> 22:56:59 (149000) 3.7 min\r",
      "PROGRESS> 22:57:00 (150000) 3.8 min\r",
      "PROGRESS> 22:57:02 (151000) 3.8 min\r",
      "PROGRESS> 22:57:03 (152000) 3.8 min\r",
      "PROGRESS> 22:57:04 (153000) 3.8 min\r",
      "PROGRESS> 22:57:06 (154000) 3.9 min\r",
      "PROGRESS> 22:57:08 (155000) 3.9 min\r",
      "PROGRESS> 22:57:10 (156000) 3.9 min\r",
      "PROGRESS> 22:57:11 (157000) 3.9 min\r",
      "PROGRESS> 22:57:13 (158000) 4.0 min\r",
      "PROGRESS> 22:57:15 (159000) 4.0 min\r",
      "PROGRESS> 22:57:17 (160000) 4.0 min\r",
      "PROGRESS> 22:57:19 (161000) 4.1 min\r",
      "PROGRESS> 22:57:20 (162000) 4.1 min\r",
      "PROGRESS> 22:57:22 (163000) 4.1 min\r",
      "PROGRESS> 22:57:23 (164000) 4.1 min\r",
      "PROGRESS> 22:57:25 (165000) 4.2 min\r",
      "PROGRESS> 22:57:26 (166000) 4.2 min\r",
      "PROGRESS> 22:57:28 (167000) 4.2 min\r",
      "PROGRESS> 22:57:37 (168000) 4.4 min\r",
      "PROGRESS> 22:57:38 (169000) 4.4 min\r",
      "PROGRESS> 22:57:39 (170000) 4.4 min\r",
      "PROGRESS> 22:57:41 (171000) 4.4 min\r",
      "PROGRESS> 22:57:43 (172000) 4.5 min\r",
      "PROGRESS> 22:57:45 (173000) 4.5 min\r",
      "PROGRESS> 22:57:46 (174000) 4.5 min\r",
      "PROGRESS> 22:57:48 (175000) 4.5 min\r",
      "PROGRESS> 22:57:49 (176000) 4.6 min\r",
      "PROGRESS> 22:57:51 (177000) 4.6 min\r",
      "PROGRESS> 22:57:52 (178000) 4.6 min\r",
      "PROGRESS> 22:57:54 (179000) 4.7 min\r",
      "PROGRESS> 22:57:56 (180000) 4.7 min\r",
      "PROGRESS> 22:57:58 (181000) 4.7 min\r",
      "PROGRESS> 22:58:00 (182000) 4.7 min\r",
      "PROGRESS> 22:58:01 (183000) 4.8 min\r",
      "PROGRESS> 22:58:03 (184000) 4.8 min\r",
      "PROGRESS> 22:58:05 (185000) 4.8 min\r",
      "PROGRESS> 22:58:07 (186000) 4.9 min\r",
      "PROGRESS> 22:58:09 (187000) 4.9 min\r",
      "PROGRESS> 22:58:11 (188000) 4.9 min\r",
      "PROGRESS> 22:58:12 (189000) 5.0 min\r",
      "PROGRESS> 22:58:14 (190000) 5.0 min\r",
      "PROGRESS> 22:58:16 (191000) 5.0 min\r",
      "PROGRESS> 22:58:18 (192000) 5.1 min\r",
      "PROGRESS> 22:58:20 (193000) 5.1 min\r",
      "PROGRESS> 22:58:22 (194000) 5.1 min\r",
      "PROGRESS> 22:58:24 (195000) 5.1 min\r",
      "PROGRESS> 22:58:25 (196000) 5.2 min\r",
      "PROGRESS> 22:58:27 (197000) 5.2 min\r",
      "PROGRESS> 22:58:29 (198000) 5.2 min\r",
      "PROGRESS> 22:58:31 (199000) 5.3 min\r",
      "PROGRESS> 22:58:33 (200000) 5.3 min\r",
      "PROGRESS> 22:58:35 (201000) 5.3 min\r",
      "PROGRESS> 22:58:37 (202000) 5.4 min\r",
      "PROGRESS> 22:58:39 (203000) 5.4 min\r",
      "PROGRESS> 22:58:41 (204000) 5.4 min\r",
      "PROGRESS> 22:58:43 (205000) 5.5 min\r",
      "PROGRESS> 22:58:45 (206000) 5.5 min\r",
      "PROGRESS> 22:58:47 (207000) 5.5 min\r",
      "PROGRESS> 22:58:49 (208000) 5.6 min\r",
      "PROGRESS> 22:58:50 (209000) 5.6 min\r",
      "PROGRESS> 22:59:02 (210000) 5.8 min\r",
      "PROGRESS> 22:59:04 (211000) 5.8 min\r",
      "PROGRESS> 22:59:06 (212000) 5.8 min\r",
      "PROGRESS> 22:59:08 (213000) 5.9 min\r",
      "PROGRESS> 22:59:10 (214000) 5.9 min\r",
      "PROGRESS> 22:59:12 (215000) 6.0 min\r",
      "PROGRESS> 22:59:14 (216000) 6.0 min\r",
      "PROGRESS> 22:59:16 (217000) 6.0 min\r",
      "PROGRESS> 22:59:18 (218000) 6.0 min\r",
      "PROGRESS> 22:59:19 (219000) 6.1 min\r",
      "PROGRESS> 22:59:21 (220000) 6.1 min\r",
      "PROGRESS> 22:59:24 (221000) 6.1 min\r",
      "PROGRESS> 22:59:26 (222000) 6.2 min\r",
      "PROGRESS> 22:59:28 (223000) 6.2 min\r",
      "PROGRESS> 22:59:30 (224000) 6.2 min\r",
      "PROGRESS> 22:59:32 (225000) 6.3 min\r",
      "PROGRESS> 22:59:34 (226000) 6.3 min\r",
      "PROGRESS> 22:59:36 (227000) 6.4 min\r",
      "PROGRESS> 22:59:38 (228000) 6.4 min\r",
      "PROGRESS> 22:59:40 (229000) 6.4 min\r",
      "PROGRESS> 22:59:43 (230000) 6.5 min\r",
      "PROGRESS> 22:59:45 (231000) 6.5 min\r",
      "PROGRESS> 22:59:47 (232000) 6.5 min\r",
      "PROGRESS> 22:59:49 (233000) 6.6 min\r",
      "PROGRESS> 22:59:51 (234000) 6.6 min\r",
      "PROGRESS> 22:59:53 (235000) 6.6 min\r",
      "PROGRESS> 22:59:56 (236000) 6.7 min\r",
      "PROGRESS> 22:59:58 (237000) 6.7 min\r",
      "PROGRESS> 23:00:00 (238000) 6.8 min\r",
      "PROGRESS> 23:00:02 (239000) 6.8 min\r",
      "PROGRESS> 23:00:04 (240000) 6.8 min\r",
      "PROGRESS> 23:00:07 (241000) 6.9 min\r",
      "PROGRESS> 23:00:09 (242000) 6.9 min\r",
      "PROGRESS> 23:00:11 (243000) 6.9 min\r",
      "PROGRESS> 23:00:13 (244000) 7.0 min\r",
      "PROGRESS> 23:00:15 (245000) 7.0 min\r",
      "PROGRESS> 23:00:17 (246000) 7.0 min\r",
      "PROGRESS> 23:00:20 (247000) 7.1 min\r",
      "PROGRESS> 23:00:22 (248000) 7.1 min\r",
      "PROGRESS> 23:00:24 (249000) 7.1 min\r",
      "PROGRESS> 23:00:26 (250000) 7.2 min\r",
      "PROGRESS> 23:00:29 (251000) 7.2 min\r",
      "PROGRESS> 23:00:31 (252000) 7.3 min\r",
      "PROGRESS> 23:00:33 (253000) 7.3 min\r",
      "PROGRESS> 23:00:35 (254000) 7.3 min\r",
      "PROGRESS> 23:00:37 (255000) 7.4 min\r",
      "PROGRESS> 23:00:39 (256000) 7.4 min\r",
      "PROGRESS> 23:00:41 (257000) 7.4 min\r",
      "PROGRESS> 23:00:43 (258000) 7.5 min\r",
      "PROGRESS> 23:00:46 (259000) 7.5 min\r",
      "PROGRESS> 23:00:48 (260000) 7.6 min\r",
      "PROGRESS> 23:00:50 (261000) 7.6 min\r",
      "PROGRESS> 23:01:05 (262000) 7.8 min\r",
      "PROGRESS> 23:01:07 (263000) 7.9 min\r",
      "PROGRESS> 23:01:10 (264000) 7.9 min\r",
      "PROGRESS> 23:01:12 (265000) 7.9 min\r",
      "PROGRESS> 23:01:14 (266000) 8.0 min\r",
      "PROGRESS> 23:01:16 (267000) 8.0 min\r",
      "PROGRESS> 23:01:18 (268000) 8.1 min\r",
      "PROGRESS> 23:01:21 (269000) 8.1 min\r",
      "PROGRESS> 23:01:23 (270000) 8.1 min\r",
      "PROGRESS> 23:01:26 (271000) 8.2 min\r",
      "PROGRESS> 23:01:28 (272000) 8.2 min\r",
      "PROGRESS> 23:01:30 (273000) 8.3 min\r",
      "PROGRESS> 23:01:32 (274000) 8.3 min\r",
      "PROGRESS> 23:01:35 (275000) 8.3 min\r",
      "PROGRESS> 23:01:37 (276000) 8.4 min\r",
      "PROGRESS> 23:01:39 (277000) 8.4 min\r",
      "PROGRESS> 23:01:42 (278000) 8.4 min\r",
      "PROGRESS> 23:01:44 (279000) 8.5 min\r",
      "PROGRESS> 23:01:46 (280000) 8.5 min\r",
      "PROGRESS> 23:01:48 (281000) 8.6 min\r",
      "PROGRESS> 23:01:51 (282000) 8.6 min\r",
      "PROGRESS> 23:01:53 (283000) 8.6 min\r",
      "PROGRESS> 23:01:55 (284000) 8.7 min\r",
      "PROGRESS> 23:01:58 (285000) 8.7 min\r",
      "PROGRESS> 23:02:00 (286000) 8.8 min\r",
      "PROGRESS> 23:02:03 (287000) 8.8 min\r",
      "PROGRESS> 23:02:05 (288000) 8.8 min\r",
      "PROGRESS> 23:02:08 (289000) 8.9 min\r",
      "PROGRESS> 23:02:10 (290000) 8.9 min\r",
      "PROGRESS> 23:02:13 (291000) 9.0 min\r",
      "PROGRESS> 23:02:15 (292000) 9.0 min\r",
      "PROGRESS> 23:02:17 (293000) 9.0 min\r",
      "PROGRESS> 23:02:20 (294000) 9.1 min\r",
      "PROGRESS> 23:02:23 (295000) 9.1 min\r",
      "PROGRESS> 23:02:26 (296000) 9.2 min\r",
      "PROGRESS> 23:02:28 (297000) 9.2 min\r",
      "PROGRESS> 23:02:31 (298000) 9.3 min\r",
      "PROGRESS> 23:02:33 (299000) 9.3 min\r",
      "PROGRESS> 23:02:36 (300000) 9.4 min\r",
      "PROGRESS> 23:02:38 (301000) 9.4 min\r",
      "PROGRESS> 23:02:41 (302000) 9.4 min\r",
      "PROGRESS> 23:02:43 (303000) 9.5 min\r",
      "PROGRESS> 23:02:46 (304000) 9.5 min\r",
      "PROGRESS> 23:02:48 (305000) 9.6 min\r",
      "PROGRESS> 23:02:51 (306000) 9.6 min\r",
      "PROGRESS> 23:02:53 (307000) 9.6 min\r",
      "PROGRESS> 23:02:56 (308000) 9.7 min\r",
      "PROGRESS> 23:02:58 (309000) 9.7 min\r",
      "PROGRESS> 23:03:01 (310000) 9.8 min\r",
      "PROGRESS> 23:03:04 (311000) 9.8 min\r",
      "PROGRESS> 23:03:06 (312000) 9.9 min\r",
      "PROGRESS> 23:03:08 (313000) 9.9 min\r",
      "PROGRESS> 23:03:11 (314000) 9.9 min\r",
      "PROGRESS> 23:03:14 (315000) 10.0 min\r",
      "PROGRESS> 23:03:16 (316000) 10.0 min\r",
      "PROGRESS> 23:03:19 (317000) 10.1 min\r",
      "PROGRESS> 23:03:22 (318000) 10.1 min\r",
      "PROGRESS> 23:03:25 (319000) 10.2 min\r",
      "PROGRESS> 23:03:27 (320000) 10.2 min\r",
      "PROGRESS> 23:03:30 (321000) 10.2 min\r",
      "PROGRESS> 23:03:31 (321568) 10.3 min\n",
      "\n",
      "PROGRESS> Assigning clones\n",
      "PROGRESS> 23:03:31 [                    ]   0% (      0) 9.8 min\r",
      "PROGRESS> 23:56:51 [#                   ]   5% ( 16,079) 63.1 min\r",
      "PROGRESS> 13:09:31 [####################] 100% (321,568) 855.8 min\n",
      "\n",
      " OUTPUT> A2-i131_db-pass_clone-pass.tab\n",
      " CLONES> 285704\n",
      "RECORDS> 321568\n",
      "   PASS> 321568\n",
      "   FAIL> 0\n",
      "    END> DefineClones\n",
      "\n"
     ]
    }
   ],
   "source": [
    "%%bash\n",
    "DefineClones.py bygroup -d A2-i131_db-pass.tab --act set --model ham \\\n",
    "--sym min --norm len --dist 0.01"
   ]
  }
 ],
 "metadata": {
  "celltoolbar": "Slideshow",
  "kernelspec": {
   "display_name": "Python 3",
   "language": "python",
   "name": "python3"
  },
  "language_info": {
   "codemirror_mode": {
    "name": "ipython",
    "version": 3
   },
   "file_extension": ".py",
   "mimetype": "text/x-python",
   "name": "python",
   "nbconvert_exporter": "python",
   "pygments_lexer": "ipython3",
   "version": "3.5.2"
  },
  "livereveal": {
   "theme": "white",
   "transition": "slide"
  }
 },
 "nbformat": 4,
 "nbformat_minor": 1
}
