{
 "cells": [
  {
   "cell_type": "markdown",
   "metadata": {},
   "source": [
    "## UMI example"
   ]
  },
  {
   "cell_type": "markdown",
   "metadata": {},
   "source": [
    "This is an example taken from the pRESTO documentation, linked [here](http://presto.readthedocs.io/en/latest/workflows/Stern2014_Workflow.html). The abstract of the paper is below."
   ]
  },
  {
   "cell_type": "code",
   "execution_count": 1,
   "metadata": {
    "collapsed": false
   },
   "outputs": [
    {
     "name": "stdout",
     "output_type": "stream",
     "text": [
      "\r\n",
      "1. Sci Transl Med. 2014 Aug 6;6(248):248ra107. doi: 10.1126/scitranslmed.3008879.\r\n",
      "\r\n",
      "B cells populating the multiple sclerosis brain mature in the draining cervical\r\n",
      "lymph nodes.\r\n",
      "\r\n",
      "Stern JN(1), Yaari G(2), Vander Heiden JA(3), Church G(4), Donahue WF(5), Hintzen\r\n",
      "RQ(6), Huttner AJ(7), Laman JD(8), Nagra RM(9), Nylander A(1), Pitt D(1), Ramanan\r\n",
      "S(1), Siddiqui BA(1), Vigneault F(10), Kleinstein SH(11), Hafler DA(12), O'Connor\r\n",
      "KC(13).\r\n",
      "\r\n",
      "Author information: \r\n",
      "(1)Department of Neurology, Yale School of Medicine, New Haven, CT 06511, USA.\r\n",
      "(2)Department of Pathology, Yale School of Medicine, New Haven, CT 06511, USA.\r\n",
      "Bioengineering Program, Faculty of Engineering, Bar-Ilan University, Ramat Gan\r\n",
      "52900, Israel. (3)Interdepartmental Program in Computational Biology and\r\n",
      "Bioinformatics, Yale University, New Haven, CT 06511, USA. (4)Department of\r\n",
      "Genetics, Harvard Medical School, Boston, MA 02115, USA. (5)AbVitro Incorporated,\r\n",
      "Boston, MA 02210, USA. (6)Department of Neurology, Erasmus MC, University Medical\r\n",
      "Center Rotterdam, and MS Centrum ErasMS, 3000 CA Rotterdam, the Netherlands.\r\n",
      "(7)Department of Pathology, Yale School of Medicine, New Haven, CT 06511, USA.\r\n",
      "(8)Department of Immunology, Erasmus MC, University Medical Center Rotterdam, and\r\n",
      "MS Centrum ErasMS, 3000 CA Rotterdam, the Netherlands. (9)Neurology Research,\r\n",
      "West Los Angeles VA Medical Center, Los Angeles, CA 90073, USA. (10)Department of\r\n",
      "Genetics, Harvard Medical School, Boston, MA 02115, USA. AbVitro Incorporated,\r\n",
      "Boston, MA 02210, USA. (11)Department of Pathology, Yale School of Medicine, New \r\n",
      "Haven, CT 06511, USA. Interdepartmental Program in Computational Biology and\r\n",
      "Bioinformatics, Yale University, New Haven, CT 06511, USA.\r\n",
      "steven.kleinstein@yale.edu david.hafler@yale.edu kevin.oconnor@yale.edu.\r\n",
      "(12)Department of Neurology, Yale School of Medicine, New Haven, CT 06511, USA.\r\n",
      "Department of Immunobiology, Yale School of Medicine, New Haven, CT 06511, USA.\r\n",
      "steven.kleinstein@yale.edu david.hafler@yale.edu kevin.oconnor@yale.edu.\r\n",
      "(13)Department of Neurology, Yale School of Medicine, New Haven, CT 06511, USA.\r\n",
      "steven.kleinstein@yale.edu david.hafler@yale.edu kevin.oconnor@yale.edu.\r\n",
      "\r\n",
      "Comment in\r\n",
      "    Sci Transl Med. 2014 Aug 6;6(248):248fs31.\r\n",
      "\r\n",
      "Multiple sclerosis (MS) is an inflammatory disease of the central nervous system \r\n",
      "(CNS) characterized by autoimmune-mediated demyelination and neurodegeneration.\r\n",
      "The CNS of patients with MS harbors expanded clones of antigen-experienced B\r\n",
      "cells that reside in distinct compartments including the meninges, cerebrospinal \r\n",
      "fluid (CSF), and parenchyma. It is not understood whether this immune infiltrate \r\n",
      "initiates its development in the CNS or in peripheral tissues. B cells in the CSF\r\n",
      "can exchange with those in peripheral blood, implying that CNS B cells may have\r\n",
      "access to lymphoid tissue that may be the specific compartment(s) in which\r\n",
      "CNS-resident B cells encounter antigen and experience affinity maturation. Paired\r\n",
      "tissues were used to determine whether the B cells that populate the CNS mature\r\n",
      "in the draining cervical lymph nodes (CLNs). High-throughput sequencing of the\r\n",
      "antibody repertoire demonstrated that clonally expanded B cells were present in\r\n",
      "both compartments. Founding members of clones were more often found in the\r\n",
      "draining CLNs. More mature clonal members derived from these founders were\r\n",
      "observed in the draining CLNs and also in the CNS, including lesions. These data \r\n",
      "provide new evidence that B cells traffic freely across the tissue barrier, with \r\n",
      "the majority of B cell maturation occurring outside of the CNS in the secondary\r\n",
      "lymphoid tissue. Our study may aid in further defining the mechanisms of\r\n",
      "immunomodulatory therapies that either deplete circulating B cells or affect the \r\n",
      "intrathecal B cell compartment by inhibiting lymphocyte transmigration into the\r\n",
      "CNS.\r\n",
      "\r\n",
      "Copyright © 2014, American Association for the Advancement of Science.\r\n",
      "\r\n",
      "DOI: 10.1126/scitranslmed.3008879 \r\n",
      "PMCID: PMC4388137\r\n",
      "PMID: 25100741  [PubMed - indexed for MEDLINE]\r\n",
      "\r\n"
     ]
    }
   ],
   "source": [
    "!esearch -db pubmed -query 25100741 | efetch -format abstract"
   ]
  },
  {
   "cell_type": "markdown",
   "metadata": {},
   "source": [
    "The read layout is shown below."
   ]
  },
  {
   "cell_type": "markdown",
   "metadata": {},
   "source": [
    "![](http://presto.readthedocs.io/en/latest/_images/Stern2014_ReadConfiguration.svg)"
   ]
  },
  {
   "cell_type": "markdown",
   "metadata": {},
   "source": [
    "The workflow for processing the data is shown below."
   ]
  },
  {
   "cell_type": "markdown",
   "metadata": {},
   "source": [
    "![](http://presto.readthedocs.io/en/latest/_images/Stern2014_Flowchart.svg)"
   ]
  },
  {
   "cell_type": "markdown",
   "metadata": {},
   "source": [
    "## Obtaining the data"
   ]
  },
  {
   "cell_type": "markdown",
   "metadata": {},
   "source": [
    "Use `fastq-dump` to obtain the sequence data from accession SRR1383456, by running the cell below."
   ]
  },
  {
   "cell_type": "code",
   "execution_count": 2,
   "metadata": {
    "collapsed": false
   },
   "outputs": [
    {
     "name": "stdout",
     "output_type": "stream",
     "text": [
      "Read 63073 spots for SRR1383456\r\n",
      "Written 63073 spots for SRR1383456\r\n"
     ]
    }
   ],
   "source": [
    "!fastq-dump --split-files --readids SRR1383456"
   ]
  },
  {
   "cell_type": "markdown",
   "metadata": {},
   "source": [
    "## Filtering by quality"
   ]
  },
  {
   "cell_type": "markdown",
   "metadata": {},
   "source": [
    "Use `FilterSeq.py quality` with a minimum (mean) quality score of 20 to filter the paired end reads. The usage information is given below."
   ]
  },
  {
   "cell_type": "code",
   "execution_count": 3,
   "metadata": {
    "collapsed": false
   },
   "outputs": [
    {
     "name": "stdout",
     "output_type": "stream",
     "text": [
      "usage: FilterSeq.py quality [-h] -s SEQ_FILES [SEQ_FILES ...] [--fasta]\r\n",
      "                            [--failed] [--log LOG_FILE] [--nproc NPROC]\r\n",
      "                            [--outdir OUT_DIR] [--outname OUT_NAME]\r\n",
      "                            [-q MIN_QUAL] [--inner]\r\n",
      "\r\n",
      "optional arguments:\r\n",
      "  -h, --help            show this help message and exit\r\n",
      "  -s SEQ_FILES [SEQ_FILES ...]\r\n",
      "                        A list of FASTA/FASTQ files containing sequences to\r\n",
      "                        process. (default: None)\r\n",
      "  --fasta               Specify to force output as FASTA rather than FASTQ.\r\n",
      "                        (default: None)\r\n",
      "  --failed              If specified create files containing records that fail\r\n",
      "                        processing. (default: False)\r\n",
      "  --log LOG_FILE        Specify to write verbose logging to a file. May not be\r\n",
      "                        specified with multiple input files. (default: None)\r\n",
      "  --nproc NPROC         The number of simultaneous computational processes to\r\n",
      "                        execute (CPU cores to utilized). (default: 4)\r\n",
      "  --outdir OUT_DIR      Specify to changes the output directory to the\r\n",
      "                        location specified. The input file directory is used\r\n",
      "                        if this is not specified. (default: None)\r\n",
      "  --outname OUT_NAME    Changes the prefix of the successfully processed\r\n",
      "                        output file to the string specified. May not be\r\n",
      "                        specified with multiple input files. (default: None)\r\n",
      "  -q MIN_QUAL           Quality score threshold. (default: 20)\r\n",
      "  --inner               If specified exclude consecutive missing characters at\r\n",
      "                        either end of the sequence. (default: False)\r\n"
     ]
    }
   ],
   "source": [
    "!FilterSeq.py quality -h"
   ]
  },
  {
   "cell_type": "markdown",
   "metadata": {},
   "source": [
    "Run the cell below to filter read 1."
   ]
  },
  {
   "cell_type": "code",
   "execution_count": 4,
   "metadata": {
    "collapsed": false
   },
   "outputs": [
    {
     "name": "stdout",
     "output_type": "stream",
     "text": [
      "   START> FilterSeq\n",
      " COMMAND> quality\n",
      "    FILE> SRR1383456_1.fastq\n",
      "   INNER> False\n",
      "MIN_QUAL> 20.0\n",
      "   NPROC> 4\n",
      "\n",
      "PROGRESS> 10:34:54 [####################] 100% (63,073) 0.4 min\n",
      "\n",
      "   OUTPUT> SRR1383456_R1_quality-pass.fastq\n",
      "SEQUENCES> 63073\n",
      "     PASS> 57958\n",
      "     FAIL> 5115\n",
      "      END> FilterSeq\n",
      "\n"
     ]
    }
   ],
   "source": [
    "!FilterSeq.py quality -s SRR1383456_1.fastq -q 20 --outname SRR1383456_R1 --log SRR1383456.quality.R1.log"
   ]
  },
  {
   "cell_type": "markdown",
   "metadata": {},
   "source": [
    "**Now repeat the above, but for the read 2.**"
   ]
  },
  {
   "cell_type": "code",
   "execution_count": 5,
   "metadata": {
    "collapsed": false
   },
   "outputs": [
    {
     "name": "stdout",
     "output_type": "stream",
     "text": [
      "   START> FilterSeq\n",
      " COMMAND> quality\n",
      "    FILE> SRR1383456_2.fastq\n",
      "   INNER> False\n",
      "MIN_QUAL> 20.0\n",
      "   NPROC> 4\n",
      "\n",
      "PROGRESS> 10:35:13 [####################] 100% (63,073) 0.3 min\n",
      "\n",
      "   OUTPUT> SRR1383456_R2_quality-pass.fastq\n",
      "SEQUENCES> 63073\n",
      "     PASS> 50234\n",
      "     FAIL> 12839\n",
      "      END> FilterSeq\n",
      "\n"
     ]
    }
   ],
   "source": [
    "!FilterSeq.py quality -s SRR1383456_2.fastq -q 20 --outname SRR1383456_R2 --log SRR1383456.quality.R2.log"
   ]
  },
  {
   "cell_type": "markdown",
   "metadata": {},
   "source": [
    "## Masking primers"
   ]
  },
  {
   "cell_type": "markdown",
   "metadata": {},
   "source": [
    "Now cut the primers (`Stern2014_CPrimers.fasta`) from read 1 We know where the primers start (15 for read 1), so we can use `MaskPrimers.py score` rather than `MaskPrimers.py align`. Read 1 is bar-coded **so you need to specify the `--barcode` option** to extract the barcode region."
   ]
  },
  {
   "cell_type": "code",
   "execution_count": 6,
   "metadata": {
    "collapsed": false
   },
   "outputs": [
    {
     "name": "stdout",
     "output_type": "stream",
     "text": [
      "usage: MaskPrimers.py score [-h] -s SEQ_FILES [SEQ_FILES ...] [--fasta]\r\n",
      "                            [--failed] [--log LOG_FILE]\r\n",
      "                            [--delim DELIMITER DELIMITER DELIMITER]\r\n",
      "                            [--nproc NPROC] [--outdir OUT_DIR]\r\n",
      "                            [--outname OUT_NAME] -p PRIMER_FILE\r\n",
      "                            [--mode {cut,mask,trim,tag}]\r\n",
      "                            [--maxerror MAX_ERROR] [--revpr] [--barcode]\r\n",
      "                            [--start START]\r\n",
      "\r\n",
      "optional arguments:\r\n",
      "  -h, --help            show this help message and exit\r\n",
      "  -s SEQ_FILES [SEQ_FILES ...]\r\n",
      "                        A list of FASTA/FASTQ files containing sequences to\r\n",
      "                        process. (default: None)\r\n",
      "  --fasta               Specify to force output as FASTA rather than FASTQ.\r\n",
      "                        (default: None)\r\n",
      "  --failed              If specified create files containing records that fail\r\n",
      "                        processing. (default: False)\r\n",
      "  --log LOG_FILE        Specify to write verbose logging to a file. May not be\r\n",
      "                        specified with multiple input files. (default: None)\r\n",
      "  --delim DELIMITER DELIMITER DELIMITER\r\n",
      "                        A list of the three delimiters that separate\r\n",
      "                        annotation blocks, field names and values, and values\r\n",
      "                        within a field, respectively. (default: ('|', '=',\r\n",
      "                        ','))\r\n",
      "  --nproc NPROC         The number of simultaneous computational processes to\r\n",
      "                        execute (CPU cores to utilized). (default: 4)\r\n",
      "  --outdir OUT_DIR      Specify to changes the output directory to the\r\n",
      "                        location specified. The input file directory is used\r\n",
      "                        if this is not specified. (default: None)\r\n",
      "  --outname OUT_NAME    Changes the prefix of the successfully processed\r\n",
      "                        output file to the string specified. May not be\r\n",
      "                        specified with multiple input files. (default: None)\r\n",
      "  -p PRIMER_FILE        A FASTA or REGEX file containing primer sequences.\r\n",
      "                        (default: None)\r\n",
      "  --mode {cut,mask,trim,tag}\r\n",
      "                        Specifies the action to take with the primer sequence.\r\n",
      "                        The \"cut\" mode will remove both the primer region and\r\n",
      "                        the preceding sequence. The \"mask\" mode will replace\r\n",
      "                        the primer region with Ns and remove the preceding\r\n",
      "                        sequence. The \"trim\" mode will remove the region\r\n",
      "                        preceding the primer, but leave the primer region\r\n",
      "                        intact. The \"tag\" mode will leave the input sequence\r\n",
      "                        unmodified. (default: mask)\r\n",
      "  --maxerror MAX_ERROR  Maximum allowable error rate. (default: 0.2)\r\n",
      "  --revpr               Specify to match the tail-end of the sequence against\r\n",
      "                        the reverse complement of the primers. (default:\r\n",
      "                        False)\r\n",
      "  --barcode             Specify to encode sequences with barcode sequences\r\n",
      "                        (unique molecular identifiers) found preceding the\r\n",
      "                        primer region. (default: False)\r\n",
      "  --start START         The starting position of the primer (default: 0)\r\n"
     ]
    }
   ],
   "source": [
    "!MaskPrimers.py score -h"
   ]
  },
  {
   "cell_type": "markdown",
   "metadata": {},
   "source": [
    "Run the cell below to mask the reverse primers and extract the barcode."
   ]
  },
  {
   "cell_type": "code",
   "execution_count": 7,
   "metadata": {
    "collapsed": false
   },
   "outputs": [
    {
     "name": "stdout",
     "output_type": "stream",
     "text": [
      "      START> MaskPrimers\n",
      "    COMMAND> score\n",
      "   SEQ_FILE> SRR1383456_R1_quality-pass.fastq\n",
      "PRIMER_FILE> Stern2014_CPrimers.fasta\n",
      "       MODE> cut\n",
      "    BARCODE> True\n",
      "  MAX_ERROR> 0.2\n",
      "  START_POS> 15\n",
      " REV_PRIMER> False\n",
      "      NPROC> 4\n",
      "\n",
      "PROGRESS> 10:35:41 [####################] 100% (57,958) 0.4 min\n",
      "\n",
      "   OUTPUT> SRR1383456_R1_primers-pass.fastq\n",
      "SEQUENCES> 57958\n",
      "     PASS> 51952\n",
      "     FAIL> 6006\n",
      "      END> MaskPrimers\n",
      "\n"
     ]
    }
   ],
   "source": [
    "!MaskPrimers.py score -s SRR1383456_R1_quality-pass.fastq -p Stern2014_CPrimers.fasta \\\n",
    "    --start 15 --mode cut --barcode --outname SRR1383456_R1 --log SRR1383456.REV.log"
   ]
  },
  {
   "cell_type": "markdown",
   "metadata": {},
   "source": [
    "**Using the above as a guide, complete the below cell to mask the forward primer from read 2 (`Stern2014_VPrimers.fasta`) starting from position 0.**"
   ]
  },
  {
   "cell_type": "code",
   "execution_count": 8,
   "metadata": {
    "collapsed": false
   },
   "outputs": [
    {
     "name": "stdout",
     "output_type": "stream",
     "text": [
      "      START> MaskPrimers\n",
      "    COMMAND> score\n",
      "   SEQ_FILE> SRR1383456_R2_quality-pass.fastq\n",
      "PRIMER_FILE> Stern2014_VPrimers.fasta\n",
      "       MODE> mask\n",
      "    BARCODE> False\n",
      "  MAX_ERROR> 0.2\n",
      "  START_POS> 0\n",
      " REV_PRIMER> False\n",
      "      NPROC> 4\n",
      "\n",
      "PROGRESS> 10:36:37 [####################] 100% (50,234) 0.9 min\n",
      "\n",
      "   OUTPUT> SRR1383456_R2_primers-pass.fastq\n",
      "SEQUENCES> 50234\n",
      "     PASS> 48076\n",
      "     FAIL> 2158\n",
      "      END> MaskPrimers\n",
      "\n"
     ]
    }
   ],
   "source": [
    "!MaskPrimers.py score -s SRR1383456_R2_quality-pass.fastq -p Stern2014_VPrimers.fasta \\\n",
    "    --start 0 --mode mask --outname SRR1383456_R2 --log SRR1383456.FWD.log"
   ]
  },
  {
   "cell_type": "markdown",
   "metadata": {},
   "source": [
    "## Copying over the barcodes"
   ]
  },
  {
   "cell_type": "markdown",
   "metadata": {},
   "source": [
    "The barcode region is only annotated in read 1, so we need to copy this over to read 2, which we do with `PairSeq.py`."
   ]
  },
  {
   "cell_type": "code",
   "execution_count": 9,
   "metadata": {
    "collapsed": false
   },
   "outputs": [
    {
     "name": "stdout",
     "output_type": "stream",
     "text": [
      "usage: PairSeq.py [-h] -1 SEQ_FILES_1 [SEQ_FILES_1 ...] -2 SEQ_FILES_2\r\n",
      "                  [SEQ_FILES_2 ...] [--fasta] [--failed]\r\n",
      "                  [--delim DELIMITER DELIMITER DELIMITER] [--outdir OUT_DIR]\r\n",
      "                  [--outname OUT_NAME] [--version]\r\n",
      "                  [--1f FIELDS_1 [FIELDS_1 ...]]\r\n",
      "                  [--2f FIELDS_2 [FIELDS_2 ...]]\r\n",
      "                  [--coord {illumina,solexa,sra,454,presto}]\r\n",
      "\r\n",
      "Sorts and matches sequence records with matching coordinates across files\r\n",
      "\r\n",
      "optional arguments:\r\n",
      "  -h, --help            show this help message and exit\r\n",
      "  -1 SEQ_FILES_1 [SEQ_FILES_1 ...]\r\n",
      "                        An ordered list of FASTA/FASTQ files containing\r\n",
      "                        head/primary sequences. (default: None)\r\n",
      "  -2 SEQ_FILES_2 [SEQ_FILES_2 ...]\r\n",
      "                        An ordered list of FASTA/FASTQ files containing\r\n",
      "                        tail/secondary sequences. (default: None)\r\n",
      "  --fasta               Specify to force output as FASTA rather than FASTQ.\r\n",
      "                        (default: None)\r\n",
      "  --failed              If specified create files containing records that fail\r\n",
      "                        processing. (default: False)\r\n",
      "  --delim DELIMITER DELIMITER DELIMITER\r\n",
      "                        A list of the three delimiters that separate\r\n",
      "                        annotation blocks, field names and values, and values\r\n",
      "                        within a field, respectively. (default: ('|', '=',\r\n",
      "                        ','))\r\n",
      "  --outdir OUT_DIR      Specify to changes the output directory to the\r\n",
      "                        location specified. The input file directory is used\r\n",
      "                        if this is not specified. (default: None)\r\n",
      "  --outname OUT_NAME    Changes the prefix of the successfully processed\r\n",
      "                        output file to the string specified. May not be\r\n",
      "                        specified with multiple input files. (default: None)\r\n",
      "  --version             show program's version number and exit\r\n",
      "  --1f FIELDS_1 [FIELDS_1 ...]\r\n",
      "                        The annotation fields to copy from file 1 records into\r\n",
      "                        file 2 records. If a copied annotation already exists\r\n",
      "                        in a file 2 record, then the annotations copied from\r\n",
      "                        file 1 will be added to the front of the existing\r\n",
      "                        annotation. (default: None)\r\n",
      "  --2f FIELDS_2 [FIELDS_2 ...]\r\n",
      "                        The annotation fields to copy from file 2 records into\r\n",
      "                        file 1 records. If a copied annotation already exists\r\n",
      "                        in a file 1 record, then the annotations copied from\r\n",
      "                        file 2 will be added to the end of the existing\r\n",
      "                        annotation. (default: None)\r\n",
      "  --coord {illumina,solexa,sra,454,presto}\r\n",
      "                        The format of the sequence identifier which defines\r\n",
      "                        shared coordinate information across mate pairs.\r\n",
      "                        (default: presto)\r\n",
      "\r\n",
      "output files:\r\n",
      "    pair-pass\r\n",
      "        successfully paired reads with modified annotations.\r\n",
      "    pair-fail\r\n",
      "        raw reads that could not be assigned to a mate-pair.\r\n",
      "\r\n",
      "output annotation fields:\r\n",
      "    <user defined>\r\n",
      "        annotation fields specified by the --1f or --2f arguments.\r\n"
     ]
    }
   ],
   "source": [
    "!PairSeq.py -h"
   ]
  },
  {
   "cell_type": "markdown",
   "metadata": {},
   "source": [
    "Run the below cell to copy over the annotation."
   ]
  },
  {
   "cell_type": "code",
   "execution_count": 10,
   "metadata": {
    "collapsed": false
   },
   "outputs": [
    {
     "name": "stdout",
     "output_type": "stream",
     "text": [
      "     START> PairSeq\n",
      "     FILE1> SRR1383456_R1_primers-pass.fastq\n",
      "     FILE2> SRR1383456_R2_primers-pass.fastq\n",
      "  FIELDS_1> BARCODE\n",
      "  FIELDS_2> None\n",
      "COORD_TYPE> sra\n",
      "\n",
      "PROGRESS> 10:36:40 [Done                ] 0.0 min\n",
      "\n",
      "PROGRESS> 10:36:52 [####################] 100% (48,076) 0.2 min\n",
      "\n",
      "   OUTPUT1> SRR1383456_R1_primers-pass_pair-pass.fastq\n",
      "   OUTPUT2> SRR1383456_R2_primers-pass_pair-pass.fastq\n",
      "SEQUENCES1> 51952\n",
      "SEQUENCES2> 48076\n",
      "      PASS> 43457\n",
      "       END> PairSeq\n",
      "\n"
     ]
    }
   ],
   "source": [
    "!PairSeq.py -1 SRR1383456_R1_primers-pass.fastq -2 SRR1383456_R2_primers-pass.fastq \\\n",
    "    --1f BARCODE --coord sra"
   ]
  },
  {
   "cell_type": "markdown",
   "metadata": {},
   "source": [
    "## Building a consensus based  on the barcodes"
   ]
  },
  {
   "cell_type": "markdown",
   "metadata": {},
   "source": [
    "We now build a consensus sequence for the sequences with a particular barcode. We do this separately for the paired sequences, `SRR1383456_R1_primers-pass_pair-pass.fastq` and `SRR1383456_R2_primers-pass_pair-pass.fastq` using `BuildConsensus.py`."
   ]
  },
  {
   "cell_type": "code",
   "execution_count": 11,
   "metadata": {
    "collapsed": false
   },
   "outputs": [
    {
     "name": "stdout",
     "output_type": "stream",
     "text": [
      "usage: BuildConsensus.py [-h] -s SEQ_FILES [SEQ_FILES ...] [--fasta]\r\n",
      "                         [--failed] [--log LOG_FILE]\r\n",
      "                         [--delim DELIMITER DELIMITER DELIMITER]\r\n",
      "                         [--nproc NPROC] [--outdir OUT_DIR]\r\n",
      "                         [--outname OUT_NAME] [--version] [-n MIN_COUNT]\r\n",
      "                         [--bf BARCODE_FIELD] [-q MIN_QUAL] [--freq MIN_FREQ]\r\n",
      "                         [--maxgap MAX_GAP] [--pf PRIMER_FIELD]\r\n",
      "                         [--prcons PRIMER_FREQ]\r\n",
      "                         [--cf COPY_FIELDS [COPY_FIELDS ...]]\r\n",
      "                         [--act {min,max,sum,set,majority} [{min,max,sum,set,majority} ...]]\r\n",
      "                         [--dep]\r\n",
      "                         [--maxdiv MAX_DIVERSITY | --maxerror MAX_ERROR]\r\n",
      "\r\n",
      "Builds a consensus sequence for each set of input sequences\r\n",
      "\r\n",
      "optional arguments:\r\n",
      "  -h, --help            show this help message and exit\r\n",
      "  -s SEQ_FILES [SEQ_FILES ...]\r\n",
      "                        A list of FASTA/FASTQ files containing sequences to\r\n",
      "                        process. (default: None)\r\n",
      "  --fasta               Specify to force output as FASTA rather than FASTQ.\r\n",
      "                        (default: None)\r\n",
      "  --failed              If specified create files containing records that fail\r\n",
      "                        processing. (default: False)\r\n",
      "  --log LOG_FILE        Specify to write verbose logging to a file. May not be\r\n",
      "                        specified with multiple input files. (default: None)\r\n",
      "  --delim DELIMITER DELIMITER DELIMITER\r\n",
      "                        A list of the three delimiters that separate\r\n",
      "                        annotation blocks, field names and values, and values\r\n",
      "                        within a field, respectively. (default: ('|', '=',\r\n",
      "                        ','))\r\n",
      "  --nproc NPROC         The number of simultaneous computational processes to\r\n",
      "                        execute (CPU cores to utilized). (default: 4)\r\n",
      "  --outdir OUT_DIR      Specify to changes the output directory to the\r\n",
      "                        location specified. The input file directory is used\r\n",
      "                        if this is not specified. (default: None)\r\n",
      "  --outname OUT_NAME    Changes the prefix of the successfully processed\r\n",
      "                        output file to the string specified. May not be\r\n",
      "                        specified with multiple input files. (default: None)\r\n",
      "  --version             show program's version number and exit\r\n",
      "  -n MIN_COUNT          The minimum number of sequences needed to define a\r\n",
      "                        valid consensus (default: 1)\r\n",
      "  --bf BARCODE_FIELD    Position of description barcode field to group\r\n",
      "                        sequences by (default: BARCODE)\r\n",
      "  -q MIN_QUAL           Consensus quality score cut-off under which an\r\n",
      "                        ambiguous character is assigned; does not apply when\r\n",
      "                        quality scores are unavailable (default: 0)\r\n",
      "  --freq MIN_FREQ       Fraction of character occurrences under which an\r\n",
      "                        ambiguous character is assigned. (default: 0.6)\r\n",
      "  --maxgap MAX_GAP      If specified, this defines a cut-off for the frequency\r\n",
      "                        of allowed gap values for each position. Positions\r\n",
      "                        exceeding the threshold are deleted from the\r\n",
      "                        consensus. If not defined, positions are always\r\n",
      "                        retained. (default: None)\r\n",
      "  --pf PRIMER_FIELD     Specifies the field name of the primer annotations\r\n",
      "                        (default: None)\r\n",
      "  --prcons PRIMER_FREQ  Specify to define a minimum primer frequency required\r\n",
      "                        to assign a consensus primer, and filter out sequences\r\n",
      "                        with minority primers from the consensus building step\r\n",
      "                        (default: None)\r\n",
      "  --cf COPY_FIELDS [COPY_FIELDS ...]\r\n",
      "                        Specifies a set of additional annotation fields to\r\n",
      "                        copy into the consensus sequence annotations.\r\n",
      "                        (default: None)\r\n",
      "  --act {min,max,sum,set,majority} [{min,max,sum,set,majority} ...]\r\n",
      "                        List of actions to take for each copy field which\r\n",
      "                        defines how each annotation will be combined into a\r\n",
      "                        single value. The actions \"min\", \"max\", \"sum\" perform\r\n",
      "                        the corresponding mathematical operation on numeric\r\n",
      "                        annotations. The action \"set\" combines annotations\r\n",
      "                        into a comma delimited list of unique values and adds\r\n",
      "                        an annotation named <FIELD>_COUNT specifying the count\r\n",
      "                        of each item in the set. The action \"majority\" assigns\r\n",
      "                        the most frequent annotation to the consensus\r\n",
      "                        annotation and adds an annotation named <FIELD>_FREQ\r\n",
      "                        specifying the frequency of the majority value.\r\n",
      "                        (default: None)\r\n",
      "  --dep                 Specify to calculate consensus quality with a non-\r\n",
      "                        independence assumption (default: False)\r\n",
      "  --maxdiv MAX_DIVERSITY\r\n",
      "                        Specify to calculate the nucleotide diversity of each\r\n",
      "                        read group (average pairwise error rate) and remove\r\n",
      "                        groups exceeding the given diversity threshold.\r\n",
      "                        Diversity is calculate for all positions within the\r\n",
      "                        read group, ignoring any character filtering imposed\r\n",
      "                        by the -q, --freq and --maxgap arguments. Mutually\r\n",
      "                        exclusive with --maxerror. (default: None)\r\n",
      "  --maxerror MAX_ERROR  Specify to calculate the error rate of each read group\r\n",
      "                        (rate of mismatches from consensus) and remove groups\r\n",
      "                        exceeding the given error threshold. The error rate is\r\n",
      "                        calculated against the final consensus sequence, which\r\n",
      "                        may include masked positions due to the -q and --freq\r\n",
      "                        arguments and may have deleted positions due to the\r\n",
      "                        --maxgap argument. Mutually exclusive with --maxdiv.\r\n",
      "                        (default: None)\r\n",
      "\r\n",
      "output files:\r\n",
      "    consensus-pass\r\n",
      "        consensus reads.\r\n",
      "    consensus-fail\r\n",
      "        raw reads failing consensus filtering criteria.\r\n",
      "\r\n",
      "output annotation fields:\r\n",
      "    PRIMER\r\n",
      "        a comma delimited list of unique primer annotations found within the\r\n",
      "        barcode read group.\r\n",
      "    PRCOUNT\r\n",
      "        a comma delimited list of the corresponding counts of unique primer\r\n",
      "        annotations.\r\n",
      "    PRCONS\r\n",
      "        the majority primer within the barcode read group.\r\n",
      "    PRFREQ\r\n",
      "        the frequency of the majority primer.\r\n",
      "    CONSCOUNT\r\n",
      "        the count of reads within the barcode read group which contributed to\r\n",
      "        the consensus sequence. This is the total size of the read group,\r\n",
      "        minus sequence excluded due to user defined filtering criteria.\r\n"
     ]
    }
   ],
   "source": [
    "!BuildConsensus.py -h"
   ]
  },
  {
   "cell_type": "markdown",
   "metadata": {},
   "source": [
    "Run the cell below to build a consensus from read 1."
   ]
  },
  {
   "cell_type": "code",
   "execution_count": 12,
   "metadata": {
    "collapsed": false
   },
   "outputs": [
    {
     "name": "stdout",
     "output_type": "stream",
     "text": [
      "           START> BuildConsensus\n",
      "            FILE> SRR1383456_R1_primers-pass_pair-pass.fastq\n",
      "   BARCODE_FIELD> BARCODE\n",
      "       MIN_COUNT> 1\n",
      "   MIN_FREQUENCY> 0.6\n",
      "     MIN_QUALITY> 0\n",
      "         MAX_GAP> 0.5\n",
      "    PRIMER_FIELD> PRIMER\n",
      "PRIMER_FREQUENCY> 0.6\n",
      "       MAX_ERROR> 0.1\n",
      "   MAX_DIVERSITY> None\n",
      "       DEPENDENT> False\n",
      "     COPY_FIELDS> None\n",
      "    COPY_ACTIONS> None\n",
      "           NPROC> 4\n",
      "\n",
      "PROGRESS> 10:37:27 [####################] 100% (6,625) 0.5 min\n",
      "\n",
      "   OUTPUT> SRR1383456_R1_consensus-pass.fastq\n",
      "SEQUENCES> 43457\n",
      "     SETS> 6625\n",
      "     PASS> 6575\n",
      "     FAIL> 50\n",
      "      END> BuildConsensus\n",
      "\n"
     ]
    }
   ],
   "source": [
    "!BuildConsensus.py -s SRR1383456_R1_primers-pass_pair-pass.fastq --bf BARCODE --pf PRIMER \\\n",
    "    --prcons 0.6 --maxerror 0.1 --maxgap 0.5 --outname SRR1383456_R1 --log SRR1383456.consensus.R1.log"
   ]
  },
  {
   "cell_type": "markdown",
   "metadata": {},
   "source": [
    "**Now complete the below cell to build a consensus for read 2.**"
   ]
  },
  {
   "cell_type": "code",
   "execution_count": 13,
   "metadata": {
    "collapsed": false
   },
   "outputs": [
    {
     "name": "stdout",
     "output_type": "stream",
     "text": [
      "           START> BuildConsensus\n",
      "            FILE> SRR1383456_R2_primers-pass_pair-pass.fastq\n",
      "   BARCODE_FIELD> BARCODE\n",
      "       MIN_COUNT> 1\n",
      "   MIN_FREQUENCY> 0.6\n",
      "     MIN_QUALITY> 0\n",
      "         MAX_GAP> 0.5\n",
      "    PRIMER_FIELD> PRIMER\n",
      "PRIMER_FREQUENCY> None\n",
      "       MAX_ERROR> 0.1\n",
      "   MAX_DIVERSITY> None\n",
      "       DEPENDENT> False\n",
      "     COPY_FIELDS> None\n",
      "    COPY_ACTIONS> None\n",
      "           NPROC> 4\n",
      "\n",
      "PROGRESS> 10:38:05 [####################] 100% (6,625) 0.6 min\n",
      "\n",
      "   OUTPUT> SRR1383456_R2_consensus-pass.fastq\n",
      "SEQUENCES> 43457\n",
      "     SETS> 6625\n",
      "     PASS> 6526\n",
      "     FAIL> 99\n",
      "      END> BuildConsensus\n",
      "\n"
     ]
    }
   ],
   "source": [
    "!BuildConsensus.py -s SRR1383456_R2_primers-pass_pair-pass.fastq --bf BARCODE --pf PRIMER \\\n",
    "    --maxerror 0.1 --maxgap 0.5 --outname SRR1383456_R2 --log SRR1383456.consensus.R2.log"
   ]
  },
  {
   "cell_type": "markdown",
   "metadata": {},
   "source": [
    "Now run the following cell to pair the sequences that passed the consensus building."
   ]
  },
  {
   "cell_type": "code",
   "execution_count": 14,
   "metadata": {
    "collapsed": false
   },
   "outputs": [
    {
     "name": "stdout",
     "output_type": "stream",
     "text": [
      "     START> PairSeq\n",
      "     FILE1> SRR1383456_R1_consensus-pass.fastq\n",
      "     FILE2> SRR1383456_R2_consensus-pass.fastq\n",
      "  FIELDS_1> None\n",
      "  FIELDS_2> None\n",
      "COORD_TYPE> presto\n",
      "\n",
      "PROGRESS> 10:38:05 [Done                ] 0.0 min\n",
      "\n",
      "PROGRESS> 10:38:07 [####################] 100% (6,526) 0.0 min\n",
      "\n",
      "   OUTPUT1> SRR1383456_R1_consensus-pass_pair-pass.fastq\n",
      "   OUTPUT2> SRR1383456_R2_consensus-pass_pair-pass.fastq\n",
      "SEQUENCES1> 6575\n",
      "SEQUENCES2> 6526\n",
      "      PASS> 6514\n",
      "       END> PairSeq\n",
      "\n"
     ]
    }
   ],
   "source": [
    "!PairSeq.py -1 SRR1383456_R1_consensus-pass.fastq -2 SRR1383456_R2_consensus-pass.fastq \\\n",
    "    --coord presto"
   ]
  },
  {
   "cell_type": "markdown",
   "metadata": {},
   "source": [
    "## Assembling mate pairs"
   ]
  },
  {
   "cell_type": "code",
   "execution_count": 15,
   "metadata": {
    "collapsed": false
   },
   "outputs": [
    {
     "name": "stdout",
     "output_type": "stream",
     "text": [
      "usage: AssemblePairs.py align [-h] -1 SEQ_FILES_1 [SEQ_FILES_1 ...] -2\r\n",
      "                              SEQ_FILES_2 [SEQ_FILES_2 ...] [--fasta]\r\n",
      "                              [--failed] [--log LOG_FILE]\r\n",
      "                              [--delim DELIMITER DELIMITER DELIMITER]\r\n",
      "                              [--nproc NPROC] [--outdir OUT_DIR]\r\n",
      "                              [--outname OUT_NAME]\r\n",
      "                              [--coord {illumina,solexa,sra,454,presto}]\r\n",
      "                              [--rc {head,tail,both}]\r\n",
      "                              [--1f HEAD_FIELDS [HEAD_FIELDS ...]]\r\n",
      "                              [--2f TAIL_FIELDS [TAIL_FIELDS ...]]\r\n",
      "                              [--alpha ALPHA] [--maxerror MAX_ERROR]\r\n",
      "                              [--minlen MIN_LEN] [--maxlen MAX_LEN]\r\n",
      "                              [--scanrev]\r\n",
      "\r\n",
      "optional arguments:\r\n",
      "  -h, --help            show this help message and exit\r\n",
      "  -1 SEQ_FILES_1 [SEQ_FILES_1 ...]\r\n",
      "                        An ordered list of FASTA/FASTQ files containing\r\n",
      "                        head/primary sequences. (default: None)\r\n",
      "  -2 SEQ_FILES_2 [SEQ_FILES_2 ...]\r\n",
      "                        An ordered list of FASTA/FASTQ files containing\r\n",
      "                        tail/secondary sequences. (default: None)\r\n",
      "  --fasta               Specify to force output as FASTA rather than FASTQ.\r\n",
      "                        (default: None)\r\n",
      "  --failed              If specified create files containing records that fail\r\n",
      "                        processing. (default: False)\r\n",
      "  --log LOG_FILE        Specify to write verbose logging to a file. May not be\r\n",
      "                        specified with multiple input files. (default: None)\r\n",
      "  --delim DELIMITER DELIMITER DELIMITER\r\n",
      "                        A list of the three delimiters that separate\r\n",
      "                        annotation blocks, field names and values, and values\r\n",
      "                        within a field, respectively. (default: ('|', '=',\r\n",
      "                        ','))\r\n",
      "  --nproc NPROC         The number of simultaneous computational processes to\r\n",
      "                        execute (CPU cores to utilized). (default: 4)\r\n",
      "  --outdir OUT_DIR      Specify to changes the output directory to the\r\n",
      "                        location specified. The input file directory is used\r\n",
      "                        if this is not specified. (default: None)\r\n",
      "  --outname OUT_NAME    Changes the prefix of the successfully processed\r\n",
      "                        output file to the string specified. May not be\r\n",
      "                        specified with multiple input files. (default: None)\r\n",
      "  --coord {illumina,solexa,sra,454,presto}\r\n",
      "                        The format of the sequence identifier which defines\r\n",
      "                        shared coordinate information across paired ends\r\n",
      "                        (default: presto)\r\n",
      "  --rc {head,tail,both}\r\n",
      "                        Specify to reverse complement sequences before\r\n",
      "                        stitching (default: None)\r\n",
      "  --1f HEAD_FIELDS [HEAD_FIELDS ...]\r\n",
      "                        Specify annotation fields to copy from head records\r\n",
      "                        into assembled record (default: None)\r\n",
      "  --2f TAIL_FIELDS [TAIL_FIELDS ...]\r\n",
      "                        Specify annotation fields to copy from tail records\r\n",
      "                        into assembled record (default: None)\r\n",
      "  --alpha ALPHA         Significance threshold for sequence assemble (default:\r\n",
      "                        1e-05)\r\n",
      "  --maxerror MAX_ERROR  Maximum allowable error rate (default: 0.3)\r\n",
      "  --minlen MIN_LEN      Minimum sequence length to scan for overlap (default:\r\n",
      "                        8)\r\n",
      "  --maxlen MAX_LEN      Maximum sequence length to scan for overlap (default:\r\n",
      "                        1000)\r\n",
      "  --scanrev             If specified, scan past the end of the tail sequence\r\n",
      "                        to allow the head sequence to overhang the end of the\r\n",
      "                        tail sequence. (default: False)\r\n"
     ]
    }
   ],
   "source": [
    "!AssemblePairs.py align -h"
   ]
  },
  {
   "cell_type": "code",
   "execution_count": 16,
   "metadata": {
    "collapsed": false
   },
   "outputs": [
    {
     "name": "stdout",
     "output_type": "stream",
     "text": [
      "/usr/local/bin/AssemblePairs.py:112: VisibleDeprecationWarning: using a non-integer number instead of an integer will result in an error in the future\n",
      "  p_matrix[x, i:] = 1 - stats.binom.cdf(x - 1, k[i:], 0.25) - stats.binom.pmf(x, k[i:], 0.25) / 2.0\n",
      "/usr/local/bin/AssemblePairs.py:131: VisibleDeprecationWarning: using a non-integer number instead of an integer will result in an error in the future\n",
      "  z_matrix[x, j:] = (x - k[j:]/4.0)/np.sqrt(3.0/16.0*k[j:])\n",
      "       START> AssemblePairs\n",
      "     COMMAND> align\n",
      "       FILE1> SRR1383456_R2_consensus-pass_pair-pass.fastq\n",
      "       FILE2> SRR1383456_R1_consensus-pass_pair-pass.fastq\n",
      "  COORD_TYPE> presto\n",
      "       ALPHA> 1e-05\n",
      "   MAX_ERROR> 0.3\n",
      "     MIN_LEN> 8\n",
      "     MAX_LEN> 1000\n",
      "SCAN_REVERSE> False\n",
      "       NPROC> 4\n",
      "\n",
      "PROGRESS> 10:38:52 [####################] 100% (6,514) 0.7 min\n",
      "\n",
      "OUTPUT> SRR1383456_assemble-pass.fastq\n",
      " PAIRS> 6514\n",
      "  PASS> 2773\n",
      "  FAIL> 3741\n",
      "   END> AssemblePairs\n",
      "\n"
     ]
    }
   ],
   "source": [
    "!AssemblePairs.py align -1 SRR1383456_R2_consensus-pass_pair-pass.fastq \\\n",
    "    -2 SRR1383456_R1_consensus-pass_pair-pass.fastq --coord presto --rc tail \\\n",
    "    --1f CONSCOUNT --2f CONSCOUNT PRCONS --outname SRR1383456 --log SRR1383456.assemble.log"
   ]
  },
  {
   "cell_type": "markdown",
   "metadata": {},
   "source": [
    "## Deduplication and filtering"
   ]
  },
  {
   "cell_type": "markdown",
   "metadata": {},
   "source": [
    "Let's take a look at the resulting sequences."
   ]
  },
  {
   "cell_type": "code",
   "execution_count": 17,
   "metadata": {
    "collapsed": false
   },
   "outputs": [
    {
     "name": "stdout",
     "output_type": "stream",
     "text": [
      "@CTCCCGGAGGATTAA|CONSCOUNT=1,1|PRCONS=20080924-IGHA\r\n",
      "NNNNNNNNNNNNNNNNNNNNNNGCTCAGCCCACTGTGTCTGCCCGATGCTCACCTGTCCAGAGGCCAACGCTACCAAGGTGAGGGGTGTGGGATGTGAAGGGGAGTGGGGAGGAGGCCTCGCCTTGAACATCCTTGTTCTCTGCCCCAGGCCTGTGGGTCAGATGGAGTCACATACGTCAACGAGTGTCAGCTGAAGACCATCGCCTGCCGCCAGGGCCTGCAAATCTCTATCCAGAGCCTGGGCCCGTGCCAGGGTGAGGCCTGACGGCCACTGCCCCAGAACTGACCAGGAAGGCCTGACGCTGCCCTAAATCCAGCCCCACCCGCCCTGAGCCACCTGACCCTGTCCCAACCGGGCC\r\n",
      "+\r\n",
      "!!!!!!!!!!!!!!!!!!!!!!HHFHFHFHHFHHB0CGFHDDGHHH=ED/EFHFF@ACFCEGFDEFHHHHHDEEHHHHF5C?C;CC5<4=CEDCC,@FFCBDB3@3@@DE@B<BABBCCEE??EEEEEEEEEEEECC:?CE::EEEE8?A(0*.8?*8,:8?:?EE::*0AC???AA(8)8AAAEEE#####################GACGGGGEGEC:C:::E=:?GEEEECC9?EGEC4<DGGGGGEECGGGGEC?GEGGED<AEEC?EGGGGGEEGEGECECEGEEGGGGGECGEGE4C?8CEEEGGEE?GEDC>DD;0DGGGGGEEEEEECEGGGEEGEGEEC(GGDDDGB9)GH\r\n",
      "@GGAGGTGTGGACGGG|CONSCOUNT=8,8|PRCONS=20080924-IGHG\r\n",
      "NNNNNNNNNNNNNNNNNNNNTGGCCACTATGCCTCGCAGCAGATCAGGCAGATCGCGAGTCAGCTGGAGCAGGAGTGGAAGGCGTTTGCGGCAGCCCTGGATGAGCGGAGCACCTTGCTGGACATGTCCTCCATTTTCCACCAGAAGGCCGAAAAGTATATGAGCAACGTGGATTCATGGTGTAAAGCTTGCGGTGAGGTAGACCTTCCCTCAGAGCTGCAGGACCTAGAAGATGCCATTCATCACCACC\r\n",
      "+\r\n",
      "!!!!!!!!!!!!!!!!!!!!FF{{{{{{{{{{{{{{{{{{{{{{{{{{{{{{{{{{{{{{{{{{{{{{{{{{{{{{{{{{{{{{{{{{{{{{{{{{{{{{{{{{{{{{{{{{{{{{{{{{{{{{{{{{{{{{{{{{{{{{{{{{{{{{{{{{{{{{{{{{{{{{{{{{{{{{{{{{{{{{{{{{{{{{{{{{{{{{{{{{{{{{{{{{{{{{{{{{{{{{{{{{{{{{{{{{{{{{{{{{{{{{{{{{{{\r\n",
      "@AAGACTATAAATTAT|CONSCOUNT=1,1|PRCONS=20080924-IGHA\r\n",
      "NNNNNNNNNNNNNNNNNNNNNNTTCTGGCCAAGCGCCTGCTGATCCTGCCCCAGGAGGAGGACTATGGCTTTGACATCGAGGAGAAGAACAAGGCTGTGGTGGTGAAGTCCGTCCAGAGGGGCTCGCTGGCTGAGGTGGCTGGCCTGCAGGTGGGGAGGAAGATCTACTCCATCAATGAGGACCTGGTGTTCCTGCGGCCGTTTTCAGAGGTGGAGTCCATCCTCAACCAGTCCTTCTGCTCCCGCCGCCCTCTGCGCCTCCTGGGGGAAACGAAGGACAAAGAGATCATCAAAAT\r\n"
     ]
    }
   ],
   "source": [
    "!head SRR1383456_assemble-pass.fastq"
   ]
  },
  {
   "cell_type": "markdown",
   "metadata": {},
   "source": [
    "As you can see, there are two entries for the number of sequences used for each consensus. The following command replaces this pair with the minimum of the two."
   ]
  },
  {
   "cell_type": "code",
   "execution_count": 18,
   "metadata": {
    "collapsed": false
   },
   "outputs": [
    {
     "name": "stdout",
     "output_type": "stream",
     "text": [
      "  START> ParseHeaders\n",
      "COMMAND> collapse\n",
      "   FILE> SRR1383456_assemble-pass.fastq\n",
      "ACTIONS> min\n",
      " FIELDS> CONSCOUNT\n",
      "\n",
      "PROGRESS> 10:38:53 [####################] 100% (2,773) 0.0 min\n",
      "\n",
      "   OUTPUT> SRR1383456_assemble-pass_reheader.fastq\n",
      "SEQUENCES> 2773\n",
      "      END> ParseHeaders\n",
      "\n"
     ]
    }
   ],
   "source": [
    "!ParseHeaders.py collapse -s SRR1383456_assemble-pass.fastq -f CONSCOUNT --act min"
   ]
  },
  {
   "cell_type": "markdown",
   "metadata": {},
   "source": [
    "The following command removes duplicate sequences."
   ]
  },
  {
   "cell_type": "code",
   "execution_count": 19,
   "metadata": {
    "collapsed": false
   },
   "outputs": [
    {
     "name": "stdout",
     "output_type": "stream",
     "text": [
      "       START> CollapseSeq\n",
      "        FILE> SRR1383456_assemble-pass_reheader.fastq\n",
      " MAX_MISSING> 20\n",
      " UNIQ_FIELDS> PRCONS\n",
      " COPY_FIELDS> CONSCOUNT\n",
      "COPY_ACTIONS> sum\n",
      "   MAX_FIELD> None\n",
      "   MIN_FIELD> None\n",
      "       INNER> True\n",
      "KEEP_MISSING> False\n",
      "\n",
      "MISSING>  0\n",
      "PROGRESS> 10:38:53 [####################] 100% (2,773) 0.0 min\n",
      "\n",
      "MISSING>  1\n",
      "PROGRESS> 10:38:53 [####################] 100% (443) 0.0 min\n",
      "\n",
      "MISSING>  2\n",
      "PROGRESS> 10:38:53 [####################] 100% (285) 0.0 min\n",
      "\n",
      "MISSING>  3\n",
      "PROGRESS> 10:38:54 [####################] 100% (219) 0.0 min\n",
      "\n",
      "MISSING>  4\n",
      "PROGRESS> 10:38:54 [####################] 100% (176) 0.0 min\n",
      "\n",
      "MISSING>  5\n",
      "PROGRESS> 10:38:54 [####################] 100% (139) 0.0 min\n",
      "\n",
      "MISSING>  6\n",
      "PROGRESS> 10:38:54 [####################] 100% (120) 0.0 min\n",
      "\n",
      "MISSING>  7\n",
      "PROGRESS> 10:38:54 [####################] 100% (100) 0.0 min\n",
      "\n",
      "MISSING>  8\n",
      "PROGRESS> 10:38:54 [####################] 100% (87) 0.0 min\n",
      "\n",
      "MISSING>  9\n",
      "PROGRESS> 10:38:54 [####################] 100% (77) 0.0 min\n",
      "\n",
      "MISSING>  10\n",
      "PROGRESS> 10:38:54 [####################] 100% (75) 0.0 min\n",
      "\n",
      "MISSING>  11\n",
      "PROGRESS> 10:38:54 [####################] 100% (72) 0.0 min\n",
      "\n",
      "MISSING>  12\n",
      "PROGRESS> 10:38:54 [####################] 100% (68) 0.0 min\n",
      "\n",
      "MISSING>  13\n",
      "PROGRESS> 10:38:54 [####################] 100% (68) 0.0 min\n",
      "\n",
      "MISSING>  14\n",
      "PROGRESS> 10:38:54 [####################] 100% (64) 0.0 min\n",
      "\n",
      "MISSING>  15\n",
      "PROGRESS> 10:38:54 [####################] 100% (62) 0.0 min\n",
      "\n",
      "MISSING>  16\n",
      "PROGRESS> 10:38:54 [####################] 100% (59) 0.0 min\n",
      "\n",
      "MISSING>  17\n",
      "PROGRESS> 10:38:54 [####################] 100% (58) 0.0 min\n",
      "\n",
      "MISSING>  18\n",
      "PROGRESS> 10:38:54 [####################] 100% (57) 0.0 min\n",
      "\n",
      "MISSING>  19\n",
      "PROGRESS> 10:38:54 [####################] 100% (57) 0.0 min\n",
      "\n",
      "MISSING>  20\n",
      "PROGRESS> 10:38:54 [####################] 100% (57) 0.0 min\n",
      "\n",
      "      OUTPUT> SRR1383456_collapse-unique.fastq\n",
      "   SEQUENCES> 2773\n",
      "      UNIQUE> 1585\n",
      "   DUPLICATE> 1131\n",
      "UNDETERMINED> 57\n",
      "         END> CollapseSeq\n",
      "\n"
     ]
    }
   ],
   "source": [
    "!CollapseSeq.py -s SRR1383456_assemble-pass_reheader.fastq -n 20 --inner --uf PRCONS \\\n",
    "    --cf CONSCOUNT --act sum --outname SRR1383456"
   ]
  },
  {
   "cell_type": "markdown",
   "metadata": {},
   "source": [
    "We will also convert the sequences to FASTA format."
   ]
  },
  {
   "cell_type": "code",
   "execution_count": 20,
   "metadata": {
    "collapsed": false
   },
   "outputs": [
    {
     "data": {
      "text/plain": [
       "1585"
      ]
     },
     "execution_count": 20,
     "metadata": {},
     "output_type": "execute_result"
    }
   ],
   "source": [
    "from Bio import SeqIO\n",
    "SeqIO.convert(\"SRR1383456_collapse-unique.fastq\",\"fastq\",\"SRR1383456_collapse-unique.fasta\",\"fasta\")"
   ]
  },
  {
   "cell_type": "code",
   "execution_count": 21,
   "metadata": {
    "collapsed": false
   },
   "outputs": [
    {
     "name": "stdout",
     "output_type": "stream",
     "text": [
      ">TTTCAGGAGGCGTTA|PRCONS=20080924-IGHA|CONSCOUNT=1|DUPCOUNT=1\r\n",
      "NNNNNNNNNNNNNNNNAGTCTGGGCAGAGCCACTGCTCAAGCCAATGTGGATCTCTGAGC\r\n",
      "ACCCCAGCACCAGCTGCCACAGCCGGCCAACAAGGTAGGCCAGGCTCTGTCATGTGCCCC\r\n",
      "TAGGATAGGGGCCATATCCATGATGCTGGGGAGCAGACAGACTGCAGGCCTCGCCTCCAC\r\n",
      "TGCACCTTGCCAGGCAAGGCCCACTGGCCTGGGCCTCCATCGCAGCCATCCACCCCCGAC\r\n",
      "CAGCCCCCAG\r\n",
      ">CCTATACGGCACGGG|PRCONS=20080924-IGHA|CONSCOUNT=2|DUPCOUNT=1\r\n",
      "NNNNNNNNNNNNNNNNNNNNAACTGCAAAACTGCAAGTTGCACACAGGCNGAGATGACGG\r\n",
      "AGCAACCCCTGACCCTCCGTGCCACTCACCCTACCCGCACACACACTTGCCACGTGGACC\r\n",
      "CTGAAGCCAGTGCCTGGGCGCCCNAGTCAGGCAGTCCACACAGCAGTGGCACCAGGGTGA\r\n"
     ]
    }
   ],
   "source": [
    "!head SRR1383456_collapse-unique.fasta"
   ]
  }
 ],
 "metadata": {
  "kernelspec": {
   "display_name": "Python 3",
   "language": "python",
   "name": "python3"
  },
  "language_info": {
   "codemirror_mode": {
    "name": "ipython",
    "version": 3
   },
   "file_extension": ".py",
   "mimetype": "text/x-python",
   "name": "python",
   "nbconvert_exporter": "python",
   "pygments_lexer": "ipython3",
   "version": "3.5.2"
  }
 },
 "nbformat": 4,
 "nbformat_minor": 1
}
