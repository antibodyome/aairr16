{
 "cells": [
  {
   "cell_type": "markdown",
   "metadata": {},
   "source": [
    "## Combining data files"
   ]
  },
  {
   "cell_type": "markdown",
   "metadata": {},
   "source": [
    "Load RMagic"
   ]
  },
  {
   "cell_type": "code",
   "execution_count": 2,
   "metadata": {
    "collapsed": true
   },
   "outputs": [],
   "source": [
    "%load_ext rpy2.ipython"
   ]
  },
  {
   "cell_type": "markdown",
   "metadata": {},
   "source": [
    "Load in metadata and process."
   ]
  },
  {
   "cell_type": "code",
   "execution_count": 3,
   "metadata": {
    "collapsed": false
   },
   "outputs": [
    {
     "data": {
      "text/plain": [
       "        RUN SUBJECT VISIT CELLTYPE   MID\n",
       "1 SRR747232      11    V3     PBMC MID33\n",
       "2 SRR747232      25    V1     PBMC MID34\n",
       "3 SRR747232      25    V3     PBMC MID35\n",
       "4 SRR747232      29    V1     PBMC MID36\n",
       "5 SRR747232      29    V3     PBMC MID37\n",
       "6 SRR747232      11    V1     PBMC MID38\n"
      ]
     },
     "metadata": {},
     "output_type": "display_data"
    }
   ],
   "source": [
    "%%R\n",
    "metadata <- read.table(\"SRX190717_metadata.txt\",header=TRUE,row.names=NULL,sep=\",\",stringsAsFactors=FALSE)\n",
    "names(metadata) <- toupper(names(metadata))\n",
    "metadata$MID <- paste(\"MID\",metadata$MID,sep=\"\")\n",
    "head(metadata)"
   ]
  },
  {
   "cell_type": "markdown",
   "metadata": {},
   "source": [
    "Extract runs."
   ]
  },
  {
   "cell_type": "code",
   "execution_count": 4,
   "metadata": {
    "collapsed": false
   },
   "outputs": [],
   "source": [
    "%%R\n",
    "runs <- sort(unique(metadata$RUN))\n",
    "nruns <- length(runs)"
   ]
  },
  {
   "cell_type": "markdown",
   "metadata": {},
   "source": [
    "Check the processed ChangeO databases."
   ]
  },
  {
   "cell_type": "code",
   "execution_count": 5,
   "metadata": {
    "collapsed": false
   },
   "outputs": [
    {
     "data": {
      "text/plain": [
       " [1] \"SRR747232_db-pass.tab\" \"SRR747758_db-pass.tab\" \"SRR747760_db-pass.tab\"\n",
       " [4] \"SRR747761_db-pass.tab\" \"SRR747763_db-pass.tab\" \"SRR747766_db-pass.tab\"\n",
       " [7] \"SRR747767_db-pass.tab\" \"SRR747768_db-pass.tab\" \"SRR747785_db-pass.tab\"\n",
       "[10] \"SRR765688_db-pass.tab\" \"SRR770500_db-pass.tab\"\n"
      ]
     },
     "metadata": {},
     "output_type": "display_data"
    }
   ],
   "source": [
    "%%R\n",
    "list.files(path=\".\",pattern=\"_db-pass.tab\")"
   ]
  },
  {
   "cell_type": "markdown",
   "metadata": {},
   "source": [
    "Merge:\n",
    "- Read in the database for each run\n",
    "- Merge with the metadata\n",
    "- Save to a file (append if the second run or higher)"
   ]
  },
  {
   "cell_type": "code",
   "execution_count": 6,
   "metadata": {
    "collapsed": false
   },
   "outputs": [],
   "source": [
    "%%R\n",
    "for(i in 1:nruns){\n",
    "    df <- read.table(paste(runs[i],\"_db-pass.tab\",sep=\"\"),header=TRUE,row.names=NULL,stringsAsFactors=FALSE,sep=\"\\t\")\n",
    "    df$RUN <- runs[i]\n",
    "    df <- merge(df,metadata,all.x=TRUE,all.y=FALSE)\n",
    "    if(i==1){\n",
    "        h <- names(df)\n",
    "        write.table(df,file=\"SRX190717_db-pass.tab\",col.names=TRUE,row.names=FALSE,sep=\"\\t\",quote=F)\n",
    "    }else{\n",
    "        if(names(df)!=h){\n",
    "            stop(\"Names of dataframes don't match\")\n",
    "        }\n",
    "        write.table(df,file=\"SRX190717_db-pass.tab\",col.names=FALSE,row.names=FALSE,sep=\"\\t\",quote=F,append=TRUE)\n",
    "    }    \n",
    "}"
   ]
  }
 ],
 "metadata": {
  "kernelspec": {
   "display_name": "Python 3",
   "language": "python",
   "name": "python3"
  },
  "language_info": {
   "codemirror_mode": {
    "name": "ipython",
    "version": 3
   },
   "file_extension": ".py",
   "mimetype": "text/x-python",
   "name": "python",
   "nbconvert_exporter": "python",
   "pygments_lexer": "ipython3",
   "version": "3.5.2"
  }
 },
 "nbformat": 4,
 "nbformat_minor": 1
}
