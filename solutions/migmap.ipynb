{
 "cells": [
  {
   "cell_type": "code",
   "execution_count": 7,
   "metadata": {
    "collapsed": false
   },
   "outputs": [
    {
     "name": "stdout",
     "output_type": "stream",
     "text": [
      "[Wed Oct 12 05:59:41 BST 2016 MIGMAP +00m00s] Loaded database for human IGH gene(s): 89 Variable, 37 Diversity and 6 Joining segments.\n",
      "[Wed Oct 12 05:59:41 BST 2016 MIGMAP +00m00s] Creating temporary BLAST database /home/simon/Projects/airr/migmap-1.0.1/data/database-22f69f79-4b0a-40df-a8eb-379274fdb264.\n",
      "[Wed Oct 12 05:59:41 BST 2016 MIGMAP +00m00s] Annotating variable segments.\n",
      "[Wed Oct 12 05:59:45 BST 2016 MIGMAP +00m04s] Fully annotated 89 of 89 segments.\n",
      "[Wed Oct 12 05:59:45 BST 2016 MIGMAP +00m04s] Analyzing sample SRR765688.fastq\n",
      "[Wed Oct 12 05:59:45 BST 2016 MIGMAP +00m04s] Started analysis\n",
      "[Wed Oct 12 05:59:45 BST 2016 MIGMAP +00m04s] Loaded 100 reads. \n",
      "[Wed Oct 12 05:59:48 BST 2016 MIGMAP +00m07s] Finished analysis. Processed 100 reads, of them 100.0% mapped. Among mapped reads 44.0% passed quality filter and 39.0% passed all filters.\n",
      "[Wed Oct 12 05:59:48 BST 2016 MIGMAP +00m07s] Sorting 37 clonotype entries, writing output.\n",
      "[Wed Oct 12 05:59:48 BST 2016 MIGMAP +00m07s] Finished.\n",
      "[Wed Oct 12 05:59:48 BST 2016 MIGMAP +00m07s] Finished.\n"
     ]
    }
   ],
   "source": [
    "!java -jar /home/simon/Projects/airr/migmap-1.0.1/migmap-1.0.1.jar -R IGH -S human SRR765688.fastq SRR765688.migmap.txt"
   ]
  },
  {
   "cell_type": "code",
   "execution_count": 10,
   "metadata": {
    "collapsed": false
   },
   "outputs": [
    {
     "name": "stdout",
     "output_type": "stream",
     "text": [
      "[Wed Oct 12 06:03:50 BST 2016 MIGMAP +00m00s] Loaded database for human IGH gene(s): 89 Variable, 37 Diversity and 6 Joining segments.\n",
      "[Wed Oct 12 06:03:50 BST 2016 MIGMAP +00m00s] Summarizing hypermutations\n",
      "[Wed Oct 12 06:03:51 BST 2016 MIGMAP +00m00s] Writing statistics\n",
      "[Wed Oct 12 06:03:51 BST 2016 MIGMAP +00m00s] Done\n",
      "[Wed Oct 12 06:03:51 BST 2016 MIGMAP +00m00s] Grouping clonotypes by CDR3\n",
      "[Wed Oct 12 06:03:51 BST 2016 MIGMAP +00m00s] - Pre-group by CDR3\n",
      "[Wed Oct 12 06:03:51 BST 2016 MIGMAP +00m00s] - Finding CDR3 differences explained by SHMs in germline region\n",
      "[Wed Oct 12 06:03:51 BST 2016 MIGMAP +00m00s] - Aggregating\n",
      "[Wed Oct 12 06:03:51 BST 2016 MIGMAP +00m00s] Building edges and writing network\n",
      "[Wed Oct 12 06:03:51 BST 2016 MIGMAP +00m01s] Done\n"
     ]
    }
   ],
   "source": [
    "!java -cp /home/simon/Projects/airr/migmap-1.0.1/migmap-1.0.1.jar com.antigenomics.migmap.Analyze -R IGH -S human SRR765688.migmap.txt SRR765688.migmap"
   ]
  },
  {
   "cell_type": "code",
   "execution_count": null,
   "metadata": {
    "collapsed": true
   },
   "outputs": [],
   "source": []
  }
 ],
 "metadata": {
  "kernelspec": {
   "display_name": "Python 3",
   "language": "python",
   "name": "python3"
  },
  "language_info": {
   "codemirror_mode": {
    "name": "ipython",
    "version": 3
   },
   "file_extension": ".py",
   "mimetype": "text/x-python",
   "name": "python",
   "nbconvert_exporter": "python",
   "pygments_lexer": "ipython3",
   "version": "3.5.2"
  }
 },
 "nbformat": 4,
 "nbformat_minor": 1
}
