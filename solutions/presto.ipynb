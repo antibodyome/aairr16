{
 "cells": [
  {
   "cell_type": "code",
   "execution_count": null,
   "metadata": {
    "collapsed": false
   },
   "outputs": [],
   "source": [
    "!ls"
   ]
  },
  {
   "cell_type": "code",
   "execution_count": 1,
   "metadata": {
    "collapsed": false
   },
   "outputs": [
    {
     "name": "stdout",
     "output_type": "stream",
     "text": [
      "   START> FilterSeq\n",
      " COMMAND> quality\n",
      "    FILE> SRR3304970_1.fastq\n",
      "   INNER> False\n",
      "MIN_QUAL> 20.0\n",
      "   NPROC> 16\n",
      "\n",
      "PROGRESS> 12:59:54 [                    ]   0% (          0) 0.0 min \r",
      "PROGRESS> 13:26:54 [#                   ]   5% (  7,479,446) 27.0 min \r",
      "PROGRESS> 14:05:39 [##                  ]  10% ( 14,958,892) 65.7 min \r",
      "PROGRESS> 15:00:23 [###                 ]  15% ( 22,438,338) 120.5 min \r",
      "PROGRESS> 15:56:13 [####                ]  20% ( 29,917,784) 176.3 min \r",
      "PROGRESS> 16:46:23 [#####               ]  25% ( 37,397,230) 226.5 min \r",
      "PROGRESS> 17:38:04 [######              ]  30% ( 44,876,676) 278.2 min \r",
      "PROGRESS> 18:20:28 [#######             ]  35% ( 52,356,122) 320.6 min \r",
      "PROGRESS> 19:03:26 [########            ]  40% ( 59,835,568) 363.5 min \r",
      "PROGRESS> 19:45:34 [#########           ]  45% ( 67,315,014) 405.7 min \r",
      "PROGRESS> 20:23:21 [##########          ]  50% ( 74,794,460) 443.4 min \r",
      "PROGRESS> 20:53:14 [###########         ]  55% ( 82,273,906) 473.3 min \r",
      "PROGRESS> 21:36:28 [############        ]  60% ( 89,753,352) 516.6 min \r",
      "PROGRESS> 22:17:52 [#############       ]  65% ( 97,232,798) 558.0 min \r",
      "PROGRESS> 23:01:19 [##############      ]  70% (104,712,244) 601.4 min \r",
      "PROGRESS> 23:29:10 [###############     ]  75% (112,191,690) 629.3 min \r",
      "PROGRESS> 00:00:27 [################    ]  80% (119,671,136) 660.5 min \r",
      "PROGRESS> 00:45:30 [#################   ]  85% (127,150,582) 705.6 min \r",
      "PROGRESS> 01:29:07 [##################  ]  90% (134,630,028) 749.2 min \r",
      "PROGRESS> 02:13:20 [################### ]  95% (142,109,474) 793.4 min \r",
      "PROGRESS> 02:58:16 [####################] 100% (149,588,907) 838.4 min\n",
      "\n",
      "   OUTPUT> SRR3304970_R1_quality-pass.fastq\n",
      "SEQUENCES> 149588907\n",
      "     PASS> 142214609\n",
      "     FAIL> 7374298\n",
      "      END> FilterSeq\n",
      "\n"
     ]
    }
   ],
   "source": [
    "%%bash\n",
    "FilterSeq.py quality -s SRR3304970_1.fastq -q 20 --outname presto/SRR3304970_R1 --log presto/FS1.log"
   ]
  },
  {
   "cell_type": "code",
   "execution_count": 3,
   "metadata": {
    "collapsed": false
   },
   "outputs": [
    {
     "name": "stdout",
     "output_type": "stream",
     "text": [
      "   START> FilterSeq\n",
      " COMMAND> quality\n",
      "    FILE> SRR3304970_2.fastq\n",
      "   INNER> False\n",
      "MIN_QUAL> 20.0\n",
      "   NPROC> 16\n",
      "\n",
      "PROGRESS> 10:52:43 [                    ]   0% (          0) 0.0 min \r",
      "PROGRESS> 11:20:37 [#                   ]   5% (  7,479,446) 27.9 min \r",
      "PROGRESS> 11:47:31 [##                  ]  10% ( 14,958,892) 54.8 min \r",
      "PROGRESS> 12:14:54 [###                 ]  15% ( 22,438,338) 82.2 min \r",
      "PROGRESS> 12:42:26 [####                ]  20% ( 29,917,784) 109.7 min \r",
      "PROGRESS> 13:10:59 [#####               ]  25% ( 37,397,230) 138.3 min \r",
      "PROGRESS> 13:38:26 [######              ]  30% ( 44,876,676) 165.7 min \r",
      "PROGRESS> 14:05:43 [#######             ]  35% ( 52,356,122) 193.0 min \r",
      "PROGRESS> 14:34:25 [########            ]  40% ( 59,835,568) 221.7 min \r",
      "PROGRESS> 15:01:29 [#########           ]  45% ( 67,315,014) 248.8 min \r",
      "PROGRESS> 15:30:10 [##########          ]  50% ( 74,794,460) 277.4 min \r",
      "PROGRESS> 15:57:14 [###########         ]  55% ( 82,273,906) 304.5 min \r",
      "PROGRESS> 16:25:04 [############        ]  60% ( 89,753,352) 332.3 min \r",
      "PROGRESS> 16:52:08 [#############       ]  65% ( 97,232,798) 359.4 min \r",
      "PROGRESS> 17:19:12 [##############      ]  70% (104,712,244) 386.5 min \r",
      "PROGRESS> 17:47:11 [###############     ]  75% (112,191,690) 414.5 min \r",
      "PROGRESS> 18:14:12 [################    ]  80% (119,671,136) 441.5 min \r",
      "PROGRESS> 18:41:45 [#################   ]  85% (127,150,582) 469.0 min \r",
      "PROGRESS> 19:08:46 [##################  ]  90% (134,630,028) 496.0 min \r",
      "PROGRESS> 19:36:38 [################### ]  95% (142,109,474) 523.9 min \r",
      "PROGRESS> 20:03:39 [####################] 100% (149,588,907) 550.9 min\n",
      "\n",
      "   OUTPUT> SRR3304970_R2_quality-pass.fastq\n",
      "SEQUENCES> 149588907\n",
      "     PASS> 102543978\n",
      "     FAIL> 47044929\n",
      "      END> FilterSeq\n",
      "\n"
     ]
    }
   ],
   "source": [
    "%%bash\n",
    "FilterSeq.py quality -s SRR3304970_2.fastq -q 20 --outname presto/SRR3304970_R2 --log presto/FS2.log"
   ]
  },
  {
   "cell_type": "code",
   "execution_count": 1,
   "metadata": {
    "collapsed": false
   },
   "outputs": [
    {
     "name": "stderr",
     "output_type": "stream",
     "text": [
      "bash: line 1: 19127 Killed: 9               PairSeq.py -1 presto/SRR3304970_R1_quality-pass.fastq -2 presto/SRR3304970_R2_quality-pass.fastq -f BARCODE --coord sra\n"
     ]
    }
   ],
   "source": [
    "%%bash\n",
    "PairSeq.py -1 presto/SRR3304970_R1_quality-pass.fastq -2 presto/SRR3304970_R2_quality-pass.fastq -f BARCODE --coord sra"
   ]
  },
  {
   "cell_type": "code",
   "execution_count": null,
   "metadata": {
    "collapsed": true
   },
   "outputs": [],
   "source": []
  }
 ],
 "metadata": {
  "kernelspec": {
   "display_name": "Python 3",
   "language": "python",
   "name": "python3"
  },
  "language_info": {
   "codemirror_mode": {
    "name": "ipython",
    "version": 3
   },
   "file_extension": ".py",
   "mimetype": "text/x-python",
   "name": "python",
   "nbconvert_exporter": "python",
   "pygments_lexer": "ipython3",
   "version": "3.5.2"
  }
 },
 "nbformat": 4,
 "nbformat_minor": 1
}
