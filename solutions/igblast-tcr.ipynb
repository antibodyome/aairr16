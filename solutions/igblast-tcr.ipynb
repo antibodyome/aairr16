{
 "cells": [
  {
   "cell_type": "markdown",
   "metadata": {},
   "source": [
    "# IgBLAST for TCR"
   ]
  },
  {
   "cell_type": "markdown",
   "metadata": {},
   "source": [
    "Given the following FASTA file, use IgBLAST to assign germline V, D, and J segments, and post-process using Change-O."
   ]
  },
  {
   "cell_type": "code",
   "execution_count": 1,
   "metadata": {
    "collapsed": false
   },
   "outputs": [
    {
     "name": "stdout",
     "output_type": "stream",
     "text": [
      "\n",
      "\n",
      "Building a new DB, current time: 10/27/2016 07:30:54\n",
      "New DB name:   /home/simon/Projects/aairr16/solutions/database/human_trb_v\n",
      "New DB title:  database/human_trb_v\n",
      "Sequence type: Nucleotide\n",
      "Keep Linkouts: T\n",
      "Keep MBits: T\n",
      "Maximum file size: 1000000000B\n",
      "Adding sequences from FASTA; added 142 sequences in 0.027348 seconds.\n",
      "\n",
      "\n",
      "Building a new DB, current time: 10/27/2016 07:30:54\n",
      "New DB name:   /home/simon/Projects/aairr16/solutions/database/human_trb_d\n",
      "New DB title:  database/human_trb_d\n",
      "Sequence type: Nucleotide\n",
      "Keep Linkouts: T\n",
      "Keep MBits: T\n",
      "Maximum file size: 1000000000B\n",
      "Adding sequences from FASTA; added 3 sequences in 0.00134206 seconds.\n",
      "\n",
      "\n",
      "Building a new DB, current time: 10/27/2016 07:30:54\n",
      "New DB name:   /home/simon/Projects/aairr16/solutions/database/human_trb_j\n",
      "New DB title:  database/human_trb_j\n",
      "Sequence type: Nucleotide\n",
      "Keep Linkouts: T\n",
      "Keep MBits: T\n",
      "Maximum file size: 1000000000B\n",
      "Adding sequences from FASTA; added 16 sequences in 0.00300503 seconds.\n"
     ]
    }
   ],
   "source": [
    "%%bash\n",
    "# V-segment database\n",
    "perl ./edit_imgt_file.pl IMGT_Human_TRBV.fasta > database/human_trb_v\n",
    "makeblastdb -parse_seqids -dbtype nucl -in database/human_trb_v\n",
    "# D-segment database\n",
    "perl ./edit_imgt_file.pl IMGT_Human_TRBD.fasta > database/human_trb_d\n",
    "makeblastdb -parse_seqids -dbtype nucl -in database/human_trb_d\n",
    "# J-segment database\n",
    "perl ./edit_imgt_file.pl IMGT_Human_TRBJ.fasta > database/human_trb_j\n",
    "makeblastdb -parse_seqids -dbtype nucl -in database/human_trb_j"
   ]
  },
  {
   "cell_type": "markdown",
   "metadata": {},
   "source": [
    "## Use IgBLAST"
   ]
  },
  {
   "cell_type": "code",
   "execution_count": 2,
   "metadata": {
    "collapsed": false
   },
   "outputs": [],
   "source": [
    "%%bash\n",
    "igblastn \\\n",
    "    -germline_db_V database/human_trb_v \\\n",
    "    -germline_db_D database/human_trb_d \\\n",
    "    -germline_db_J database/human_trb_j \\\n",
    "    -auxiliary_data optional_file/human_gl.aux \\\n",
    "    -domain_system imgt -ig_seqtype TCR -organism human \\\n",
    "    -outfmt '7 std qseq sseq btop' \\\n",
    "    -query A2-i131.fasta \\\n",
    "    -out A2-i131.fmt7"
   ]
  },
  {
   "cell_type": "markdown",
   "metadata": {},
   "source": [
    "## Postprocess IgBLAST"
   ]
  },
  {
   "cell_type": "code",
   "execution_count": 14,
   "metadata": {
    "collapsed": false
   },
   "outputs": [
    {
     "name": "stdout",
     "output_type": "stream",
     "text": [
      "        START> MakeDB\n",
      "      ALIGNER> IgBlast\n",
      "ALIGN_RESULTS> SRR765688.fmt7\n",
      "     SEQ_FILE> SRR765688.fasta\n",
      "     NO_PARSE> False\n",
      " SCORE_FIELDS> True\n",
      "REGION_FIELDS> True\n",
      "\n",
      "PROGRESS> 07:54:44 [                    ]   0% (    0) 0.0 min\r",
      "PROGRESS> 07:54:44 [#                   ]   5% (  129) 0.0 min\r",
      "PROGRESS> 07:54:45 [##                  ]  10% (  258) 0.0 min\r",
      "PROGRESS> 07:54:46 [###                 ]  15% (  387) 0.0 min\r",
      "PROGRESS> 07:54:46 [####                ]  20% (  516) 0.0 min\r",
      "PROGRESS> 07:54:47 [#####               ]  25% (  645) 0.1 min\r",
      "PROGRESS> 07:54:47 [######              ]  30% (  774) 0.1 min\r",
      "PROGRESS> 07:54:48 [#######             ]  35% (  903) 0.1 min\r",
      "PROGRESS> 07:54:49 [########            ]  40% (1,032) 0.1 min\r",
      "PROGRESS> 07:54:50 [#########           ]  45% (1,161) 0.1 min\r",
      "PROGRESS> 07:54:50 [##########          ]  50% (1,290) 0.1 min\r",
      "PROGRESS> 07:54:51 [###########         ]  55% (1,419) 0.1 min\r",
      "PROGRESS> 07:54:52 [############        ]  60% (1,548) 0.1 min\r",
      "PROGRESS> 07:54:52 [#############       ]  65% (1,677) 0.1 min\r",
      "PROGRESS> 07:54:53 [##############      ]  71% (1,806) 0.2 min\r",
      "PROGRESS> 07:54:53 [###############     ]  76% (1,935) 0.2 min\r",
      "PROGRESS> 07:54:54 [################    ]  81% (2,064) 0.2 min\r",
      "PROGRESS> 07:54:55 [#################   ]  86% (2,193) 0.2 min\r",
      "PROGRESS> 07:54:55 [##################  ]  91% (2,322) 0.2 min\r",
      "PROGRESS> 07:54:56 [################### ]  96% (2,451) 0.2 min\r",
      "PROGRESS> 07:54:56 [####################] 100% (2,561) 0.2 min\n",
      "\n",
      "OUTPUT> SRR765688_db-pass.tab\n",
      "  PASS> 2553\n",
      "  FAIL> 8\n",
      "   END> MakeDb\n",
      "\n"
     ]
    }
   ],
   "source": [
    "%%bash\n",
    "MakeDb.py igblast -i A2-i131.fmt7 -s A2-i131.fasta -r IMGT_Human_TRB[VDJ].fasta \\\n",
    "    --regions --scores"
   ]
  },
  {
   "cell_type": "code",
   "execution_count": 15,
   "metadata": {
    "collapsed": false
   },
   "outputs": [
    {
     "name": "stdout",
     "output_type": "stream",
     "text": [
      "    START> ParseDb\n",
      "  COMMAND> split\n",
      "     FILE> SRR765688_db-pass.tab\n",
      "    FIELD> FUNCTIONAL\n",
      "NUM_SPLIT> None\n",
      "\n",
      "PROGRESS> 07:55:05 [                    ]   0% (    0) 0.0 min\r",
      "PROGRESS> 07:55:05 [#                   ]   5% (  128) 0.0 min\r",
      "PROGRESS> 07:55:05 [##                  ]  10% (  256) 0.0 min\r",
      "PROGRESS> 07:55:05 [###                 ]  15% (  384) 0.0 min\r",
      "PROGRESS> 07:55:05 [####                ]  20% (  512) 0.0 min\r",
      "PROGRESS> 07:55:05 [#####               ]  25% (  640) 0.0 min\r",
      "PROGRESS> 07:55:05 [######              ]  30% (  768) 0.0 min\r",
      "PROGRESS> 07:55:05 [#######             ]  35% (  896) 0.0 min\r",
      "PROGRESS> 07:55:05 [########            ]  40% (1,024) 0.0 min\r",
      "PROGRESS> 07:55:05 [#########           ]  45% (1,152) 0.0 min\r",
      "PROGRESS> 07:55:05 [##########          ]  50% (1,280) 0.0 min\r",
      "PROGRESS> 07:55:05 [###########         ]  55% (1,408) 0.0 min\r",
      "PROGRESS> 07:55:05 [############        ]  60% (1,536) 0.0 min\r",
      "PROGRESS> 07:55:05 [#############       ]  65% (1,664) 0.0 min\r",
      "PROGRESS> 07:55:05 [##############      ]  70% (1,792) 0.0 min\r",
      "PROGRESS> 07:55:05 [###############     ]  75% (1,920) 0.0 min\r",
      "PROGRESS> 07:55:05 [################    ]  80% (2,048) 0.0 min\r",
      "PROGRESS> 07:55:05 [#################   ]  85% (2,176) 0.0 min\r",
      "PROGRESS> 07:55:05 [##################  ]  90% (2,304) 0.0 min\r",
      "PROGRESS> 07:55:05 [################### ]  95% (2,432) 0.0 min\r",
      "PROGRESS> 07:55:05 [####################] 100% (2,553) 0.0 min\n",
      "\n",
      "OUTPUT1> SRR765688_db-pass_FUNCTIONAL-F.tab\n",
      "OUTPUT2> SRR765688_db-pass_FUNCTIONAL-T.tab\n",
      "RECORDS> 2553\n",
      "  PARTS> 2\n",
      "    END> ParseDb\n",
      "\n"
     ]
    }
   ],
   "source": [
    "%%bash\n",
    "ParseDb.py split -d A2-i131_db-pass.tab -f FUNCTIONAL"
   ]
  }
 ],
 "metadata": {
  "kernelspec": {
   "display_name": "Python 3",
   "language": "python",
   "name": "python3"
  },
  "language_info": {
   "codemirror_mode": {
    "name": "ipython",
    "version": 3
   },
   "file_extension": ".py",
   "mimetype": "text/x-python",
   "name": "python",
   "nbconvert_exporter": "python",
   "pygments_lexer": "ipython3",
   "version": "3.5.2"
  }
 },
 "nbformat": 4,
 "nbformat_minor": 1
}
