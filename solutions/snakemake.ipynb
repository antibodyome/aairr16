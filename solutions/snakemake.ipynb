{
 "cells": [
  {
   "cell_type": "markdown",
   "metadata": {},
   "source": [
    "# Workflows with Snakemake"
   ]
  },
  {
   "cell_type": "markdown",
   "metadata": {},
   "source": [
    "Take the following pieces of code, and turn them into a Snakefile."
   ]
  },
  {
   "cell_type": "markdown",
   "metadata": {},
   "source": [
    "## Quality control with `fastqc`"
   ]
  },
  {
   "cell_type": "markdown",
   "metadata": {},
   "source": [
    "The `fastqc` program generates a report that summarises the quality of next generation sequencing data. It takes a single input - a FASTQ file - and generates an HTML report. For example, the command:"
   ]
  },
  {
   "cell_type": "markdown",
   "metadata": {},
   "source": [
    "```{bash}\n",
    "fastqc SRR765688.fastq\n",
    "```"
   ]
  },
  {
   "cell_type": "markdown",
   "metadata": {},
   "source": [
    "will generate a report `SRR765688_fastqc.html`."
   ]
  },
  {
   "cell_type": "markdown",
   "metadata": {},
   "source": [
    "### Solution"
   ]
  },
  {
   "cell_type": "markdown",
   "metadata": {},
   "source": [
    "```\n",
    "IDS, = glob_wildcards(\"{id}.fastq\")\n",
    "\n",
    "rule all:\n",
    "  input:\n",
    "    expand(\"{id}_fastqc.html\", id=IDS)\n",
    "\n",
    "rule fastqc:\n",
    "  input:\n",
    "    \"{d1}.fastq\"\n",
    "  output:\n",
    "    \"{d1}_fastqc.html\"\n",
    "  shell:\n",
    "    \"fastqc {input}\"\n",
    "```"
   ]
  },
  {
   "cell_type": "markdown",
   "metadata": {},
   "source": [
    "## Conversion of FASTQ to FASTA"
   ]
  },
  {
   "cell_type": "markdown",
   "metadata": {},
   "source": [
    "The following Python code converts FASTQ to FASTA"
   ]
  },
  {
   "cell_type": "markdown",
   "metadata": {},
   "source": [
    "```{python}\n",
    "from Bio import SeqIO\n",
    "SeqIO.convert('SRR765688.fastq','fastq','SRR765688.fasta','fasta')\n",
    "```"
   ]
  },
  {
   "cell_type": "markdown",
   "metadata": {},
   "source": [
    "### Solution"
   ]
  },
  {
   "cell_type": "markdown",
   "metadata": {},
   "source": [
    "```\n",
    "IDS, = glob_wildcards(\"{id}.fastq\")\n",
    "\n",
    "rule all:\n",
    "  input:\n",
    "    expand(\"{id}.fasta\", id=IDS)\n",
    "\n",
    "rule fastq2fasta:\n",
    "  input:\n",
    "    \"{d1}.fastq\"\n",
    "  output:\n",
    "    \"{d1}.fasta\"\n",
    "  run:\n",
    "    \"\n",
    "from Bio import SeqIO\n",
    "SeqIO.convert('{input}','fastq','{output}','fasta')\n",
    "\"\n",
    "```"
   ]
  },
  {
   "cell_type": "markdown",
   "metadata": {},
   "source": [
    "## Running IgBLAST"
   ]
  },
  {
   "cell_type": "markdown",
   "metadata": {},
   "source": [
    "```\n",
    "igblastn \\\n",
    "    -germline_db_V database/human_igh_v \\\n",
    "    -germline_db_D database/human_igh_d \\\n",
    "    -germline_db_J database/human_igh_j \\\n",
    "    -auxiliary_data optional_file/human_gl.aux \\\n",
    "    -domain_system imgt -ig_seqtype Ig -organism human \\\n",
    "    -outfmt '7 std qseq sseq btop' \\\n",
    "    -query SRR765688.fasta \\\n",
    "    -out SRR765688.fmt7\n",
    "```"
   ]
  },
  {
   "cell_type": "markdown",
   "metadata": {},
   "source": [
    "### Solution"
   ]
  },
  {
   "cell_type": "markdown",
   "metadata": {},
   "source": [
    "```\n",
    "IDS, = glob_wildcards(\"{id,[A-Z]{3}[0-9]+}.fasta\")\n",
    "\n",
    "rule all:\n",
    "  input:\n",
    "    expand(\"{id}.fmt7\",id=IDS)\n",
    "\n",
    "rule igblast:\n",
    "  input:\n",
    "    \"{d1}.fasta\"\n",
    "  output:\n",
    "    \"{d1}.fmt7\"\n",
    "  shell:\n",
    "    \"igblastn \\\n",
    "    -germline_db_V database/human_igh_v \\\n",
    "    -germline_db_D database/human_igh_d \\\n",
    "    -germline_db_J database/human_igh_j \\\n",
    "    -auxiliary_data optional_file/human_gl.aux \\\n",
    "    -domain_system imgt -ig_seqtype Ig -organism human \\\n",
    "    -outfmt '7 std qseq sseq btop' \\\n",
    "    -query {input} \\\n",
    "    -out {output}\"\n",
    "```"
   ]
  },
  {
   "cell_type": "markdown",
   "metadata": {},
   "source": [
    "## Converting IgBLAST to ChangeO"
   ]
  },
  {
   "cell_type": "markdown",
   "metadata": {},
   "source": [
    "```{bash}\n",
    "MakeDb.py igblast -i SRR765688.fmt7 -s SRR765688.fasta -r IMGT_Human_IGH[VDJ].fasta \\\n",
    "    --regions --scores\n",
    "```"
   ]
  },
  {
   "cell_type": "markdown",
   "metadata": {},
   "source": [
    "This generates a file `SRR765688_db-pass.tab`."
   ]
  },
  {
   "cell_type": "markdown",
   "metadata": {},
   "source": [
    "### Solution"
   ]
  },
  {
   "cell_type": "code",
   "execution_count": null,
   "metadata": {
    "collapsed": true
   },
   "outputs": [],
   "source": [
    "```\n",
    "IDS, = glob_wildcards(\"{id}.fmt7\")\n",
    "\n",
    "rule all:\n",
    "  input:\n",
    "    expand(\"{id}_db-pass.tab\", id=IDS)\n",
    "\n",
    "rule makedb:\n",
    "  input:\n",
    "    [\"{d1}.fmt7\",\"{d1}.fasta\"]\n",
    "  output:\n",
    "    \"{d1}_db-pass.tab\"\n",
    "  shell:\n",
    "    \"MakeDb.py igblast -i {input[0]} -s {input[1]} -r IMGT_Human_IGH[VDJ].fasta \\\n",
    "    --regions --scores\"\n",
    "```"
   ]
  },
  {
   "cell_type": "markdown",
   "metadata": {},
   "source": [
    "## Splitting ChangeO database into functional and nonfunctional"
   ]
  },
  {
   "cell_type": "markdown",
   "metadata": {},
   "source": [
    "```{bash}\n",
    "ParseDb.py split -d SRR765688_db-pass.tab -f FUNCTIONAL\n",
    "```"
   ]
  },
  {
   "cell_type": "markdown",
   "metadata": {},
   "source": [
    "### Solution"
   ]
  },
  {
   "cell_type": "markdown",
   "metadata": {},
   "source": [
    "```\n",
    "IDS, = glob_wildcards(\"{id}_db-pass.tab\")\n",
    "\n",
    "rule all:\n",
    "  input:\n",
    "    expand([\"{id}_db-pass_FUNCTIONAL-F.tab\",\"{id}_db-pass_FUNCTIONAL-T.tab\"], id=IDS)\n",
    "\n",
    "rule splitfunctional:\n",
    "  input:\n",
    "    \"{d1}.tab\"\n",
    "  output:\n",
    "    [\"{d1}_FUNCTIONAL-F.tab\",\"{d1}_FUNCTIONAL-T.tab\"]\n",
    "  shell:\n",
    "    \"ParseDb.py split -d {input} -f FUNCTIONAL\"\n",
    "```"
   ]
  }
 ],
 "metadata": {
  "kernelspec": {
   "display_name": "Python 3",
   "language": "python",
   "name": "python3"
  },
  "language_info": {
   "codemirror_mode": {
    "name": "ipython",
    "version": 3
   },
   "file_extension": ".py",
   "mimetype": "text/x-python",
   "name": "python",
   "nbconvert_exporter": "python",
   "pygments_lexer": "ipython3",
   "version": "3.5.2"
  }
 },
 "nbformat": 4,
 "nbformat_minor": 1
}
