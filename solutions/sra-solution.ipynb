{
 "cells": [
  {
   "cell_type": "markdown",
   "metadata": {},
   "source": [
    "# Data practical using the Sequence Read Archive"
   ]
  },
  {
   "cell_type": "markdown",
   "metadata": {},
   "source": [
    "The goal of this practical is to download the data associated with this paper:\n",
    "\n",
    "\n",
    "Greiff V, Menzel U, Haessler U, Cook SC, Friedensohn S, Khan TA, Pogson M, Hellmann I, Reddy ST. (2014) Quantitative assessment of the robustness of next-generation sequencing of antibody variable gene repertoires from immunized mice. *BMC Immunol.* 2014 **15**:40.\n",
    "\n",
    "You will do this in two ways:\n",
    "  - Using a web browser\n",
    "  - Using the EDirect utilities\n",
    "\n",
    "Use this notebook to conduct your searches using EDirect, and feel free to add any other notes that help you."
   ]
  },
  {
   "cell_type": "markdown",
   "metadata": {},
   "source": [
    "## Finding accessions using a web browser"
   ]
  },
  {
   "cell_type": "markdown",
   "metadata": {},
   "source": [
    "- Go tp [PubMed](https://www.ncbi.nlm.nih.gov/pubmed)\n",
    "- Search for the publication\n",
    "- In the 'Related Information' field on the right hand side, click SRA."
   ]
  },
  {
   "cell_type": "markdown",
   "metadata": {},
   "source": [
    "## Finding accessions using EDirect"
   ]
  },
  {
   "cell_type": "markdown",
   "metadata": {},
   "source": [
    "You will need to piece together a command separated by pipes (`|`) in order to obtain a list of accessions that can be passed to `fastq-dump`.\n",
    "\n",
    "First search PubMed for the paper using `esearch` with the database set to `pubmed` and an appropriate query. The usage information for `esearch` can be obtained by running the below cell."
   ]
  },
  {
   "cell_type": "code",
   "execution_count": 1,
   "metadata": {
    "collapsed": false
   },
   "outputs": [
    {
     "name": "stdout",
     "output_type": "stream",
     "text": [
      "esearch 5.10\r\n",
      "\r\n",
      "Query Specification\r\n",
      "\r\n",
      "  -db          Database name\r\n",
      "  -query       Query string\r\n",
      "\r\n",
      "Document Order\r\n",
      "\r\n",
      "  -sort        Result presentation order\r\n",
      "\r\n",
      "Date Constraint\r\n",
      "\r\n",
      "  -days        Number of days in the past\r\n",
      "  -datetype    Date field abbreviation\r\n",
      "  -mindate     Start of date range\r\n",
      "  -maxdate     End of date range\r\n",
      "\r\n",
      "Spell Check\r\n",
      "\r\n",
      "  -spell       Correct misspellings in query\r\n",
      "\r\n",
      "Miscellaneous Arguments\r\n",
      "\r\n",
      "  -label       Alias for query step\r\n",
      "\r\n",
      "Sort Order Examples\r\n",
      "\r\n",
      "  -db            -sort\r\n",
      "  ___            _____\r\n",
      "\r\n",
      "  gene\r\n",
      "                 Chromosome\r\n",
      "                 Gene Weight\r\n",
      "                 Name\r\n",
      "                 Relevance\r\n",
      "\r\n",
      "  geoprofiles\r\n",
      "                 Default Order\r\n",
      "                 Deviation\r\n",
      "                 Mean Value\r\n",
      "                 Outliers\r\n",
      "                 Subgroup Effect\r\n",
      "\r\n",
      "  pubmed\r\n",
      "                 First Author\r\n",
      "                 Journal\r\n",
      "                 Last Author\r\n",
      "                 Pub Date\r\n",
      "                 Recently Added\r\n",
      "                 Relevance\r\n",
      "                 Title\r\n",
      "\r\n",
      "  (sequences)\r\n",
      "                 Accession\r\n",
      "                 Date Modified\r\n",
      "                 Date Released\r\n",
      "                 Default Order\r\n",
      "                 Organism Name\r\n",
      "                 Taxonomy ID\r\n",
      "\r\n",
      "  snp\r\n",
      "                 Chromosome Base Position\r\n",
      "                 Default Order\r\n",
      "                 Heterozygosity\r\n",
      "                 Organism\r\n",
      "                 SNP_ID\r\n",
      "                 Success Rate\r\n",
      "\r\n"
     ]
    }
   ],
   "source": [
    "!esearch --help"
   ]
  },
  {
   "cell_type": "code",
   "execution_count": 2,
   "metadata": {
    "collapsed": false
   },
   "outputs": [
    {
     "name": "stdout",
     "output_type": "stream",
     "text": [
      "<ENTREZ_DIRECT>\n",
      "  <Db>pubmed</Db>\n",
      "  <WebEnv>NCID_1_6542531_130.14.18.34_9001_1478038121_440751769_0MetA0_S_MegaStore_F_1</WebEnv>\n",
      "  <QueryKey>1</QueryKey>\n",
      "  <Count>1</Count>\n",
      "  <Step>1</Step>\n",
      "</ENTREZ_DIRECT>\n"
     ]
    }
   ],
   "source": [
    "%%bash\n",
    "esearch -db pubmed -query \"Greiff Reddy Quantitative assessment\""
   ]
  },
  {
   "cell_type": "markdown",
   "metadata": {},
   "source": [
    "Now pipe the output of the above to `elink -target sra` to get the linked records."
   ]
  },
  {
   "cell_type": "code",
   "execution_count": 3,
   "metadata": {
    "collapsed": false
   },
   "outputs": [
    {
     "name": "stdout",
     "output_type": "stream",
     "text": [
      "elink 5.10\r\n",
      "\r\n",
      "Destination Database\r\n",
      "\r\n",
      "  -related    Neighbors in same database\r\n",
      "  -target     Links in different database\r\n",
      "  -name       Link name (e.g., pubmed_protein_refseq)\r\n",
      "\r\n",
      "Direct Record Selection\r\n",
      "\r\n",
      "  -db         Database name\r\n",
      "  -id         Unique identifier(s)\r\n",
      "\r\n",
      "Advanced Control\r\n",
      "\r\n",
      "  -cmd        Command type (returns eLinkResult XML)\r\n",
      "  -mode       \"ref\" uses LinkOut provider's web site\r\n",
      "  -holding    Name of LinkOut provider\r\n",
      "\r\n",
      "Batch Processing\r\n",
      "\r\n",
      "  -batch      Bypass Entrez history mechanism\r\n",
      "\r\n",
      "Miscellaneous Arguments\r\n",
      "\r\n",
      "  -label      Alias for query step\r\n",
      "\r\n",
      "Command Option Examples\r\n",
      "\r\n",
      "  -cmd              Result\r\n",
      "  ____              ______\r\n",
      "\r\n",
      "  neighbor          Neighbors or links\r\n",
      "\r\n",
      "  neighbor_score    Neighbors with computed similarity scores\r\n",
      "\r\n",
      "  acheck            All links available\r\n",
      "\r\n",
      "  ncheck            Existence of neighbors\r\n",
      "\r\n",
      "  lcheck            Existence of external links (LinkOuts)\r\n",
      "\r\n",
      "  llinks            Non-library LinkOut providers\r\n",
      "\r\n",
      "  llinkslib         All LinkOut providers\r\n",
      "\r\n",
      "  prlinks           Primary LinkOut provider,\r\n",
      "                    or URL for single UID with -mode ref\r\n",
      "\r\n"
     ]
    }
   ],
   "source": [
    "!elink --help"
   ]
  },
  {
   "cell_type": "code",
   "execution_count": 4,
   "metadata": {
    "collapsed": false
   },
   "outputs": [
    {
     "name": "stdout",
     "output_type": "stream",
     "text": [
      "<ENTREZ_DIRECT>\n",
      "  <Db>sra</Db>\n",
      "  <WebEnv>NCID_1_6542763_130.14.18.34_9001_1478038122_954149945_0MetA0_S_MegaStore_F_1</WebEnv>\n",
      "  <QueryKey>3</QueryKey>\n",
      "  <Count>6</Count>\n",
      "  <Step>2</Step>\n",
      "</ENTREZ_DIRECT>\n"
     ]
    }
   ],
   "source": [
    "%%bash\n",
    "esearch -db pubmed -query \"Greiff Reddy Quantitative assessment\" | elink -target sra"
   ]
  },
  {
   "cell_type": "markdown",
   "metadata": {},
   "source": [
    "Now fetch the run info using `efetch -format runinfo`."
   ]
  },
  {
   "cell_type": "code",
   "execution_count": 5,
   "metadata": {
    "collapsed": false
   },
   "outputs": [
    {
     "name": "stdout",
     "output_type": "stream",
     "text": [
      "efetch 5.10\r\n",
      "\r\n",
      "Format Selection\r\n",
      "\r\n",
      "  -format        Format of record or report\r\n",
      "  -mode          text, xml, asn.1, json\r\n",
      "\r\n",
      "Direct Record Selection\r\n",
      "\r\n",
      "  -db            Database name\r\n",
      "  -id            Unique identifier or accession number\r\n",
      "\r\n",
      "Sequence Range\r\n",
      "\r\n",
      "  -seq_start     First sequence position to retrieve\r\n",
      "  -seq_stop      Last sequence position to retrieve\r\n",
      "  -strand        Strand of DNA to retrieve\r\n",
      "  -complexity    0 = default, 1 = bioseq, 3 = nuc-prot set\r\n",
      "\r\n",
      "Gene Range\r\n",
      "\r\n",
      "  -chr_start     Sequence range from 0-based coordinates\r\n",
      "  -chr_stop        in gene docsum GenomicInfoType object\r\n",
      "\r\n",
      "Format Examples\r\n",
      "\r\n",
      "  -db            -format            -mode    Report Type\r\n",
      "  ___            _______            _____    ___________\r\n",
      "\r\n",
      "  (all)\r\n",
      "                 docsum                      DocumentSummarySet XML\r\n",
      "                 docsum             json     DocumentSummarySet JSON\r\n",
      "                 full                        Same as native except for mesh\r\n",
      "                 uid                         Unique Identifier List\r\n",
      "                 url                         Entrez URL\r\n",
      "                 xml                         Same as -format full -mode xml\r\n",
      "\r\n",
      "  bioproject\r\n",
      "                 native                      BioProject Report\r\n",
      "                 native             xml      RecordSet XML\r\n",
      "\r\n",
      "  biosample\r\n",
      "                 native                      BioSample Report\r\n",
      "                 native             xml      BioSampleSet XML\r\n",
      "\r\n",
      "  biosystems\r\n",
      "                 native             xml      Sys-set XML\r\n",
      "\r\n",
      "  gds\r\n",
      "                 native             xml      RecordSet XML\r\n",
      "                 summary                     Summary\r\n",
      "\r\n",
      "  gene\r\n",
      "                 gene_table                  Gene Table\r\n",
      "                 native                      Gene Report\r\n",
      "                 native             asn.1    Entrezgene ASN.1\r\n",
      "                 native             xml      Entrezgene-Set XML\r\n",
      "                 tabular                     Tabular Report\r\n",
      "\r\n",
      "  homologene\r\n",
      "                 alignmentscores             Alignment Scores\r\n",
      "                 fasta                       FASTA\r\n",
      "                 homologene                  Homologene Report\r\n",
      "                 native                      Homologene List\r\n",
      "                 native             asn.1    HG-Entry ASN.1\r\n",
      "                 native             xml      Entrez-Homologene-Set XML\r\n",
      "\r\n",
      "  mesh\r\n",
      "                 full                        Full Record\r\n",
      "                 native                      MeSH Report\r\n",
      "                 native             xml      RecordSet XML\r\n",
      "\r\n",
      "  nlmcatalog\r\n",
      "                 native                      Full Record\r\n",
      "                 native             xml      NLMCatalogRecordSet XML\r\n",
      "\r\n",
      "  pmc\r\n",
      "                 medline                     MEDLINE\r\n",
      "                 native             xml      pmc-articleset XML\r\n",
      "\r\n",
      "  pubmed\r\n",
      "                 abstract                    Abstract\r\n",
      "                 medline                     MEDLINE\r\n",
      "                 native             asn.1    Pubmed-entry ASN.1\r\n",
      "                 native             xml      PubmedArticleSet XML\r\n",
      "\r\n",
      "  (sequences)\r\n",
      "                 acc                         Accession Number\r\n",
      "                 est                         EST Report\r\n",
      "                 fasta                       FASTA\r\n",
      "                 fasta              xml      TinySeq XML\r\n",
      "                 fasta_cds_aa                FASTA of CDS Products\r\n",
      "                 fasta_cds_na                FASTA of Coding Regions\r\n",
      "                 ft                          Feature Table\r\n",
      "                 gb                          GenBank Flatfile\r\n",
      "                 gb                 xml      GBSet XML\r\n",
      "                 gbc                xml      INSDSet XML\r\n",
      "                 gbwithparts                 GenBank with Contig Sequences\r\n",
      "                 gene_fasta                  FASTA of Gene\r\n",
      "                 gp                          GenPept Flatfile\r\n",
      "                 gp                 xml      GBSet XML\r\n",
      "                 gpc                xml      INSDSet XML\r\n",
      "                 gss                         GSS Report\r\n",
      "                 ipg                         Identical Protein Report\r\n",
      "                 ipg                xml      IPGReportSet XML\r\n",
      "                 native             text     Seq-entry ASN.1\r\n",
      "                 native             xml      Bioseq-set XML\r\n",
      "                 seqid                       Seq-id ASN.1\r\n",
      "\r\n",
      "  snp\r\n",
      "                 chr                         Chromosome Report\r\n",
      "                 docset                      Summary\r\n",
      "                 fasta                       FASTA\r\n",
      "                 flt                         Flat File\r\n",
      "                 native             asn.1    Rs ASN.1\r\n",
      "                 native             xml      ExchangeSet XML\r\n",
      "                 rsr                         RS Cluster Report\r\n",
      "                 ssexemplar                  SS Exemplar List\r\n",
      "\r\n",
      "  sra\r\n",
      "                 native             xml      EXPERIMENT_PACKAGE_SET XML\r\n",
      "                 runinfo            xml      SraRunInfo XML\r\n",
      "\r\n",
      "  structure\r\n",
      "                 mmdb                        Ncbi-mime-asn1 strucseq ASN.1\r\n",
      "                 native                      MMDB Report\r\n",
      "                 native             xml      RecordSet XML\r\n",
      "\r\n",
      "  taxonomy\r\n",
      "                 native                      Taxonomy List\r\n",
      "                 native             xml      TaxaSet XML\r\n",
      "\r\n"
     ]
    }
   ],
   "source": [
    "!efetch --help"
   ]
  },
  {
   "cell_type": "code",
   "execution_count": 6,
   "metadata": {
    "collapsed": false
   },
   "outputs": [
    {
     "name": "stdout",
     "output_type": "stream",
     "text": [
      "Run,ReleaseDate,LoadDate,spots,bases,spots_with_mates,avgLength,size_MB,AssemblyName,download_path,Experiment,LibraryName,LibraryStrategy,LibrarySelection,LibrarySource,LibraryLayout,InsertSize,InsertDev,Platform,Model,SRAStudy,BioProject,Study_Pubmed_id,ProjectID,Sample,BioSample,SampleType,TaxID,ScientificName,SampleName,g1k_pop_code,source,g1k_analysis_group,Subject_ID,Sex,Disease,Tumor,Affection_Status,Analyte_Type,Histological_Type,Body_Site,CenterName,Submission,dbgap_study_accession,Consent,RunHash,ReadHash\n",
      "ERR346596,2013-11-02,2013-10-27,1453261,729537022,1453261,502,394,,https://sra-download.ncbi.nlm.nih.gov/srapub/ERR346596,ERX319436,Replicate-3-M1,AMPLICON,RT-PCR,TRANSCRIPTOMIC,PAIRED,330,30,ILLUMINA,Illumina MiSeq,ERP003950,PRJEB4643,2,224769,ERS351324,SAMEA2240927,simple,10090,Mus musculus,E-MTAB-1896:one mouse,,,,,,,no,,,,,\"Quantitative Genomics Facility, ETH Zurich, Basel\",ERA251331,,public,D4302A4E05DBE0D551D1D13983D3F66F,469B971EC19E8CC94C03DA6FA29D13AB\n",
      "ERR346597,2013-11-02,2013-10-27,1569925,788102350,1569925,502,440,,https://sra-download.ncbi.nlm.nih.gov/srapub/ERR346597,ERX319437,Replicate-2-M1,AMPLICON,RT-PCR,TRANSCRIPTOMIC,PAIRED,330,30,ILLUMINA,Illumina MiSeq,ERP003950,PRJEB4643,2,224769,ERS351324,SAMEA2240927,simple,10090,Mus musculus,E-MTAB-1896:one mouse,,,,,,,no,,,,,\"Quantitative Genomics Facility, ETH Zurich, Basel\",ERA251331,,public,7AB10FBDC2FB16E649AA834E338129C9,51CFC57B33552809B262078415EE91B0\n",
      "ERR346598,2013-11-02,2013-10-27,2779764,1395441528,2779764,502,755,,https://sra-download.ncbi.nlm.nih.gov/srapub/ERR346598,ERX319433,Replicate-2-M9,AMPLICON,RT-PCR,TRANSCRIPTOMIC,PAIRED,330,30,ILLUMINA,Illumina MiSeq,ERP003950,PRJEB4643,2,224769,ERS351325,SAMEA2240928,simple,10090,Mus musculus,E-MTAB-1896:pool of nine mice,,,,,,,no,,,,,\"Quantitative Genomics Facility, ETH Zurich, Basel\",ERA251331,,public,84E337878764A96E1DBC18A179DBB490,A7EBCC3D312725600DF39E78E1B4EB9C\n",
      "ERR346599,2013-11-02,2013-10-27,1466959,736413418,1466959,502,393,,https://sra-download.ncbi.nlm.nih.gov/srapub/ERR346599,ERX319435,Replicate-1-M9,AMPLICON,RT-PCR,TRANSCRIPTOMIC,PAIRED,330,30,ILLUMINA,Illumina MiSeq,ERP003950,PRJEB4643,2,224769,ERS351325,SAMEA2240928,simple,10090,Mus musculus,E-MTAB-1896:pool of nine mice,,,,,,,no,,,,,\"Quantitative Genomics Facility, ETH Zurich, Basel\",ERA251331,,public,745F3EC51981E20E0BC16B18C8DC0C5F,DC533836C37ED7443A8BF3B39845694E\n",
      "ERR346600,2013-11-02,2013-10-27,1085869,545106238,1085869,502,287,,https://sra-download.ncbi.nlm.nih.gov/srapub/ERR346600,ERX319432,Replicate-1-M1,AMPLICON,RT-PCR,TRANSCRIPTOMIC,PAIRED,330,30,ILLUMINA,Illumina MiSeq,ERP003950,PRJEB4643,2,224769,ERS351324,SAMEA2240927,simple,10090,Mus musculus,E-MTAB-1896:one mouse,,,,,,,no,,,,,\"Quantitative Genomics Facility, ETH Zurich, Basel\",ERA251331,,public,4B3E3EB334E81D07D652F6F63AB605EA,EDCA48A77FCBC0958B17AAE1870B65CB\n",
      "ERR346601,2013-11-02,2013-10-27,1467650,736760300,1467650,502,393,,https://sra-download.ncbi.nlm.nih.gov/srapub/ERR346601,ERX319434,Replicate-3-M9,AMPLICON,RT-PCR,TRANSCRIPTOMIC,PAIRED,330,30,ILLUMINA,Illumina MiSeq,ERP003950,PRJEB4643,2,224769,ERS351325,SAMEA2240928,simple,10090,Mus musculus,E-MTAB-1896:pool of nine mice,,,,,,,no,,,,,\"Quantitative Genomics Facility, ETH Zurich, Basel\",ERA251331,,public,76D93527BA4BBCDBD761A2D850E51343,2ED84386B4555075FEE0E673265944FC\n",
      "\n"
     ]
    }
   ],
   "source": [
    "%%bash\n",
    "esearch -db pubmed -query \"Greiff Reddy Quantitative assessment\" | elink -target sra | efetch -format runinfo"
   ]
  },
  {
   "cell_type": "markdown",
   "metadata": {},
   "source": [
    "Now save this as a CSV called 'greiff_runinfo.csv' by redirecting the output by adding a `>` followed by the name of the file."
   ]
  },
  {
   "cell_type": "code",
   "execution_count": 7,
   "metadata": {
    "collapsed": false
   },
   "outputs": [],
   "source": [
    "%%bash\n",
    "esearch -db pubmed -query \"Greiff Reddy Quantitative assessment\" | elink -target sra | efetch -format runinfo > greiff_runinfo.csv"
   ]
  },
  {
   "cell_type": "markdown",
   "metadata": {},
   "source": [
    "This bit of Python code will display the file you just downloaded."
   ]
  },
  {
   "cell_type": "code",
   "execution_count": 8,
   "metadata": {
    "collapsed": false
   },
   "outputs": [
    {
     "data": {
      "text/html": [
       "<div>\n",
       "<table border=\"1\" class=\"dataframe\">\n",
       "  <thead>\n",
       "    <tr style=\"text-align: right;\">\n",
       "      <th></th>\n",
       "      <th>Run</th>\n",
       "      <th>ReleaseDate</th>\n",
       "      <th>LoadDate</th>\n",
       "      <th>spots</th>\n",
       "      <th>bases</th>\n",
       "      <th>spots_with_mates</th>\n",
       "      <th>avgLength</th>\n",
       "      <th>size_MB</th>\n",
       "      <th>AssemblyName</th>\n",
       "      <th>download_path</th>\n",
       "      <th>...</th>\n",
       "      <th>Affection_Status</th>\n",
       "      <th>Analyte_Type</th>\n",
       "      <th>Histological_Type</th>\n",
       "      <th>Body_Site</th>\n",
       "      <th>CenterName</th>\n",
       "      <th>Submission</th>\n",
       "      <th>dbgap_study_accession</th>\n",
       "      <th>Consent</th>\n",
       "      <th>RunHash</th>\n",
       "      <th>ReadHash</th>\n",
       "    </tr>\n",
       "  </thead>\n",
       "  <tbody>\n",
       "    <tr>\n",
       "      <th>0</th>\n",
       "      <td>ERR346596</td>\n",
       "      <td>2013-11-02</td>\n",
       "      <td>2013-10-27</td>\n",
       "      <td>1453261</td>\n",
       "      <td>729537022</td>\n",
       "      <td>1453261</td>\n",
       "      <td>502</td>\n",
       "      <td>394</td>\n",
       "      <td>NaN</td>\n",
       "      <td>https://sra-download.ncbi.nlm.nih.gov/srapub/E...</td>\n",
       "      <td>...</td>\n",
       "      <td>NaN</td>\n",
       "      <td>NaN</td>\n",
       "      <td>NaN</td>\n",
       "      <td>NaN</td>\n",
       "      <td>Quantitative Genomics Facility, ETH Zurich, Basel</td>\n",
       "      <td>ERA251331</td>\n",
       "      <td>NaN</td>\n",
       "      <td>public</td>\n",
       "      <td>D4302A4E05DBE0D551D1D13983D3F66F</td>\n",
       "      <td>469B971EC19E8CC94C03DA6FA29D13AB</td>\n",
       "    </tr>\n",
       "    <tr>\n",
       "      <th>1</th>\n",
       "      <td>ERR346597</td>\n",
       "      <td>2013-11-02</td>\n",
       "      <td>2013-10-27</td>\n",
       "      <td>1569925</td>\n",
       "      <td>788102350</td>\n",
       "      <td>1569925</td>\n",
       "      <td>502</td>\n",
       "      <td>440</td>\n",
       "      <td>NaN</td>\n",
       "      <td>https://sra-download.ncbi.nlm.nih.gov/srapub/E...</td>\n",
       "      <td>...</td>\n",
       "      <td>NaN</td>\n",
       "      <td>NaN</td>\n",
       "      <td>NaN</td>\n",
       "      <td>NaN</td>\n",
       "      <td>Quantitative Genomics Facility, ETH Zurich, Basel</td>\n",
       "      <td>ERA251331</td>\n",
       "      <td>NaN</td>\n",
       "      <td>public</td>\n",
       "      <td>7AB10FBDC2FB16E649AA834E338129C9</td>\n",
       "      <td>51CFC57B33552809B262078415EE91B0</td>\n",
       "    </tr>\n",
       "    <tr>\n",
       "      <th>2</th>\n",
       "      <td>ERR346598</td>\n",
       "      <td>2013-11-02</td>\n",
       "      <td>2013-10-27</td>\n",
       "      <td>2779764</td>\n",
       "      <td>1395441528</td>\n",
       "      <td>2779764</td>\n",
       "      <td>502</td>\n",
       "      <td>755</td>\n",
       "      <td>NaN</td>\n",
       "      <td>https://sra-download.ncbi.nlm.nih.gov/srapub/E...</td>\n",
       "      <td>...</td>\n",
       "      <td>NaN</td>\n",
       "      <td>NaN</td>\n",
       "      <td>NaN</td>\n",
       "      <td>NaN</td>\n",
       "      <td>Quantitative Genomics Facility, ETH Zurich, Basel</td>\n",
       "      <td>ERA251331</td>\n",
       "      <td>NaN</td>\n",
       "      <td>public</td>\n",
       "      <td>84E337878764A96E1DBC18A179DBB490</td>\n",
       "      <td>A7EBCC3D312725600DF39E78E1B4EB9C</td>\n",
       "    </tr>\n",
       "    <tr>\n",
       "      <th>3</th>\n",
       "      <td>ERR346599</td>\n",
       "      <td>2013-11-02</td>\n",
       "      <td>2013-10-27</td>\n",
       "      <td>1466959</td>\n",
       "      <td>736413418</td>\n",
       "      <td>1466959</td>\n",
       "      <td>502</td>\n",
       "      <td>393</td>\n",
       "      <td>NaN</td>\n",
       "      <td>https://sra-download.ncbi.nlm.nih.gov/srapub/E...</td>\n",
       "      <td>...</td>\n",
       "      <td>NaN</td>\n",
       "      <td>NaN</td>\n",
       "      <td>NaN</td>\n",
       "      <td>NaN</td>\n",
       "      <td>Quantitative Genomics Facility, ETH Zurich, Basel</td>\n",
       "      <td>ERA251331</td>\n",
       "      <td>NaN</td>\n",
       "      <td>public</td>\n",
       "      <td>745F3EC51981E20E0BC16B18C8DC0C5F</td>\n",
       "      <td>DC533836C37ED7443A8BF3B39845694E</td>\n",
       "    </tr>\n",
       "    <tr>\n",
       "      <th>4</th>\n",
       "      <td>ERR346600</td>\n",
       "      <td>2013-11-02</td>\n",
       "      <td>2013-10-27</td>\n",
       "      <td>1085869</td>\n",
       "      <td>545106238</td>\n",
       "      <td>1085869</td>\n",
       "      <td>502</td>\n",
       "      <td>287</td>\n",
       "      <td>NaN</td>\n",
       "      <td>https://sra-download.ncbi.nlm.nih.gov/srapub/E...</td>\n",
       "      <td>...</td>\n",
       "      <td>NaN</td>\n",
       "      <td>NaN</td>\n",
       "      <td>NaN</td>\n",
       "      <td>NaN</td>\n",
       "      <td>Quantitative Genomics Facility, ETH Zurich, Basel</td>\n",
       "      <td>ERA251331</td>\n",
       "      <td>NaN</td>\n",
       "      <td>public</td>\n",
       "      <td>4B3E3EB334E81D07D652F6F63AB605EA</td>\n",
       "      <td>EDCA48A77FCBC0958B17AAE1870B65CB</td>\n",
       "    </tr>\n",
       "    <tr>\n",
       "      <th>5</th>\n",
       "      <td>ERR346601</td>\n",
       "      <td>2013-11-02</td>\n",
       "      <td>2013-10-27</td>\n",
       "      <td>1467650</td>\n",
       "      <td>736760300</td>\n",
       "      <td>1467650</td>\n",
       "      <td>502</td>\n",
       "      <td>393</td>\n",
       "      <td>NaN</td>\n",
       "      <td>https://sra-download.ncbi.nlm.nih.gov/srapub/E...</td>\n",
       "      <td>...</td>\n",
       "      <td>NaN</td>\n",
       "      <td>NaN</td>\n",
       "      <td>NaN</td>\n",
       "      <td>NaN</td>\n",
       "      <td>Quantitative Genomics Facility, ETH Zurich, Basel</td>\n",
       "      <td>ERA251331</td>\n",
       "      <td>NaN</td>\n",
       "      <td>public</td>\n",
       "      <td>76D93527BA4BBCDBD761A2D850E51343</td>\n",
       "      <td>2ED84386B4555075FEE0E673265944FC</td>\n",
       "    </tr>\n",
       "  </tbody>\n",
       "</table>\n",
       "<p>6 rows × 47 columns</p>\n",
       "</div>"
      ],
      "text/plain": [
       "         Run ReleaseDate    LoadDate    spots       bases  spots_with_mates  \\\n",
       "0  ERR346596  2013-11-02  2013-10-27  1453261   729537022           1453261   \n",
       "1  ERR346597  2013-11-02  2013-10-27  1569925   788102350           1569925   \n",
       "2  ERR346598  2013-11-02  2013-10-27  2779764  1395441528           2779764   \n",
       "3  ERR346599  2013-11-02  2013-10-27  1466959   736413418           1466959   \n",
       "4  ERR346600  2013-11-02  2013-10-27  1085869   545106238           1085869   \n",
       "5  ERR346601  2013-11-02  2013-10-27  1467650   736760300           1467650   \n",
       "\n",
       "   avgLength  size_MB  AssemblyName  \\\n",
       "0        502      394           NaN   \n",
       "1        502      440           NaN   \n",
       "2        502      755           NaN   \n",
       "3        502      393           NaN   \n",
       "4        502      287           NaN   \n",
       "5        502      393           NaN   \n",
       "\n",
       "                                       download_path  \\\n",
       "0  https://sra-download.ncbi.nlm.nih.gov/srapub/E...   \n",
       "1  https://sra-download.ncbi.nlm.nih.gov/srapub/E...   \n",
       "2  https://sra-download.ncbi.nlm.nih.gov/srapub/E...   \n",
       "3  https://sra-download.ncbi.nlm.nih.gov/srapub/E...   \n",
       "4  https://sra-download.ncbi.nlm.nih.gov/srapub/E...   \n",
       "5  https://sra-download.ncbi.nlm.nih.gov/srapub/E...   \n",
       "\n",
       "                 ...                Affection_Status Analyte_Type  \\\n",
       "0                ...                             NaN          NaN   \n",
       "1                ...                             NaN          NaN   \n",
       "2                ...                             NaN          NaN   \n",
       "3                ...                             NaN          NaN   \n",
       "4                ...                             NaN          NaN   \n",
       "5                ...                             NaN          NaN   \n",
       "\n",
       "  Histological_Type Body_Site  \\\n",
       "0               NaN       NaN   \n",
       "1               NaN       NaN   \n",
       "2               NaN       NaN   \n",
       "3               NaN       NaN   \n",
       "4               NaN       NaN   \n",
       "5               NaN       NaN   \n",
       "\n",
       "                                          CenterName Submission  \\\n",
       "0  Quantitative Genomics Facility, ETH Zurich, Basel  ERA251331   \n",
       "1  Quantitative Genomics Facility, ETH Zurich, Basel  ERA251331   \n",
       "2  Quantitative Genomics Facility, ETH Zurich, Basel  ERA251331   \n",
       "3  Quantitative Genomics Facility, ETH Zurich, Basel  ERA251331   \n",
       "4  Quantitative Genomics Facility, ETH Zurich, Basel  ERA251331   \n",
       "5  Quantitative Genomics Facility, ETH Zurich, Basel  ERA251331   \n",
       "\n",
       "   dbgap_study_accession  Consent                           RunHash  \\\n",
       "0                    NaN   public  D4302A4E05DBE0D551D1D13983D3F66F   \n",
       "1                    NaN   public  7AB10FBDC2FB16E649AA834E338129C9   \n",
       "2                    NaN   public  84E337878764A96E1DBC18A179DBB490   \n",
       "3                    NaN   public  745F3EC51981E20E0BC16B18C8DC0C5F   \n",
       "4                    NaN   public  4B3E3EB334E81D07D652F6F63AB605EA   \n",
       "5                    NaN   public  76D93527BA4BBCDBD761A2D850E51343   \n",
       "\n",
       "                           ReadHash  \n",
       "0  469B971EC19E8CC94C03DA6FA29D13AB  \n",
       "1  51CFC57B33552809B262078415EE91B0  \n",
       "2  A7EBCC3D312725600DF39E78E1B4EB9C  \n",
       "3  DC533836C37ED7443A8BF3B39845694E  \n",
       "4  EDCA48A77FCBC0958B17AAE1870B65CB  \n",
       "5  2ED84386B4555075FEE0E673265944FC  \n",
       "\n",
       "[6 rows x 47 columns]"
      ]
     },
     "execution_count": 8,
     "metadata": {},
     "output_type": "execute_result"
    }
   ],
   "source": [
    "import pandas as pd\n",
    "runinfo = pd.read_csv(\"greiff_runinfo.csv\")\n",
    "runinfo"
   ]
  },
  {
   "cell_type": "markdown",
   "metadata": {},
   "source": [
    "This will save the run accessions to a file."
   ]
  },
  {
   "cell_type": "code",
   "execution_count": 9,
   "metadata": {
    "collapsed": false
   },
   "outputs": [],
   "source": [
    "runinfo[\"Run\"].to_csv(\"greiff_accessions.txt\",header=False,index=False)"
   ]
  },
  {
   "cell_type": "code",
   "execution_count": 10,
   "metadata": {
    "collapsed": false
   },
   "outputs": [
    {
     "name": "stdout",
     "output_type": "stream",
     "text": [
      "ERR346596\n",
      "ERR346597\n",
      "ERR346598\n",
      "ERR346599\n",
      "ERR346600\n",
      "ERR346601\n"
     ]
    }
   ],
   "source": [
    "%%bash\n",
    "cat greiff_accessions.txt"
   ]
  },
  {
   "cell_type": "markdown",
   "metadata": {},
   "source": [
    "You can now pipe the output of these to `fastq-dump`."
   ]
  }
 ],
 "metadata": {
  "kernelspec": {
   "display_name": "Python 3",
   "language": "python",
   "name": "python3"
  },
  "language_info": {
   "codemirror_mode": {
    "name": "ipython",
    "version": 3
   },
   "file_extension": ".py",
   "mimetype": "text/x-python",
   "name": "python",
   "nbconvert_exporter": "python",
   "pygments_lexer": "ipython3",
   "version": "3.5.2"
  }
 },
 "nbformat": 4,
 "nbformat_minor": 1
}
