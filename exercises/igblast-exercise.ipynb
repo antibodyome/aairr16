{
 "cells": [
  {
   "cell_type": "markdown",
   "metadata": {},
   "source": [
    "# IgBLAST"
   ]
  },
  {
   "cell_type": "markdown",
   "metadata": {},
   "source": [
    "Given the following FASTQ file:\n",
    "- Convert to FASTA\n",
    "- Use IgBLAST to assign germline V, D, and J segments\n",
    "- Post-process using Change-O."
   ]
  },
  {
   "cell_type": "markdown",
   "metadata": {},
   "source": [
    "##  Convert FASTQ to FASTA"
   ]
  },
  {
   "cell_type": "code",
   "execution_count": null,
   "metadata": {
    "collapsed": false
   },
   "outputs": [],
   "source": [
    "from Bio import SeqIO\n",
    "SeqIO.convert('SRR765688.fastq','fastq','SRR765688.fasta','fasta') "
   ]
  },
  {
   "cell_type": "markdown",
   "metadata": {},
   "source": [
    "## Set up IgBLAST"
   ]
  },
  {
   "cell_type": "code",
   "execution_count": null,
   "metadata": {
    "collapsed": false
   },
   "outputs": [],
   "source": [
    "%%bash\n",
    "wget -r -nH --cut-dirs=4 --no-parent ftp://ftp.ncbi.nih.gov/blast/executables/igblast/release/internal_data\n",
    "wget -r -nH --cut-dirs=4 --no-parent ftp://ftp.ncbi.nih.gov/blast/executables/igblast/release/optional_file"
   ]
  },
  {
   "cell_type": "code",
   "execution_count": null,
   "metadata": {
    "collapsed": false
   },
   "outputs": [],
   "source": [
    "%%bash\n",
    "mkdir database\n",
    "# V-segment database\n",
    "perl ./edit_imgt_file.pl IMGT_Human_IGHV.fasta > database/human_igh_v\n",
    "makeblastdb -parse_seqids -dbtype nucl -in database/human_igh_v\n",
    "# D-segment database\n",
    "perl ./edit_imgt_file.pl IMGT_Human_IGHD.fasta > database/human_igh_d\n",
    "makeblastdb -parse_seqids -dbtype nucl -in database/human_igh_d\n",
    "# J-segment database\n",
    "perl ./edit_imgt_file.pl IMGT_Human_IGHJ.fasta > database/human_igh_j\n",
    "makeblastdb -parse_seqids -dbtype nucl -in database/human_igh_j"
   ]
  },
  {
   "cell_type": "markdown",
   "metadata": {},
   "source": [
    "## Obtain reference sequences\n",
    "\n",
    "Go to [http://www.imgt.org/vquest/refseqh.html](http://www.imgt.org/vquest/refseqh.html) and download IGHV, IGHD, and IGHJ sequences for humans in FASTA format. Save them as `IMGT_Human_IGHV.fasta` etc..\n",
    "\n",
    "(For advanced users, one could download the whole database from [here](http://www.imgt.org/download/GENE-DB/) and postprocess.)"
   ]
  },
  {
   "cell_type": "markdown",
   "metadata": {},
   "source": [
    "## Use IgBLAST"
   ]
  },
  {
   "cell_type": "markdown",
   "metadata": {},
   "source": [
    "IgBLAST has many options (see below) but the most important ones are as follows:\n",
    "\n",
    "- germline_db_V: the V gene database\n",
    "- germline_db_D: the D gene database\n",
    "- germline_db_J: the J gene database\n",
    "- auxiliary_data: contains annotations for the sequences\n",
    "- domain_system: the system used (e.g. imgt) for defining the domains\n",
    "- ig_seqtype: Ig or TCR\n",
    "- organism: e.g. human, mouse\n",
    "- outfmt: the output format; for postprocessing with ChangeO, has to be '7 std qseq sseq btop'\n",
    "- query: the input data in FASTA format\n",
    "- out: the output filename\n",
    "- num_threads: the number of threads to use"
   ]
  },
  {
   "cell_type": "code",
   "execution_count": null,
   "metadata": {
    "collapsed": false
   },
   "outputs": [],
   "source": [
    "!igblastn -help"
   ]
  },
  {
   "cell_type": "markdown",
   "metadata": {},
   "source": [
    "Complete the following cell to run `SRR765688,fasta` against the IGH databases generated previously. Ensure that the outfmt term is '7 std qseq sseq btop', and save the output as `SRR765688.fmt7`."
   ]
  },
  {
   "cell_type": "code",
   "execution_count": null,
   "metadata": {
    "collapsed": false
   },
   "outputs": [],
   "source": [
    "%%bash\n",
    "igblastn"
   ]
  },
  {
   "cell_type": "markdown",
   "metadata": {},
   "source": [
    "## Postprocess IgBLAST"
   ]
  },
  {
   "cell_type": "code",
   "execution_count": null,
   "metadata": {
    "collapsed": false
   },
   "outputs": [],
   "source": [
    "%%bash\n",
    "MakeDb.py igblast -i SRR765688.fmt7 -s SRR765688.fasta -r IMGT_Human_IGH[VDJ].fasta \\\n",
    "    --regions --scores"
   ]
  },
  {
   "cell_type": "code",
   "execution_count": null,
   "metadata": {
    "collapsed": false
   },
   "outputs": [],
   "source": [
    "%%bash\n",
    "ParseDb.py split -d SRR765688_db-pass.tab -f FUNCTIONAL"
   ]
  },
  {
   "cell_type": "code",
   "execution_count": null,
   "metadata": {
    "collapsed": true
   },
   "outputs": [],
   "source": [
    "%load_ext rpy2.ipython"
   ]
  },
  {
   "cell_type": "code",
   "execution_count": null,
   "metadata": {
    "collapsed": false
   },
   "outputs": [],
   "source": [
    "%%R\n",
    "library(ggplot2)\n",
    "library(alakazam)\n",
    "library(shazam)\n",
    "db <- readChangeoDb(\"SRR765688_db-pass_FUNCTIONAL-T.tab\")\n",
    "db <- distToNearest(db, model=\"ham\", symmetry=\"min\")\n",
    "p1 <- ggplot() + theme_bw() + \n",
    "    ggtitle(\"Distance to nearest: ham\") + xlab(\"distance\") +\n",
    "    geom_histogram(data=db, aes(x=DIST_NEAREST), binwidth=0.01, \n",
    "                   fill=\"steelblue\", color=\"white\")\n",
    "plot(p1)"
   ]
  },
  {
   "cell_type": "markdown",
   "metadata": {},
   "source": [
    "**Look at the above histogram, and decide what a good cutoff is for defining a clone, then add this to the end of the following command.**"
   ]
  },
  {
   "cell_type": "code",
   "execution_count": null,
   "metadata": {
    "collapsed": false
   },
   "outputs": [],
   "source": [
    "%%bash\n",
    "DefineClones.py bygroup -d SRR765688_db-pass_FUNCTIONAL-T.tab --act set --model ham \\\n",
    "--sym min --norm len --dist"
   ]
  },
  {
   "cell_type": "code",
   "execution_count": null,
   "metadata": {
    "collapsed": false
   },
   "outputs": [],
   "source": [
    "%%bash\n",
    "CreateGermlines.py -d SRR765688_db-pass_FUNCTIONAL-T_clone-pass.tab -r IMGT_Human_IGH[VDJ].fasta \\\n",
    "    -g dmask --cloned"
   ]
  },
  {
   "cell_type": "code",
   "execution_count": null,
   "metadata": {
    "collapsed": false
   },
   "outputs": [],
   "source": [
    "import pandas as pd\n",
    "db=pd.read_csv(\"SRR765688_db-pass_FUNCTIONAL-T_clone-pass_germ-pass.tab\",sep=\"\\t\")\n",
    "db"
   ]
  }
 ],
 "metadata": {
  "kernelspec": {
   "display_name": "Python 3",
   "language": "python",
   "name": "python3"
  },
  "language_info": {
   "codemirror_mode": {
    "name": "ipython",
    "version": 3
   },
   "file_extension": ".py",
   "mimetype": "text/x-python",
   "name": "python",
   "nbconvert_exporter": "python",
   "pygments_lexer": "ipython3",
   "version": "3.5.2"
  }
 },
 "nbformat": 4,
 "nbformat_minor": 1
}
