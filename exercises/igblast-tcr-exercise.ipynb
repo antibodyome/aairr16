{
 "cells": [
  {
   "cell_type": "markdown",
   "metadata": {},
   "source": [
    "# IgBLAST for TCR"
   ]
  },
  {
   "cell_type": "markdown",
   "metadata": {},
   "source": [
    "Given the FASTA file `A2-i131.fasta`, use IgBLAST to assign germline V, D, and J segments, and post-process using Change-O."
   ]
  },
  {
   "cell_type": "markdown",
   "metadata": {},
   "source": [
    "## Obtain reference sequences"
   ]
  },
  {
   "cell_type": "markdown",
   "metadata": {},
   "source": [
    "Go to [http://www.imgt.org/vquest/refseqh.html](http://www.imgt.org/vquest/refseqh.html) and download TRBV, TRBD, and TRBJ sequences for humans in FASTA format. Save them as `IMGT_Human_TRBV.fasta` etc..\n",
    "\n",
    "(For advanced users, one could download the whole database from [here](http://www.imgt.org/download/GENE-DB/) and postprocess.)"
   ]
  },
  {
   "cell_type": "markdown",
   "metadata": {},
   "source": [
    "## Converting IMGT FASTA files to IgBLAST databases"
   ]
  },
  {
   "cell_type": "code",
   "execution_count": null,
   "metadata": {
    "collapsed": false
   },
   "outputs": [],
   "source": [
    "%%bash\n",
    "# V-segment database\n",
    "perl ./edit_imgt_file.pl IMGT_Human_TRBV.fasta > database/human_trb_v\n",
    "makeblastdb -parse_seqids -dbtype nucl -in database/human_trb_v\n",
    "# D-segment database\n",
    "perl ./edit_imgt_file.pl IMGT_Human_TRBD.fasta > database/human_trb_d\n",
    "makeblastdb -parse_seqids -dbtype nucl -in database/human_trb_d\n",
    "# J-segment database\n",
    "perl ./edit_imgt_file.pl IMGT_Human_TRBJ.fasta > database/human_trb_j\n",
    "makeblastdb -parse_seqids -dbtype nucl -in database/human_trb_j"
   ]
  },
  {
   "cell_type": "markdown",
   "metadata": {},
   "source": [
    "## Use IgBLAST"
   ]
  },
  {
   "cell_type": "markdown",
   "metadata": {},
   "source": [
    "IgBLAST has many options (see below) but the most important ones are as follows:\n",
    "\n",
    "- germline_db_V: the V gene database\n",
    "- germline_db_D: the D gene database\n",
    "- germline_db_J: the J gene database\n",
    "- auxiliary_data: contains annotations for the sequences\n",
    "- domain_system: the system used (e.g. imgt) for defining the domains\n",
    "- ig_seqtype: Ig or TCR\n",
    "- organism: e.g. human, mouse\n",
    "- outfmt: the output format; for postprocessing with ChangeO, has to be '7 std qseq sseq btop'\n",
    "- query: the input data in FASTA format\n",
    "- out: the output filename\n",
    "- num_threads: the number of threads to use"
   ]
  },
  {
   "cell_type": "code",
   "execution_count": null,
   "metadata": {
    "collapsed": false
   },
   "outputs": [],
   "source": [
    "!igblastn -help"
   ]
  },
  {
   "cell_type": "markdown",
   "metadata": {},
   "source": [
    "Complete the following cell to run `A2-i131,fasta` against the TRB databases generated previously. Ensure that the outfmt term is '7 std qseq sseq btop', and save the output as `A2-i131.fmt7`."
   ]
  },
  {
   "cell_type": "code",
   "execution_count": null,
   "metadata": {
    "collapsed": false
   },
   "outputs": [],
   "source": [
    "%%bash\n",
    "igblastn"
   ]
  },
  {
   "cell_type": "markdown",
   "metadata": {},
   "source": [
    "## Postprocess IgBLAST"
   ]
  },
  {
   "cell_type": "markdown",
   "metadata": {},
   "source": [
    "The following cells postprocess the BLAST output using Change-O."
   ]
  },
  {
   "cell_type": "code",
   "execution_count": null,
   "metadata": {
    "collapsed": false
   },
   "outputs": [],
   "source": [
    "%%bash\n",
    "MakeDb.py igblast -i A2-i131.fmt7 -s A2-i131.fasta -r IMGT_Human_TRB[VDJ].fasta \\\n",
    "    --regions --scores"
   ]
  },
  {
   "cell_type": "code",
   "execution_count": null,
   "metadata": {
    "collapsed": false
   },
   "outputs": [],
   "source": [
    "%%bash\n",
    "ParseDb.py split -d A2-i131_db-pass.tab -f FUNCTIONAL"
   ]
  }
 ],
 "metadata": {
  "kernelspec": {
   "display_name": "Python 3",
   "language": "python",
   "name": "python3"
  },
  "language_info": {
   "codemirror_mode": {
    "name": "ipython",
    "version": 3
   },
   "file_extension": ".py",
   "mimetype": "text/x-python",
   "name": "python",
   "nbconvert_exporter": "python",
   "pygments_lexer": "ipython3",
   "version": "3.5.2"
  }
 },
 "nbformat": 4,
 "nbformat_minor": 1
}
