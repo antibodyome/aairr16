{
 "cells": [
  {
   "cell_type": "markdown",
   "metadata": {},
   "source": [
    "## vdjtools"
   ]
  },
  {
   "cell_type": "code",
   "execution_count": 1,
   "metadata": {
    "collapsed": true
   },
   "outputs": [],
   "source": [
    "%load_ext rpy2.ipython"
   ]
  },
  {
   "cell_type": "code",
   "execution_count": 2,
   "metadata": {
    "collapsed": true
   },
   "outputs": [],
   "source": [
    "class PDF(object):\n",
    "  def __init__(self, pdf, size=(200,200)):\n",
    "    self.pdf = pdf\n",
    "    self.size = size\n",
    "\n",
    "  def _repr_html_(self):\n",
    "    return '<iframe src={0} width={1[0]} height={1[1]}></iframe>'.format(self.pdf, self.size)\n",
    "\n",
    "  def _repr_latex_(self):\n",
    "    return r'\\includegraphics[width=1.0\\textwidth]{{{0}}}'.format(self.pdf)\n"
   ]
  },
  {
   "cell_type": "code",
   "execution_count": 3,
   "metadata": {
    "collapsed": false
   },
   "outputs": [
    {
     "name": "stdout",
     "output_type": "stream",
     "text": [
      "Executing com.antigenomics.vdjtools.basic.PlotFancySpectratype ./aging/A4-i125.txt.gz out/A4-i125\n",
      "[Fri Nov 04 11:07:38 WET 2016 PlotFancySpectratype] Reading sample\n",
      "[Fri Nov 04 11:07:38 WET 2016 SampleStreamConnection] Loading sample A4-i125\n",
      "[Fri Nov 04 11:07:39 WET 2016 ClonotypeStreamParser] Finished parsing. 1 header and 0 bad line(s) were skipped.\n",
      "[Fri Nov 04 11:07:39 WET 2016 SampleStreamConnection] Loaded sample A4-i125 with 62599 clonotypes and 620475 cells. Memory usage: 0 of 10 GB\n",
      "[Fri Nov 04 11:07:40 WET 2016 PlotFancySpectratype] Writing output and plotting data\n",
      "[RUtil] Executing Rscript fancy_spectratype.r out/A4-i125.fancyspectra.txt out/A4-i125.fancyspectra.pdf Clonotype TRUE\n",
      "null device \n",
      "          1 \n",
      "[Fri Nov 04 11:07:40 WET 2016 PlotFancySpectratype] Finished\n"
     ]
    }
   ],
   "source": [
    "%%bash\n",
    "VDJTOOLS=\"java -Xmx12G -jar ./vdjtools.jar\"\n",
    "$VDJTOOLS PlotFancySpectratype ./aging/A4-i125.txt.gz out/A4-i125"
   ]
  },
  {
   "cell_type": "code",
   "execution_count": 4,
   "metadata": {
    "collapsed": false
   },
   "outputs": [
    {
     "data": {
      "text/html": [
       "<iframe src=out/A4-i125.fancyspectra.pdf width=600 height=600></iframe>"
      ],
      "text/latex": [
       "\\includegraphics[width=1.0\\textwidth]{out/A4-i125.fancyspectra.pdf}"
      ],
      "text/plain": [
       "<__main__.PDF at 0x7fdacf602320>"
      ]
     },
     "execution_count": 4,
     "metadata": {},
     "output_type": "execute_result"
    }
   ],
   "source": [
    "PDF(\"out/A4-i125.fancyspectra.pdf\",size=(600,600))"
   ]
  },
  {
   "cell_type": "code",
   "execution_count": 5,
   "metadata": {
    "collapsed": false
   },
   "outputs": [
    {
     "name": "stdout",
     "output_type": "stream",
     "text": [
      "Executing com.antigenomics.vdjtools.basic.PlotSpectratypeV ./aging/A4-i125.txt.gz out/A4-i125\n",
      "[Fri Nov 04 11:07:41 WET 2016 PlotSpectratypeV] Reading sample\n",
      "[Fri Nov 04 11:07:41 WET 2016 SampleStreamConnection] Loading sample A4-i125\n",
      "[Fri Nov 04 11:07:42 WET 2016 ClonotypeStreamParser] Finished parsing. 1 header and 0 bad line(s) were skipped.\n",
      "[Fri Nov 04 11:07:42 WET 2016 SampleStreamConnection] Loaded sample A4-i125 with 62599 clonotypes and 620475 cells. Memory usage: 0 of 10 GB\n",
      "[Fri Nov 04 11:07:43 WET 2016 PlotSpectratypeV] Writing output and plotting data\n",
      "[RUtil] Executing Rscript fancy_spectratype.r out/A4-i125.spectraV.wt.txt out/A4-i125.spectraV.wt.pdf Variable segment F\n",
      "null device \n",
      "          1 \n",
      "[Fri Nov 04 11:07:43 WET 2016 PlotSpectratypeV] Finished\n"
     ]
    }
   ],
   "source": [
    "%%bash\n",
    "VDJTOOLS=\"java -Xmx12G -jar ./vdjtools.jar\"\n",
    "$VDJTOOLS PlotSpectratypeV ./aging/A4-i125.txt.gz out/A4-i125"
   ]
  },
  {
   "cell_type": "code",
   "execution_count": 6,
   "metadata": {
    "collapsed": false
   },
   "outputs": [
    {
     "data": {
      "text/html": [
       "<iframe src=out/A4-i125.spectraV.wt.pdf width=600 height=600></iframe>"
      ],
      "text/latex": [
       "\\includegraphics[width=1.0\\textwidth]{out/A4-i125.spectraV.wt.pdf}"
      ],
      "text/plain": [
       "<__main__.PDF at 0x7fdacf602fd0>"
      ]
     },
     "execution_count": 6,
     "metadata": {},
     "output_type": "execute_result"
    }
   ],
   "source": [
    "PDF(\"out/A4-i125.spectraV.wt.pdf\",size=(600,600))"
   ]
  },
  {
   "cell_type": "code",
   "execution_count": 7,
   "metadata": {
    "collapsed": false
   },
   "outputs": [
    {
     "name": "stdout",
     "output_type": "stream",
     "text": [
      "Executing com.antigenomics.vdjtools.basic.PlotFancyVJUsage ./aging/A4-i125.txt.gz out/A4-i125\n",
      "[Fri Nov 04 11:07:44 WET 2016 PlotFancyVJUsage] Reading sample\n",
      "[Fri Nov 04 11:07:44 WET 2016 SampleStreamConnection] Loading sample A4-i125\n",
      "[Fri Nov 04 11:07:45 WET 2016 ClonotypeStreamParser] Finished parsing. 1 header and 0 bad line(s) were skipped.\n",
      "[Fri Nov 04 11:07:45 WET 2016 SampleStreamConnection] Loaded sample A4-i125 with 62599 clonotypes and 620475 cells. Memory usage: 0 of 10 GB\n",
      "[Fri Nov 04 11:07:45 WET 2016 SegmentUsage] Processing sample A4-i125\n",
      "[Fri Nov 04 11:07:46 WET 2016 PlotFancyVJUsage] Writing output\n",
      "[Fri Nov 04 11:07:46 WET 2016 PlotFancyVJUsage] Plotting data (be patient, complex graphics)\n",
      "[RUtil] Executing Rscript vj_pairing_plot.r out/A4-i125.fancyvj.wt.txt out/A4-i125.fancyvj.wt.pdf\n",
      "null device \n",
      "          1 \n",
      "[Fri Nov 04 11:07:52 WET 2016 PlotFancyVJUsage] Finished\n"
     ]
    }
   ],
   "source": [
    "%%bash\n",
    "VDJTOOLS=\"java -Xmx12G -jar ./vdjtools.jar\"\n",
    "$VDJTOOLS PlotFancyVJUsage ./aging/A4-i125.txt.gz out/A4-i125"
   ]
  },
  {
   "cell_type": "code",
   "execution_count": 8,
   "metadata": {
    "collapsed": false,
    "scrolled": true
   },
   "outputs": [
    {
     "data": {
      "text/html": [
       "<iframe src=out/A4-i125.fancyvj.wt.pdf width=600 height=600></iframe>"
      ],
      "text/latex": [
       "\\includegraphics[width=1.0\\textwidth]{out/A4-i125.fancyvj.wt.pdf}"
      ],
      "text/plain": [
       "<__main__.PDF at 0x7fdb05a44f60>"
      ]
     },
     "execution_count": 8,
     "metadata": {},
     "output_type": "execute_result"
    }
   ],
   "source": [
    "PDF(\"out/A4-i125.fancyvj.wt.pdf\",size=(600,600))"
   ]
  },
  {
   "cell_type": "code",
   "execution_count": 9,
   "metadata": {
    "collapsed": false
   },
   "outputs": [
    {
     "name": "stdout",
     "output_type": "stream",
     "text": [
      "Executing com.antigenomics.vdjtools.basic.CalcSegmentUsage -help\n",
      "usage: CalcSegmentUsage [options] [sample1 sample2 sample3 ... if -m is\n",
      "                        not specified] output_prefix\n",
      " -f,--factor <string>       Metadata entry used to color samples in the\n",
      "                            heatmap\n",
      " -h                         display help message\n",
      " -l,--label <string>        Metadata entry used to annotate the heatmap\n",
      " -m,--metadata <filename>   Metadata file. First and second columns should\n",
      "                            contain file name and sample id. Header is\n",
      "                            mandatory and will be used to assign column\n",
      "                            names for metadata.\n",
      " -n,--num-factor            Numeric factor variable\n",
      " -p,--plot                  Plot V/J usage heatmaps and perform cluster\n",
      "                            analysis\n",
      "    --plot-type <pdf|png>   Plot output format [default=pdf]\n",
      " -u,--unweighted            Will count each clonotype only once, apart\n",
      "                            from conventional frequency-weighted\n",
      "                            histogram.\n"
     ]
    }
   ],
   "source": [
    "%%bash\n",
    "VDJTOOLS=\"java -Xmx12G -jar ./vdjtools.jar\"\n",
    "$VDJTOOLS CalcSegmentUsage -help"
   ]
  },
  {
   "cell_type": "code",
   "execution_count": 10,
   "metadata": {
    "collapsed": false
   },
   "outputs": [
    {
     "name": "stdout",
     "output_type": "stream",
     "text": [
      "Executing com.antigenomics.vdjtools.basic.CalcSegmentUsage -m ./metadata.txt -p -f age -n out/segmentusage\n",
      "[Fri Nov 04 11:07:53 WET 2016 CalcSegmentUsage] Reading samples\n",
      "[Fri Nov 04 11:07:53 WET 2016 CalcSegmentUsage] 41 samples loaded\n",
      "[Fri Nov 04 11:07:53 WET 2016 SampleStreamConnection] Loading sample A2-i140\n",
      "[Fri Nov 04 11:07:59 WET 2016 ClonotypeStreamParser] Finished parsing. 1 header and 0 bad line(s) were skipped.\n",
      "[Fri Nov 04 11:07:59 WET 2016 SampleStreamConnection] Loaded sample A2-i140 with 401679 clonotypes and 825837 cells. Memory usage: 1 of 10 GB\n",
      "[Fri Nov 04 11:07:59 WET 2016 SegmentUsage] Processing sample A2-i140\n",
      "[Fri Nov 04 11:08:00 WET 2016 SampleStreamConnection] Loading sample A2-i141\n",
      "[Fri Nov 04 11:08:08 WET 2016 ClonotypeStreamParser] Finished parsing. 1 header and 0 bad line(s) were skipped.\n",
      "[Fri Nov 04 11:08:08 WET 2016 SampleStreamConnection] Loaded sample A2-i141 with 525355 clonotypes and 1191145 cells. Memory usage: 2 of 11 GB\n",
      "[Fri Nov 04 11:08:08 WET 2016 SegmentUsage] Processing sample A2-i141\n",
      "[Fri Nov 04 11:08:08 WET 2016 SampleStreamConnection] Loading sample A4-i189\n",
      "[Fri Nov 04 11:08:16 WET 2016 ClonotypeStreamParser] Finished parsing. 1 header and 0 bad line(s) were skipped.\n",
      "[Fri Nov 04 11:08:16 WET 2016 SampleStreamConnection] Loaded sample A4-i189 with 570480 clonotypes and 1260200 cells. Memory usage: 3 of 12 GB\n",
      "[Fri Nov 04 11:08:16 WET 2016 SegmentUsage] Processing sample A4-i189\n",
      "[Fri Nov 04 11:08:17 WET 2016 SampleStreamConnection] Loading sample A4-i190\n",
      "[Fri Nov 04 11:08:24 WET 2016 ClonotypeStreamParser] Finished parsing. 1 header and 0 bad line(s) were skipped.\n",
      "[Fri Nov 04 11:08:24 WET 2016 SampleStreamConnection] Loaded sample A4-i190 with 467269 clonotypes and 1031527 cells. Memory usage: 3 of 11 GB\n",
      "[Fri Nov 04 11:08:24 WET 2016 SegmentUsage] Processing sample A4-i190\n",
      "[Fri Nov 04 11:08:25 WET 2016 SampleStreamConnection] Loading sample A4-i188\n",
      "[Fri Nov 04 11:08:27 WET 2016 ClonotypeStreamParser] Finished parsing. 1 header and 0 bad line(s) were skipped.\n",
      "[Fri Nov 04 11:08:27 WET 2016 SampleStreamConnection] Loaded sample A4-i188 with 145705 clonotypes and 587242 cells. Memory usage: 4 of 13 GB\n",
      "[Fri Nov 04 11:08:27 WET 2016 SegmentUsage] Processing sample A4-i188\n",
      "[Fri Nov 04 11:08:27 WET 2016 SampleStreamConnection] Loading sample A2-i129\n",
      "[Fri Nov 04 11:08:35 WET 2016 ClonotypeStreamParser] Finished parsing. 1 header and 0 bad line(s) were skipped.\n",
      "[Fri Nov 04 11:08:35 WET 2016 SampleStreamConnection] Loaded sample A2-i129 with 540240 clonotypes and 733696 cells. Memory usage: 4 of 12 GB\n",
      "[Fri Nov 04 11:08:35 WET 2016 SegmentUsage] Processing sample A2-i129\n",
      "[Fri Nov 04 11:08:35 WET 2016 SampleStreamConnection] Loading sample A4-i186\n",
      "[Fri Nov 04 11:08:37 WET 2016 ClonotypeStreamParser] Finished parsing. 1 header and 0 bad line(s) were skipped.\n",
      "[Fri Nov 04 11:08:37 WET 2016 SampleStreamConnection] Loaded sample A4-i186 with 164394 clonotypes and 419059 cells. Memory usage: 4 of 10 GB\n",
      "[Fri Nov 04 11:08:37 WET 2016 SegmentUsage] Processing sample A4-i186\n",
      "[Fri Nov 04 11:08:38 WET 2016 SampleStreamConnection] Loading sample A4-i195\n",
      "[Fri Nov 04 11:08:42 WET 2016 ClonotypeStreamParser] Finished parsing. 1 header and 0 bad line(s) were skipped.\n",
      "[Fri Nov 04 11:08:42 WET 2016 SampleStreamConnection] Loaded sample A4-i195 with 337012 clonotypes and 475026 cells. Memory usage: 4 of 11 GB\n",
      "[Fri Nov 04 11:08:42 WET 2016 SegmentUsage] Processing sample A4-i195\n",
      "[Fri Nov 04 11:08:43 WET 2016 SampleStreamConnection] Loading sample A3-i107\n",
      "[Fri Nov 04 11:08:53 WET 2016 ClonotypeStreamParser] Finished parsing. 1 header and 0 bad line(s) were skipped.\n",
      "[Fri Nov 04 11:08:53 WET 2016 SampleStreamConnection] Loaded sample A3-i107 with 734720 clonotypes and 1684396 cells. Memory usage: 4 of 12 GB\n",
      "[Fri Nov 04 11:08:53 WET 2016 SegmentUsage] Processing sample A3-i107\n",
      "[Fri Nov 04 11:08:54 WET 2016 SampleStreamConnection] Loading sample A4-i122\n",
      "[Fri Nov 04 11:08:56 WET 2016 ClonotypeStreamParser] Finished parsing. 1 header and 0 bad line(s) were skipped.\n",
      "[Fri Nov 04 11:08:56 WET 2016 SampleStreamConnection] Loaded sample A4-i122 with 140644 clonotypes and 473478 cells. Memory usage: 4 of 11 GB\n",
      "[Fri Nov 04 11:08:56 WET 2016 SegmentUsage] Processing sample A4-i122\n",
      "[Fri Nov 04 11:08:56 WET 2016 SampleStreamConnection] Loading sample A4-i194\n",
      "[Fri Nov 04 11:08:58 WET 2016 ClonotypeStreamParser] Finished parsing. 1 header and 0 bad line(s) were skipped.\n",
      "[Fri Nov 04 11:08:58 WET 2016 SampleStreamConnection] Loaded sample A4-i194 with 125307 clonotypes and 183043 cells. Memory usage: 4 of 13 GB\n",
      "[Fri Nov 04 11:08:58 WET 2016 SegmentUsage] Processing sample A4-i194\n",
      "[Fri Nov 04 11:08:58 WET 2016 SampleStreamConnection] Loading sample A3-i106\n",
      "[Fri Nov 04 11:09:12 WET 2016 ClonotypeStreamParser] Finished parsing. 1 header and 0 bad line(s) were skipped.\n",
      "[Fri Nov 04 11:09:12 WET 2016 SampleStreamConnection] Loaded sample A3-i106 with 1003831 clonotypes and 2135776 cells. Memory usage: 4 of 12 GB\n",
      "[Fri Nov 04 11:09:12 WET 2016 SegmentUsage] Processing sample A3-i106\n",
      "[Fri Nov 04 11:09:13 WET 2016 SampleStreamConnection] Loading sample A4-i191\n",
      "[Fri Nov 04 11:09:19 WET 2016 ClonotypeStreamParser] Finished parsing. 1 header and 0 bad line(s) were skipped.\n",
      "[Fri Nov 04 11:09:19 WET 2016 SampleStreamConnection] Loaded sample A4-i191 with 384882 clonotypes and 718357 cells. Memory usage: 4 of 11 GB\n",
      "[Fri Nov 04 11:09:19 WET 2016 SegmentUsage] Processing sample A4-i191\n",
      "[Fri Nov 04 11:09:19 WET 2016 SampleStreamConnection] Loading sample A4-i124\n",
      "[Fri Nov 04 11:09:20 WET 2016 ClonotypeStreamParser] Finished parsing. 1 header and 0 bad line(s) were skipped.\n",
      "[Fri Nov 04 11:09:20 WET 2016 SampleStreamConnection] Loaded sample A4-i124 with 96990 clonotypes and 494506 cells. Memory usage: 4 of 11 GB\n",
      "[Fri Nov 04 11:09:20 WET 2016 SegmentUsage] Processing sample A4-i124\n",
      "[Fri Nov 04 11:09:20 WET 2016 SampleStreamConnection] Loading sample A4-i107\n",
      "[Fri Nov 04 11:09:22 WET 2016 ClonotypeStreamParser] Finished parsing. 1 header and 0 bad line(s) were skipped.\n",
      "[Fri Nov 04 11:09:22 WET 2016 SampleStreamConnection] Loaded sample A4-i107 with 89308 clonotypes and 199449 cells. Memory usage: 4 of 13 GB\n",
      "[Fri Nov 04 11:09:22 WET 2016 SegmentUsage] Processing sample A4-i107\n",
      "[Fri Nov 04 11:09:22 WET 2016 SampleStreamConnection] Loading sample A4-i192\n",
      "[Fri Nov 04 11:09:32 WET 2016 ClonotypeStreamParser] Finished parsing. 1 header and 0 bad line(s) were skipped.\n",
      "[Fri Nov 04 11:09:32 WET 2016 SampleStreamConnection] Loaded sample A4-i192 with 721262 clonotypes and 1252793 cells. Memory usage: 4 of 11 GB\n",
      "[Fri Nov 04 11:09:32 WET 2016 SegmentUsage] Processing sample A4-i192\n",
      "[Fri Nov 04 11:09:33 WET 2016 SampleStreamConnection] Loading sample A4-i125\n",
      "[Fri Nov 04 11:09:34 WET 2016 ClonotypeStreamParser] Finished parsing. 1 header and 0 bad line(s) were skipped.\n",
      "[Fri Nov 04 11:09:34 WET 2016 SampleStreamConnection] Loaded sample A4-i125 with 62599 clonotypes and 620475 cells. Memory usage: 4 of 13 GB\n",
      "[Fri Nov 04 11:09:34 WET 2016 SegmentUsage] Processing sample A4-i125\n",
      "[Fri Nov 04 11:09:34 WET 2016 SampleStreamConnection] Loading sample A4-i106\n",
      "[Fri Nov 04 11:09:35 WET 2016 ClonotypeStreamParser] Finished parsing. 1 header and 0 bad line(s) were skipped.\n",
      "[Fri Nov 04 11:09:35 WET 2016 SampleStreamConnection] Loaded sample A4-i106 with 101460 clonotypes and 307065 cells. Memory usage: 4 of 12 GB\n",
      "[Fri Nov 04 11:09:35 WET 2016 SegmentUsage] Processing sample A4-i106\n",
      "[Fri Nov 04 11:09:35 WET 2016 SampleStreamConnection] Loading sample A4-i127\n",
      "[Fri Nov 04 11:09:40 WET 2016 ClonotypeStreamParser] Finished parsing. 1 header and 0 bad line(s) were skipped.\n",
      "[Fri Nov 04 11:09:40 WET 2016 SampleStreamConnection] Loaded sample A4-i127 with 328879 clonotypes and 1407669 cells. Memory usage: 4 of 13 GB\n",
      "[Fri Nov 04 11:09:40 WET 2016 SegmentUsage] Processing sample A4-i127\n",
      "[Fri Nov 04 11:09:40 WET 2016 SampleStreamConnection] Loading sample A4-i128\n",
      "[Fri Nov 04 11:09:44 WET 2016 ClonotypeStreamParser] Finished parsing. 1 header and 0 bad line(s) were skipped.\n",
      "[Fri Nov 04 11:09:44 WET 2016 SampleStreamConnection] Loaded sample A4-i128 with 325503 clonotypes and 1263333 cells. Memory usage: 4 of 10 GB\n",
      "[Fri Nov 04 11:09:44 WET 2016 SegmentUsage] Processing sample A4-i128\n",
      "[Fri Nov 04 11:09:45 WET 2016 SampleStreamConnection] Loading sample A4-i102\n",
      "[Fri Nov 04 11:09:46 WET 2016 ClonotypeStreamParser] Finished parsing. 1 header and 0 bad line(s) were skipped.\n",
      "[Fri Nov 04 11:09:46 WET 2016 SampleStreamConnection] Loaded sample A4-i102 with 72079 clonotypes and 209354 cells. Memory usage: 3 of 12 GB\n",
      "[Fri Nov 04 11:09:46 WET 2016 SegmentUsage] Processing sample A4-i102\n",
      "[Fri Nov 04 11:09:46 WET 2016 SampleStreamConnection] Loading sample A3-i101\n",
      "[Fri Nov 04 11:10:02 WET 2016 ClonotypeStreamParser] Finished parsing. 1 header and 0 bad line(s) were skipped.\n",
      "[Fri Nov 04 11:10:02 WET 2016 SampleStreamConnection] Loaded sample A3-i101 with 1150027 clonotypes and 2006079 cells. Memory usage: 4 of 13 GB\n",
      "[Fri Nov 04 11:10:02 WET 2016 SegmentUsage] Processing sample A3-i101\n",
      "[Fri Nov 04 11:10:03 WET 2016 SampleStreamConnection] Loading sample A4-i101\n",
      "[Fri Nov 04 11:10:08 WET 2016 ClonotypeStreamParser] Finished parsing. 1 header and 0 bad line(s) were skipped.\n",
      "[Fri Nov 04 11:10:08 WET 2016 SampleStreamConnection] Loaded sample A4-i101 with 318566 clonotypes and 939826 cells. Memory usage: 4 of 13 GB\n",
      "[Fri Nov 04 11:10:08 WET 2016 SegmentUsage] Processing sample A4-i101\n",
      "[Fri Nov 04 11:10:08 WET 2016 SampleStreamConnection] Loading sample A3-i102\n",
      "[Fri Nov 04 11:10:16 WET 2016 ClonotypeStreamParser] Finished parsing. 1 header and 0 bad line(s) were skipped.\n",
      "[Fri Nov 04 11:10:16 WET 2016 SampleStreamConnection] Loaded sample A3-i102 with 603590 clonotypes and 1784262 cells. Memory usage: 4 of 11 GB\n",
      "[Fri Nov 04 11:10:16 WET 2016 SegmentUsage] Processing sample A3-i102\n",
      "[Fri Nov 04 11:10:17 WET 2016 SampleStreamConnection] Loading sample A2-i139\n",
      "[Fri Nov 04 11:10:24 WET 2016 ClonotypeStreamParser] Finished parsing. 1 header and 0 bad line(s) were skipped.\n",
      "[Fri Nov 04 11:10:24 WET 2016 SampleStreamConnection] Loaded sample A2-i139 with 492793 clonotypes and 1007414 cells. Memory usage: 4 of 12 GB\n",
      "[Fri Nov 04 11:10:24 WET 2016 SegmentUsage] Processing sample A2-i139\n",
      "[Fri Nov 04 11:10:24 WET 2016 SampleStreamConnection] Loading sample A3-i145\n",
      "[Fri Nov 04 11:10:32 WET 2016 ClonotypeStreamParser] Finished parsing. 1 header and 0 bad line(s) were skipped.\n",
      "[Fri Nov 04 11:10:32 WET 2016 SampleStreamConnection] Loaded sample A3-i145 with 582258 clonotypes and 3158800 cells. Memory usage: 4 of 10 GB\n",
      "[Fri Nov 04 11:10:32 WET 2016 SegmentUsage] Processing sample A3-i145\n",
      "[Fri Nov 04 11:10:33 WET 2016 SampleStreamConnection] Loading sample A2-i138\n",
      "[Fri Nov 04 11:10:36 WET 2016 ClonotypeStreamParser] Finished parsing. 1 header and 0 bad line(s) were skipped.\n",
      "[Fri Nov 04 11:10:36 WET 2016 SampleStreamConnection] Loaded sample A2-i138 with 205999 clonotypes and 831722 cells. Memory usage: 4 of 11 GB\n",
      "[Fri Nov 04 11:10:36 WET 2016 SegmentUsage] Processing sample A2-i138\n",
      "[Fri Nov 04 11:10:36 WET 2016 SampleStreamConnection] Loading sample A2-i131\n",
      "[Fri Nov 04 11:10:42 WET 2016 ClonotypeStreamParser] Finished parsing. 1 header and 0 bad line(s) were skipped.\n",
      "[Fri Nov 04 11:10:42 WET 2016 SampleStreamConnection] Loaded sample A2-i131 with 381345 clonotypes and 606357 cells. Memory usage: 3 of 12 GB\n",
      "[Fri Nov 04 11:10:42 WET 2016 SegmentUsage] Processing sample A2-i131\n",
      "[Fri Nov 04 11:10:42 WET 2016 SampleStreamConnection] Loading sample A2-i132\n",
      "[Fri Nov 04 11:10:52 WET 2016 ClonotypeStreamParser] Finished parsing. 1 header and 0 bad line(s) were skipped.\n",
      "[Fri Nov 04 11:10:52 WET 2016 SampleStreamConnection] Loaded sample A2-i132 with 763165 clonotypes and 977264 cells. Memory usage: 3 of 11 GB\n",
      "[Fri Nov 04 11:10:52 WET 2016 SegmentUsage] Processing sample A2-i132\n",
      "[Fri Nov 04 11:10:53 WET 2016 SampleStreamConnection] Loading sample A2-i136\n",
      "[Fri Nov 04 11:10:59 WET 2016 ClonotypeStreamParser] Finished parsing. 1 header and 0 bad line(s) were skipped.\n",
      "[Fri Nov 04 11:10:59 WET 2016 SampleStreamConnection] Loaded sample A2-i136 with 385691 clonotypes and 714268 cells. Memory usage: 4 of 11 GB\n",
      "[Fri Nov 04 11:10:59 WET 2016 SegmentUsage] Processing sample A2-i136\n",
      "[Fri Nov 04 11:10:59 WET 2016 SampleStreamConnection] Loading sample A2-i133\n",
      "[Fri Nov 04 11:11:07 WET 2016 ClonotypeStreamParser] Finished parsing. 1 header and 0 bad line(s) were skipped.\n",
      "[Fri Nov 04 11:11:07 WET 2016 SampleStreamConnection] Loaded sample A2-i133 with 564360 clonotypes and 768339 cells. Memory usage: 4 of 12 GB\n",
      "[Fri Nov 04 11:11:07 WET 2016 SegmentUsage] Processing sample A2-i133\n",
      "[Fri Nov 04 11:11:08 WET 2016 SampleStreamConnection] Loading sample A2-i134\n",
      "[Fri Nov 04 11:11:15 WET 2016 ClonotypeStreamParser] Finished parsing. 1 header and 0 bad line(s) were skipped.\n",
      "[Fri Nov 04 11:11:15 WET 2016 SampleStreamConnection] Loaded sample A2-i134 with 553121 clonotypes and 754191 cells. Memory usage: 4 of 10 GB\n",
      "[Fri Nov 04 11:11:15 WET 2016 SegmentUsage] Processing sample A2-i134\n",
      "[Fri Nov 04 11:11:16 WET 2016 SampleStreamConnection] Loading sample A4-i183\n",
      "[Fri Nov 04 11:11:17 WET 2016 ClonotypeStreamParser] Finished parsing. 1 header and 0 bad line(s) were skipped.\n",
      "[Fri Nov 04 11:11:17 WET 2016 SampleStreamConnection] Loaded sample A4-i183 with 115819 clonotypes and 434063 cells. Memory usage: 4 of 12 GB\n",
      "[Fri Nov 04 11:11:17 WET 2016 SegmentUsage] Processing sample A4-i183\n",
      "[Fri Nov 04 11:11:18 WET 2016 SampleStreamConnection] Loading sample A4-i184\n",
      "[Fri Nov 04 11:11:21 WET 2016 ClonotypeStreamParser] Finished parsing. 1 header and 0 bad line(s) were skipped.\n",
      "[Fri Nov 04 11:11:21 WET 2016 SampleStreamConnection] Loaded sample A4-i184 with 236816 clonotypes and 797496 cells. Memory usage: 4 of 10 GB\n",
      "[Fri Nov 04 11:11:21 WET 2016 SegmentUsage] Processing sample A4-i184\n",
      "[Fri Nov 04 11:11:21 WET 2016 SampleStreamConnection] Loading sample A4-i185\n",
      "[Fri Nov 04 11:11:25 WET 2016 ClonotypeStreamParser] Finished parsing. 1 header and 0 bad line(s) were skipped.\n",
      "[Fri Nov 04 11:11:25 WET 2016 SampleStreamConnection] Loaded sample A4-i185 with 248897 clonotypes and 613230 cells. Memory usage: 4 of 11 GB\n",
      "[Fri Nov 04 11:11:25 WET 2016 SegmentUsage] Processing sample A4-i185\n",
      "[Fri Nov 04 11:11:25 WET 2016 SampleStreamConnection] Loading sample A4-i110\n",
      "[Fri Nov 04 11:11:30 WET 2016 ClonotypeStreamParser] Finished parsing. 1 header and 0 bad line(s) were skipped.\n",
      "[Fri Nov 04 11:11:30 WET 2016 SampleStreamConnection] Loaded sample A4-i110 with 356952 clonotypes and 496080 cells. Memory usage: 4 of 12 GB\n",
      "[Fri Nov 04 11:11:30 WET 2016 SegmentUsage] Processing sample A4-i110\n",
      "[Fri Nov 04 11:11:30 WET 2016 SampleStreamConnection] Loading sample A4-i132\n",
      "[Fri Nov 04 11:11:34 WET 2016 ClonotypeStreamParser] Finished parsing. 1 header and 0 bad line(s) were skipped.\n",
      "[Fri Nov 04 11:11:34 WET 2016 SampleStreamConnection] Loaded sample A4-i132 with 236856 clonotypes and 1108264 cells. Memory usage: 4 of 13 GB\n",
      "[Fri Nov 04 11:11:34 WET 2016 SegmentUsage] Processing sample A4-i132\n",
      "[Fri Nov 04 11:11:34 WET 2016 SampleStreamConnection] Loading sample A3-i110\n",
      "[Fri Nov 04 11:11:45 WET 2016 ClonotypeStreamParser] Finished parsing. 1 header and 0 bad line(s) were skipped.\n",
      "[Fri Nov 04 11:11:45 WET 2016 SampleStreamConnection] Loaded sample A3-i110 with 786904 clonotypes and 1946312 cells. Memory usage: 4 of 12 GB\n",
      "[Fri Nov 04 11:11:45 WET 2016 SegmentUsage] Processing sample A3-i110\n",
      "[Fri Nov 04 11:11:45 WET 2016 SampleStreamConnection] Loading sample A3-i150\n",
      "[Fri Nov 04 11:11:51 WET 2016 ClonotypeStreamParser] Finished parsing. 1 header and 0 bad line(s) were skipped.\n",
      "[Fri Nov 04 11:11:51 WET 2016 SampleStreamConnection] Loaded sample A3-i150 with 402376 clonotypes and 2343918 cells. Memory usage: 4 of 12 GB\n",
      "[Fri Nov 04 11:11:51 WET 2016 SegmentUsage] Processing sample A3-i150\n",
      "[Fri Nov 04 11:11:52 WET 2016 SampleStreamConnection] Loading sample A3-i151\n",
      "[Fri Nov 04 11:11:57 WET 2016 ClonotypeStreamParser] Finished parsing. 1 header and 0 bad line(s) were skipped.\n",
      "[Fri Nov 04 11:11:57 WET 2016 SampleStreamConnection] Loaded sample A3-i151 with 401771 clonotypes and 2649250 cells. Memory usage: 3 of 12 GB\n",
      "[Fri Nov 04 11:11:57 WET 2016 SegmentUsage] Processing sample A3-i151\n",
      "[Fri Nov 04 11:11:58 WET 2016 SampleStreamConnection] Loading sample A4-i118\n",
      "[Fri Nov 04 11:12:01 WET 2016 ClonotypeStreamParser] Finished parsing. 1 header and 0 bad line(s) were skipped.\n",
      "[Fri Nov 04 11:12:01 WET 2016 SampleStreamConnection] Loaded sample A4-i118 with 252168 clonotypes and 497009 cells. Memory usage: 4 of 13 GB\n",
      "[Fri Nov 04 11:12:01 WET 2016 SegmentUsage] Processing sample A4-i118\n",
      "[RUtil] Executing Rscript vexpr_plot.r out/segmentusage.segments.wt.V.txt 48 0 3 TRUE out/segmentusage.segments.wt.V.pdf\n",
      "null device \n",
      "          1 \n",
      "[RUtil] Executing Rscript vexpr_plot.r out/segmentusage.segments.wt.J.txt 13 0 3 TRUE out/segmentusage.segments.wt.J.pdf\n",
      "null device \n",
      "          1 \n",
      "[Fri Nov 04 11:12:02 WET 2016 CalcSegmentUsage] Finished\n"
     ]
    }
   ],
   "source": [
    "%%bash\n",
    "VDJTOOLS=\"java -Xmx12G -jar ./vdjtools.jar\"\n",
    "$VDJTOOLS CalcSegmentUsage -m ./metadata.txt -p -f age -n out/segmentusage"
   ]
  },
  {
   "cell_type": "code",
   "execution_count": 11,
   "metadata": {
    "collapsed": false,
    "scrolled": true
   },
   "outputs": [
    {
     "data": {
      "text/html": [
       "<iframe src=out/segmentusage.segments.wt.V.pdf width=1000 height=1000></iframe>"
      ],
      "text/latex": [
       "\\includegraphics[width=1.0\\textwidth]{out/segmentusage.segments.wt.V.pdf}"
      ],
      "text/plain": [
       "<__main__.PDF at 0x7fdacf610198>"
      ]
     },
     "execution_count": 11,
     "metadata": {},
     "output_type": "execute_result"
    }
   ],
   "source": [
    "PDF(\"out/segmentusage.segments.wt.V.pdf\",size=(1000,1000))"
   ]
  },
  {
   "cell_type": "code",
   "execution_count": 12,
   "metadata": {
    "collapsed": false
   },
   "outputs": [
    {
     "name": "stdout",
     "output_type": "stream",
     "text": [
      "Executing com.antigenomics.vdjtools.basic.CalcBasicStats -m ./metadata.txt out/basic\n",
      "[Fri Nov 04 11:41:13 WET 2016 CalcBasicStats] Reading sample(s)\n",
      "[Fri Nov 04 11:41:13 WET 2016 CalcBasicStats] 41 sample(s) prepared\n",
      "[Fri Nov 04 11:41:13 WET 2016 SampleStreamConnection] Loading sample A2-i140\n",
      "[Fri Nov 04 11:41:20 WET 2016 ClonotypeStreamParser] Finished parsing. 1 header and 0 bad line(s) were skipped.\n",
      "[Fri Nov 04 11:41:20 WET 2016 SampleStreamConnection] Loaded sample A2-i140 with 401679 clonotypes and 825837 cells. Memory usage: 1 of 10 GB\n",
      "[Fri Nov 04 11:41:20 WET 2016 CalcBasicStats] 1 sample(s) processed\n",
      "[Fri Nov 04 11:41:20 WET 2016 SampleStreamConnection] Loading sample A2-i141\n",
      "[Fri Nov 04 11:41:28 WET 2016 ClonotypeStreamParser] Finished parsing. 1 header and 0 bad line(s) were skipped.\n",
      "[Fri Nov 04 11:41:28 WET 2016 SampleStreamConnection] Loaded sample A2-i141 with 525355 clonotypes and 1191145 cells. Memory usage: 2 of 11 GB\n",
      "[Fri Nov 04 11:41:29 WET 2016 CalcBasicStats] 2 sample(s) processed\n",
      "[Fri Nov 04 11:41:29 WET 2016 SampleStreamConnection] Loading sample A4-i189\n",
      "[Fri Nov 04 11:41:36 WET 2016 ClonotypeStreamParser] Finished parsing. 1 header and 0 bad line(s) were skipped.\n",
      "[Fri Nov 04 11:41:36 WET 2016 SampleStreamConnection] Loaded sample A4-i189 with 570480 clonotypes and 1260200 cells. Memory usage: 3 of 12 GB\n",
      "[Fri Nov 04 11:41:37 WET 2016 CalcBasicStats] 3 sample(s) processed\n",
      "[Fri Nov 04 11:41:37 WET 2016 SampleStreamConnection] Loading sample A4-i190\n",
      "[Fri Nov 04 11:41:44 WET 2016 ClonotypeStreamParser] Finished parsing. 1 header and 0 bad line(s) were skipped.\n",
      "[Fri Nov 04 11:41:44 WET 2016 SampleStreamConnection] Loaded sample A4-i190 with 467269 clonotypes and 1031527 cells. Memory usage: 3 of 11 GB\n",
      "[Fri Nov 04 11:41:44 WET 2016 CalcBasicStats] 4 sample(s) processed\n",
      "[Fri Nov 04 11:41:44 WET 2016 SampleStreamConnection] Loading sample A4-i188\n",
      "[Fri Nov 04 11:41:46 WET 2016 ClonotypeStreamParser] Finished parsing. 1 header and 0 bad line(s) were skipped.\n",
      "[Fri Nov 04 11:41:46 WET 2016 SampleStreamConnection] Loaded sample A4-i188 with 145705 clonotypes and 587242 cells. Memory usage: 4 of 13 GB\n",
      "[Fri Nov 04 11:41:46 WET 2016 CalcBasicStats] 5 sample(s) processed\n",
      "[Fri Nov 04 11:41:46 WET 2016 SampleStreamConnection] Loading sample A2-i129\n",
      "[Fri Nov 04 11:41:54 WET 2016 ClonotypeStreamParser] Finished parsing. 1 header and 0 bad line(s) were skipped.\n",
      "[Fri Nov 04 11:41:54 WET 2016 SampleStreamConnection] Loaded sample A2-i129 with 540240 clonotypes and 733696 cells. Memory usage: 4 of 12 GB\n",
      "[Fri Nov 04 11:41:54 WET 2016 CalcBasicStats] 6 sample(s) processed\n",
      "[Fri Nov 04 11:41:54 WET 2016 SampleStreamConnection] Loading sample A4-i186\n",
      "[Fri Nov 04 11:41:57 WET 2016 ClonotypeStreamParser] Finished parsing. 1 header and 0 bad line(s) were skipped.\n",
      "[Fri Nov 04 11:41:57 WET 2016 SampleStreamConnection] Loaded sample A4-i186 with 164394 clonotypes and 419059 cells. Memory usage: 4 of 11 GB\n",
      "[Fri Nov 04 11:41:57 WET 2016 CalcBasicStats] 7 sample(s) processed\n",
      "[Fri Nov 04 11:41:57 WET 2016 SampleStreamConnection] Loading sample A4-i195\n",
      "[Fri Nov 04 11:42:01 WET 2016 ClonotypeStreamParser] Finished parsing. 1 header and 0 bad line(s) were skipped.\n",
      "[Fri Nov 04 11:42:01 WET 2016 SampleStreamConnection] Loaded sample A4-i195 with 337012 clonotypes and 475026 cells. Memory usage: 4 of 11 GB\n",
      "[Fri Nov 04 11:42:02 WET 2016 CalcBasicStats] 8 sample(s) processed\n",
      "[Fri Nov 04 11:42:02 WET 2016 SampleStreamConnection] Loading sample A3-i107\n",
      "[Fri Nov 04 11:42:12 WET 2016 ClonotypeStreamParser] Finished parsing. 1 header and 0 bad line(s) were skipped.\n",
      "[Fri Nov 04 11:42:12 WET 2016 SampleStreamConnection] Loaded sample A3-i107 with 734720 clonotypes and 1684396 cells. Memory usage: 4 of 13 GB\n",
      "[Fri Nov 04 11:42:13 WET 2016 CalcBasicStats] 9 sample(s) processed\n",
      "[Fri Nov 04 11:42:13 WET 2016 SampleStreamConnection] Loading sample A4-i122\n",
      "[Fri Nov 04 11:42:15 WET 2016 ClonotypeStreamParser] Finished parsing. 1 header and 0 bad line(s) were skipped.\n",
      "[Fri Nov 04 11:42:15 WET 2016 SampleStreamConnection] Loaded sample A4-i122 with 140644 clonotypes and 473478 cells. Memory usage: 4 of 11 GB\n",
      "[Fri Nov 04 11:42:15 WET 2016 CalcBasicStats] 10 sample(s) processed\n",
      "[Fri Nov 04 11:42:15 WET 2016 SampleStreamConnection] Loading sample A4-i194\n",
      "[Fri Nov 04 11:42:17 WET 2016 ClonotypeStreamParser] Finished parsing. 1 header and 0 bad line(s) were skipped.\n",
      "[Fri Nov 04 11:42:17 WET 2016 SampleStreamConnection] Loaded sample A4-i194 with 125307 clonotypes and 183043 cells. Memory usage: 4 of 10 GB\n",
      "[Fri Nov 04 11:42:17 WET 2016 CalcBasicStats] 11 sample(s) processed\n",
      "[Fri Nov 04 11:42:17 WET 2016 SampleStreamConnection] Loading sample A3-i106\n",
      "[Fri Nov 04 11:42:30 WET 2016 ClonotypeStreamParser] Finished parsing. 1 header and 0 bad line(s) were skipped.\n",
      "[Fri Nov 04 11:42:30 WET 2016 SampleStreamConnection] Loaded sample A3-i106 with 1003831 clonotypes and 2135776 cells. Memory usage: 4 of 12 GB\n",
      "[Fri Nov 04 11:42:31 WET 2016 CalcBasicStats] 12 sample(s) processed\n",
      "[Fri Nov 04 11:42:31 WET 2016 SampleStreamConnection] Loading sample A4-i191\n",
      "[Fri Nov 04 11:42:37 WET 2016 ClonotypeStreamParser] Finished parsing. 1 header and 0 bad line(s) were skipped.\n",
      "[Fri Nov 04 11:42:37 WET 2016 SampleStreamConnection] Loaded sample A4-i191 with 384882 clonotypes and 718357 cells. Memory usage: 4 of 12 GB\n",
      "[Fri Nov 04 11:42:37 WET 2016 CalcBasicStats] 13 sample(s) processed\n",
      "[Fri Nov 04 11:42:37 WET 2016 SampleStreamConnection] Loading sample A4-i124\n",
      "[Fri Nov 04 11:42:38 WET 2016 ClonotypeStreamParser] Finished parsing. 1 header and 0 bad line(s) were skipped.\n",
      "[Fri Nov 04 11:42:38 WET 2016 SampleStreamConnection] Loaded sample A4-i124 with 96990 clonotypes and 494506 cells. Memory usage: 4 of 11 GB\n",
      "[Fri Nov 04 11:42:39 WET 2016 CalcBasicStats] 14 sample(s) processed\n",
      "[Fri Nov 04 11:42:39 WET 2016 SampleStreamConnection] Loading sample A4-i107\n",
      "[Fri Nov 04 11:42:40 WET 2016 ClonotypeStreamParser] Finished parsing. 1 header and 0 bad line(s) were skipped.\n",
      "[Fri Nov 04 11:42:40 WET 2016 SampleStreamConnection] Loaded sample A4-i107 with 89308 clonotypes and 199449 cells. Memory usage: 4 of 11 GB\n",
      "[Fri Nov 04 11:42:40 WET 2016 CalcBasicStats] 15 sample(s) processed\n",
      "[Fri Nov 04 11:42:40 WET 2016 SampleStreamConnection] Loading sample A4-i192\n",
      "[Fri Nov 04 11:42:50 WET 2016 ClonotypeStreamParser] Finished parsing. 1 header and 0 bad line(s) were skipped.\n",
      "[Fri Nov 04 11:42:50 WET 2016 SampleStreamConnection] Loaded sample A4-i192 with 721262 clonotypes and 1252793 cells. Memory usage: 4 of 12 GB\n",
      "[Fri Nov 04 11:42:51 WET 2016 CalcBasicStats] 16 sample(s) processed\n",
      "[Fri Nov 04 11:42:51 WET 2016 SampleStreamConnection] Loading sample A4-i125\n",
      "[Fri Nov 04 11:42:51 WET 2016 ClonotypeStreamParser] Finished parsing. 1 header and 0 bad line(s) were skipped.\n",
      "[Fri Nov 04 11:42:51 WET 2016 SampleStreamConnection] Loaded sample A4-i125 with 62599 clonotypes and 620475 cells. Memory usage: 4 of 11 GB\n",
      "[Fri Nov 04 11:42:52 WET 2016 CalcBasicStats] 17 sample(s) processed\n",
      "[Fri Nov 04 11:42:52 WET 2016 SampleStreamConnection] Loading sample A4-i106\n",
      "[Fri Nov 04 11:42:53 WET 2016 ClonotypeStreamParser] Finished parsing. 1 header and 0 bad line(s) were skipped.\n",
      "[Fri Nov 04 11:42:53 WET 2016 SampleStreamConnection] Loaded sample A4-i106 with 101460 clonotypes and 307065 cells. Memory usage: 4 of 10 GB\n",
      "[Fri Nov 04 11:42:53 WET 2016 CalcBasicStats] 18 sample(s) processed\n",
      "[Fri Nov 04 11:42:53 WET 2016 SampleStreamConnection] Loading sample A4-i127\n",
      "[Fri Nov 04 11:42:57 WET 2016 ClonotypeStreamParser] Finished parsing. 1 header and 0 bad line(s) were skipped.\n",
      "[Fri Nov 04 11:42:57 WET 2016 SampleStreamConnection] Loaded sample A4-i127 with 328879 clonotypes and 1407669 cells. Memory usage: 4 of 11 GB\n",
      "[Fri Nov 04 11:42:58 WET 2016 CalcBasicStats] 19 sample(s) processed\n",
      "[Fri Nov 04 11:42:58 WET 2016 SampleStreamConnection] Loading sample A4-i128\n",
      "[Fri Nov 04 11:43:02 WET 2016 ClonotypeStreamParser] Finished parsing. 1 header and 0 bad line(s) were skipped.\n",
      "[Fri Nov 04 11:43:02 WET 2016 SampleStreamConnection] Loaded sample A4-i128 with 325503 clonotypes and 1263333 cells. Memory usage: 4 of 12 GB\n",
      "[Fri Nov 04 11:43:02 WET 2016 CalcBasicStats] 20 sample(s) processed\n",
      "[Fri Nov 04 11:43:02 WET 2016 SampleStreamConnection] Loading sample A4-i102\n",
      "[Fri Nov 04 11:43:03 WET 2016 ClonotypeStreamParser] Finished parsing. 1 header and 0 bad line(s) were skipped.\n",
      "[Fri Nov 04 11:43:03 WET 2016 SampleStreamConnection] Loaded sample A4-i102 with 72079 clonotypes and 209354 cells. Memory usage: 4 of 11 GB\n",
      "[Fri Nov 04 11:43:03 WET 2016 CalcBasicStats] 21 sample(s) processed\n",
      "[Fri Nov 04 11:43:03 WET 2016 SampleStreamConnection] Loading sample A3-i101\n",
      "[Fri Nov 04 11:43:19 WET 2016 ClonotypeStreamParser] Finished parsing. 1 header and 0 bad line(s) were skipped.\n",
      "[Fri Nov 04 11:43:19 WET 2016 SampleStreamConnection] Loaded sample A3-i101 with 1150027 clonotypes and 2006079 cells. Memory usage: 4 of 12 GB\n",
      "[Fri Nov 04 11:43:20 WET 2016 CalcBasicStats] 22 sample(s) processed\n",
      "[Fri Nov 04 11:43:20 WET 2016 SampleStreamConnection] Loading sample A4-i101\n",
      "[Fri Nov 04 11:43:24 WET 2016 ClonotypeStreamParser] Finished parsing. 1 header and 0 bad line(s) were skipped.\n",
      "[Fri Nov 04 11:43:24 WET 2016 SampleStreamConnection] Loaded sample A4-i101 with 318566 clonotypes and 939826 cells. Memory usage: 4 of 12 GB\n",
      "[Fri Nov 04 11:43:25 WET 2016 CalcBasicStats] 23 sample(s) processed\n",
      "[Fri Nov 04 11:43:25 WET 2016 SampleStreamConnection] Loading sample A3-i102\n",
      "[Fri Nov 04 11:43:33 WET 2016 ClonotypeStreamParser] Finished parsing. 1 header and 0 bad line(s) were skipped.\n",
      "[Fri Nov 04 11:43:33 WET 2016 SampleStreamConnection] Loaded sample A3-i102 with 603590 clonotypes and 1784262 cells. Memory usage: 4 of 10 GB\n",
      "[Fri Nov 04 11:43:34 WET 2016 CalcBasicStats] 24 sample(s) processed\n",
      "[Fri Nov 04 11:43:34 WET 2016 SampleStreamConnection] Loading sample A2-i139\n",
      "[Fri Nov 04 11:43:41 WET 2016 ClonotypeStreamParser] Finished parsing. 1 header and 0 bad line(s) were skipped.\n",
      "[Fri Nov 04 11:43:41 WET 2016 SampleStreamConnection] Loaded sample A2-i139 with 492793 clonotypes and 1007414 cells. Memory usage: 4 of 12 GB\n",
      "[Fri Nov 04 11:43:41 WET 2016 CalcBasicStats] 25 sample(s) processed\n",
      "[Fri Nov 04 11:43:41 WET 2016 SampleStreamConnection] Loading sample A3-i145\n",
      "[Fri Nov 04 11:43:49 WET 2016 ClonotypeStreamParser] Finished parsing. 1 header and 0 bad line(s) were skipped.\n",
      "[Fri Nov 04 11:43:49 WET 2016 SampleStreamConnection] Loaded sample A3-i145 with 582258 clonotypes and 3158800 cells. Memory usage: 4 of 11 GB\n",
      "[Fri Nov 04 11:43:50 WET 2016 CalcBasicStats] 26 sample(s) processed\n",
      "[Fri Nov 04 11:43:50 WET 2016 SampleStreamConnection] Loading sample A2-i138\n",
      "[Fri Nov 04 11:43:53 WET 2016 ClonotypeStreamParser] Finished parsing. 1 header and 0 bad line(s) were skipped.\n",
      "[Fri Nov 04 11:43:53 WET 2016 SampleStreamConnection] Loaded sample A2-i138 with 205999 clonotypes and 831722 cells. Memory usage: 4 of 12 GB\n",
      "[Fri Nov 04 11:43:53 WET 2016 CalcBasicStats] 27 sample(s) processed\n",
      "[Fri Nov 04 11:43:53 WET 2016 SampleStreamConnection] Loading sample A2-i131\n",
      "[Fri Nov 04 11:43:58 WET 2016 ClonotypeStreamParser] Finished parsing. 1 header and 0 bad line(s) were skipped.\n",
      "[Fri Nov 04 11:43:58 WET 2016 SampleStreamConnection] Loaded sample A2-i131 with 381345 clonotypes and 606357 cells. Memory usage: 4 of 12 GB\n",
      "[Fri Nov 04 11:43:59 WET 2016 CalcBasicStats] 28 sample(s) processed\n",
      "[Fri Nov 04 11:43:59 WET 2016 SampleStreamConnection] Loading sample A2-i132\n",
      "[Fri Nov 04 11:44:09 WET 2016 ClonotypeStreamParser] Finished parsing. 1 header and 0 bad line(s) were skipped.\n",
      "[Fri Nov 04 11:44:09 WET 2016 SampleStreamConnection] Loaded sample A2-i132 with 763165 clonotypes and 977264 cells. Memory usage: 3 of 12 GB\n",
      "[Fri Nov 04 11:44:10 WET 2016 CalcBasicStats] 29 sample(s) processed\n",
      "[Fri Nov 04 11:44:10 WET 2016 SampleStreamConnection] Loading sample A2-i136\n",
      "[Fri Nov 04 11:44:15 WET 2016 ClonotypeStreamParser] Finished parsing. 1 header and 0 bad line(s) were skipped.\n",
      "[Fri Nov 04 11:44:15 WET 2016 SampleStreamConnection] Loaded sample A2-i136 with 385691 clonotypes and 714268 cells. Memory usage: 4 of 12 GB\n",
      "[Fri Nov 04 11:44:15 WET 2016 CalcBasicStats] 30 sample(s) processed\n",
      "[Fri Nov 04 11:44:15 WET 2016 SampleStreamConnection] Loading sample A2-i133\n",
      "[Fri Nov 04 11:44:23 WET 2016 ClonotypeStreamParser] Finished parsing. 1 header and 0 bad line(s) were skipped.\n",
      "[Fri Nov 04 11:44:23 WET 2016 SampleStreamConnection] Loaded sample A2-i133 with 564360 clonotypes and 768339 cells. Memory usage: 3 of 10 GB\n",
      "[Fri Nov 04 11:44:24 WET 2016 CalcBasicStats] 31 sample(s) processed\n",
      "[Fri Nov 04 11:44:24 WET 2016 SampleStreamConnection] Loading sample A2-i134\n",
      "[Fri Nov 04 11:44:31 WET 2016 ClonotypeStreamParser] Finished parsing. 1 header and 0 bad line(s) were skipped.\n",
      "[Fri Nov 04 11:44:31 WET 2016 SampleStreamConnection] Loaded sample A2-i134 with 553121 clonotypes and 754191 cells. Memory usage: 4 of 12 GB\n",
      "[Fri Nov 04 11:44:32 WET 2016 CalcBasicStats] 32 sample(s) processed\n",
      "[Fri Nov 04 11:44:32 WET 2016 SampleStreamConnection] Loading sample A4-i183\n",
      "[Fri Nov 04 11:44:33 WET 2016 ClonotypeStreamParser] Finished parsing. 1 header and 0 bad line(s) were skipped.\n",
      "[Fri Nov 04 11:44:33 WET 2016 SampleStreamConnection] Loaded sample A4-i183 with 115819 clonotypes and 434063 cells. Memory usage: 4 of 10 GB\n",
      "[Fri Nov 04 11:44:33 WET 2016 CalcBasicStats] 33 sample(s) processed\n",
      "[Fri Nov 04 11:44:33 WET 2016 SampleStreamConnection] Loading sample A4-i184\n",
      "[Fri Nov 04 11:44:37 WET 2016 ClonotypeStreamParser] Finished parsing. 1 header and 0 bad line(s) were skipped.\n",
      "[Fri Nov 04 11:44:37 WET 2016 SampleStreamConnection] Loaded sample A4-i184 with 236816 clonotypes and 797496 cells. Memory usage: 3 of 11 GB\n",
      "[Fri Nov 04 11:44:37 WET 2016 CalcBasicStats] 34 sample(s) processed\n",
      "[Fri Nov 04 11:44:37 WET 2016 SampleStreamConnection] Loading sample A4-i185\n",
      "[Fri Nov 04 11:44:41 WET 2016 ClonotypeStreamParser] Finished parsing. 1 header and 0 bad line(s) were skipped.\n",
      "[Fri Nov 04 11:44:41 WET 2016 SampleStreamConnection] Loaded sample A4-i185 with 248897 clonotypes and 613230 cells. Memory usage: 3 of 13 GB\n",
      "[Fri Nov 04 11:44:41 WET 2016 CalcBasicStats] 35 sample(s) processed\n",
      "[Fri Nov 04 11:44:41 WET 2016 SampleStreamConnection] Loading sample A4-i110\n",
      "[Fri Nov 04 11:44:46 WET 2016 ClonotypeStreamParser] Finished parsing. 1 header and 0 bad line(s) were skipped.\n",
      "[Fri Nov 04 11:44:46 WET 2016 SampleStreamConnection] Loaded sample A4-i110 with 356952 clonotypes and 496080 cells. Memory usage: 3 of 13 GB\n",
      "[Fri Nov 04 11:44:46 WET 2016 CalcBasicStats] 36 sample(s) processed\n",
      "[Fri Nov 04 11:44:46 WET 2016 SampleStreamConnection] Loading sample A4-i132\n",
      "[Fri Nov 04 11:44:49 WET 2016 ClonotypeStreamParser] Finished parsing. 1 header and 0 bad line(s) were skipped.\n",
      "[Fri Nov 04 11:44:49 WET 2016 SampleStreamConnection] Loaded sample A4-i132 with 236856 clonotypes and 1108264 cells. Memory usage: 3 of 11 GB\n",
      "[Fri Nov 04 11:44:50 WET 2016 CalcBasicStats] 37 sample(s) processed\n",
      "[Fri Nov 04 11:44:50 WET 2016 SampleStreamConnection] Loading sample A3-i110\n",
      "[Fri Nov 04 11:45:01 WET 2016 ClonotypeStreamParser] Finished parsing. 1 header and 0 bad line(s) were skipped.\n",
      "[Fri Nov 04 11:45:01 WET 2016 SampleStreamConnection] Loaded sample A3-i110 with 786904 clonotypes and 1946312 cells. Memory usage: 3 of 10 GB\n",
      "[Fri Nov 04 11:45:02 WET 2016 CalcBasicStats] 38 sample(s) processed\n",
      "[Fri Nov 04 11:45:02 WET 2016 SampleStreamConnection] Loading sample A3-i150\n",
      "[Fri Nov 04 11:45:07 WET 2016 ClonotypeStreamParser] Finished parsing. 1 header and 0 bad line(s) were skipped.\n",
      "[Fri Nov 04 11:45:07 WET 2016 SampleStreamConnection] Loaded sample A3-i150 with 402376 clonotypes and 2343918 cells. Memory usage: 3 of 13 GB\n",
      "[Fri Nov 04 11:45:08 WET 2016 CalcBasicStats] 39 sample(s) processed\n",
      "[Fri Nov 04 11:45:08 WET 2016 SampleStreamConnection] Loading sample A3-i151\n",
      "[Fri Nov 04 11:45:14 WET 2016 ClonotypeStreamParser] Finished parsing. 1 header and 0 bad line(s) were skipped.\n",
      "[Fri Nov 04 11:45:14 WET 2016 SampleStreamConnection] Loaded sample A3-i151 with 401771 clonotypes and 2649250 cells. Memory usage: 3 of 13 GB\n",
      "[Fri Nov 04 11:45:14 WET 2016 CalcBasicStats] 40 sample(s) processed\n",
      "[Fri Nov 04 11:45:14 WET 2016 SampleStreamConnection] Loading sample A4-i118\n",
      "[Fri Nov 04 11:45:17 WET 2016 ClonotypeStreamParser] Finished parsing. 1 header and 0 bad line(s) were skipped.\n",
      "[Fri Nov 04 11:45:17 WET 2016 SampleStreamConnection] Loaded sample A4-i118 with 252168 clonotypes and 497009 cells. Memory usage: 3 of 10 GB\n",
      "[Fri Nov 04 11:45:18 WET 2016 CalcBasicStats] 41 sample(s) processed\n",
      "[Fri Nov 04 11:45:18 WET 2016 CalcBasicStats] Finished\n"
     ]
    }
   ],
   "source": [
    "%%bash\n",
    "VDJTOOLS=\"java -Xmx12G -jar ./vdjtools.jar\"\n",
    "$VDJTOOLS CalcBasicStats -m ./metadata.txt out/basic"
   ]
  },
  {
   "cell_type": "code",
   "execution_count": 13,
   "metadata": {
    "collapsed": true
   },
   "outputs": [
    {
     "name": "stderr",
     "output_type": "stream",
     "text": [
      "/usr/local/lib/python3.5/dist-packages/matplotlib/font_manager.py:273: UserWarning: Matplotlib is building the font cache using fc-list. This may take a moment.\n",
      "  warnings.warn('Matplotlib is building the font cache using fc-list. This may take a moment.')\n",
      "/usr/local/lib/python3.5/dist-packages/matplotlib/font_manager.py:273: UserWarning: Matplotlib is building the font cache using fc-list. This may take a moment.\n",
      "  warnings.warn('Matplotlib is building the font cache using fc-list. This may take a moment.')\n"
     ]
    }
   ],
   "source": [
    "import pandas as pd\n",
    "import matplotlib.pyplot as plt"
   ]
  },
  {
   "cell_type": "code",
   "execution_count": 20,
   "metadata": {
    "collapsed": false,
    "scrolled": true
   },
   "outputs": [
    {
     "data": {
      "image/png": "[encoded data removed]",
      "text/plain": [
       "<matplotlib.figure.Figure at 0x7fdacce14e80>"
      ]
     },
     "metadata": {},
     "output_type": "display_data"
    }
   ],
   "source": [
    "basicstats=pd.read_csv(\"./out/basic.basicstats.txt\",header=0,sep=\"\\t\")\n",
    "plt.hist(basicstats[\"mean_frequency\"])\n",
    "plt.show()"
   ]
  },
  {
   "cell_type": "code",
   "execution_count": 30,
   "metadata": {
    "collapsed": false
   },
   "outputs": [
    {
     "data": {
      "image/png": "[encoded data removed]"
     },
     "metadata": {},
     "output_type": "display_data"
    }
   ],
   "source": [
    "%%R\n",
    "basicstats <- read.table(\"out/basic.basicstats.txt\",header=TRUE,row.names=NULL,sep=\"\\t\")\n",
    "hist(basicstats$mean_frequency)"
   ]
  },
  {
   "cell_type": "code",
   "execution_count": 24,
   "metadata": {
    "collapsed": false
   },
   "outputs": [
    {
     "data": {
      "image/png": "[encoded data removed]",
      "text/plain": [
       "<matplotlib.figure.Figure at 0x7fdac9390358>"
      ]
     },
     "metadata": {},
     "output_type": "display_data"
    }
   ],
   "source": [
    "plt.scatter(basicstats[\"age\"],basicstats[\"mean_frequency\"])\n",
    "plt.ylim((0,0.00002))\n",
    "plt.show()"
   ]
  }
 ],
 "metadata": {
  "anaconda-cloud": {},
  "kernelspec": {
   "display_name": "Python 3",
   "language": "python",
   "name": "python3"
  },
  "language_info": {
   "codemirror_mode": {
    "name": "ipython",
    "version": 3
   },
   "file_extension": ".py",
   "mimetype": "text/x-python",
   "name": "python",
   "nbconvert_exporter": "python",
   "pygments_lexer": "ipython3",
   "version": "3.5.2+"
  }
 },
 "nbformat": 4,
 "nbformat_minor": 1
}
