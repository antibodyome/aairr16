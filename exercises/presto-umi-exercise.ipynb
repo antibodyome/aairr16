{
 "cells": [
  {
   "cell_type": "markdown",
   "metadata": {},
   "source": [
    "## UMI example"
   ]
  },
  {
   "cell_type": "markdown",
   "metadata": {},
   "source": [
    "This is an example taken from the pRESTO documentation, linked [here](http://presto.readthedocs.io/en/latest/workflows/Stern2014_Workflow.html). The abstract of the paper is below."
   ]
  },
  {
   "cell_type": "code",
   "execution_count": null,
   "metadata": {
    "collapsed": false
   },
   "outputs": [],
   "source": [
    "!esearch -db pubmed -query 25100741 | efetch -format abstract"
   ]
  },
  {
   "cell_type": "markdown",
   "metadata": {},
   "source": [
    "The read layout is shown below."
   ]
  },
  {
   "cell_type": "markdown",
   "metadata": {},
   "source": [
    "![](http://presto.readthedocs.io/en/latest/_images/Stern2014_ReadConfiguration.svg)"
   ]
  },
  {
   "cell_type": "markdown",
   "metadata": {},
   "source": [
    "The workflow for processing the data is shown below."
   ]
  },
  {
   "cell_type": "markdown",
   "metadata": {},
   "source": [
    "![](http://presto.readthedocs.io/en/latest/_images/Stern2014_Flowchart.svg)"
   ]
  },
  {
   "cell_type": "markdown",
   "metadata": {},
   "source": [
    "## Obtaining the data"
   ]
  },
  {
   "cell_type": "markdown",
   "metadata": {},
   "source": [
    "Use `fastq-dump` to obtain the sequence data from accession SRR1383456, by running the cell below."
   ]
  },
  {
   "cell_type": "code",
   "execution_count": null,
   "metadata": {
    "collapsed": false
   },
   "outputs": [],
   "source": [
    "!fastq-dump --split-files --readids SRR1383456"
   ]
  },
  {
   "cell_type": "markdown",
   "metadata": {},
   "source": [
    "## Filtering by quality"
   ]
  },
  {
   "cell_type": "markdown",
   "metadata": {},
   "source": [
    "Use `FilterSeq.py quality` with a minimum (mean) quality score of 20 to filter the paired end reads. The usage information is given below."
   ]
  },
  {
   "cell_type": "code",
   "execution_count": null,
   "metadata": {
    "collapsed": false
   },
   "outputs": [],
   "source": [
    "!FilterSeq.py quality -h"
   ]
  },
  {
   "cell_type": "markdown",
   "metadata": {},
   "source": [
    "Run the cell below to filter read 1."
   ]
  },
  {
   "cell_type": "code",
   "execution_count": null,
   "metadata": {
    "collapsed": false
   },
   "outputs": [],
   "source": [
    "!FilterSeq.py quality -s SRR1383456_1.fastq -q 20 --outname SRR1383456_R1 --log SRR1383456.quality.R1.log"
   ]
  },
  {
   "cell_type": "markdown",
   "metadata": {},
   "source": [
    "**Now repeat the above, but for the read 2.**"
   ]
  },
  {
   "cell_type": "code",
   "execution_count": null,
   "metadata": {
    "collapsed": false
   },
   "outputs": [],
   "source": [
    "!FilterSeq.py quality"
   ]
  },
  {
   "cell_type": "markdown",
   "metadata": {},
   "source": [
    "## Masking primers"
   ]
  },
  {
   "cell_type": "markdown",
   "metadata": {},
   "source": [
    "Now cut the primers (`Stern2014_CPrimers.fasta`) from read 1 We know where the primers start (15 for read 1), so we can use `MaskPrimers.py score` rather than `MaskPrimers.py align`. Read 1 is bar-coded **so you need to specify the `--barcode` option** to extract the barcode region."
   ]
  },
  {
   "cell_type": "code",
   "execution_count": null,
   "metadata": {
    "collapsed": false
   },
   "outputs": [],
   "source": [
    "!MaskPrimers.py score -h"
   ]
  },
  {
   "cell_type": "markdown",
   "metadata": {},
   "source": [
    "Run the cell below to mask the reverse primers and extract the barcode."
   ]
  },
  {
   "cell_type": "code",
   "execution_count": null,
   "metadata": {
    "collapsed": false
   },
   "outputs": [],
   "source": [
    "!MaskPrimers.py score -s SRR1383456_R1_quality-pass.fastq -p Stern2014_CPrimers.fasta \\\n",
    "    --start 15 --mode cut --barcode --outname SRR1383456_R1 --log SRR1383456.REV.log"
   ]
  },
  {
   "cell_type": "markdown",
   "metadata": {},
   "source": [
    "**Using the above as a guide, complete the below cell to mask the forward primer from read 2 (`Stern2014_VPrimers.fasta`) starting from position 0.**"
   ]
  },
  {
   "cell_type": "code",
   "execution_count": null,
   "metadata": {
    "collapsed": false
   },
   "outputs": [],
   "source": [
    "!MaskPrimers.py score"
   ]
  },
  {
   "cell_type": "markdown",
   "metadata": {},
   "source": [
    "## Copying over the barcodes"
   ]
  },
  {
   "cell_type": "markdown",
   "metadata": {},
   "source": [
    "The barcode region is only annotated in read 1, so we need to copy this over to read 2, which we do with `PairSeq.py`."
   ]
  },
  {
   "cell_type": "code",
   "execution_count": null,
   "metadata": {
    "collapsed": false
   },
   "outputs": [],
   "source": [
    "!PairSeq.py -h"
   ]
  },
  {
   "cell_type": "markdown",
   "metadata": {},
   "source": [
    "Run the below cell to copy over the annotation."
   ]
  },
  {
   "cell_type": "code",
   "execution_count": null,
   "metadata": {
    "collapsed": false
   },
   "outputs": [],
   "source": [
    "!PairSeq.py -1 SRR1383456_R1_primers-pass.fastq -2 SRR1383456_R2_primers-pass.fastq \\\n",
    "    --1f BARCODE --coord sra"
   ]
  },
  {
   "cell_type": "markdown",
   "metadata": {},
   "source": [
    "## Building a consensus based  on the barcodes"
   ]
  },
  {
   "cell_type": "markdown",
   "metadata": {},
   "source": [
    "We now build a consensus sequence for the sequences with a particular barcode. We do this separately for the paired sequences, `SRR1383456_R1_primers-pass_pair-pass.fastq` and `SRR1383456_R2_primers-pass_pair-pass.fastq` using `BuildConsensus.py`."
   ]
  },
  {
   "cell_type": "code",
   "execution_count": null,
   "metadata": {
    "collapsed": false
   },
   "outputs": [],
   "source": [
    "!BuildConsensus.py -h"
   ]
  },
  {
   "cell_type": "markdown",
   "metadata": {},
   "source": [
    "Run the cell below to build a consensus from read 1."
   ]
  },
  {
   "cell_type": "code",
   "execution_count": null,
   "metadata": {
    "collapsed": false
   },
   "outputs": [],
   "source": [
    "!BuildConsensus.py -s SRR1383456_R1_primers-pass_pair-pass.fastq --bf BARCODE --pf PRIMER \\\n",
    "    --prcons 0.6 --maxerror 0.1 --maxgap 0.5 --outname SRR1383456_R1 --log SRR1383456.consensus.R1.log"
   ]
  },
  {
   "cell_type": "markdown",
   "metadata": {},
   "source": [
    "**Now complete the below cell to build a consensus for read 2.**"
   ]
  },
  {
   "cell_type": "code",
   "execution_count": null,
   "metadata": {
    "collapsed": false
   },
   "outputs": [],
   "source": [
    "!BuildConsensus.py"
   ]
  },
  {
   "cell_type": "markdown",
   "metadata": {},
   "source": [
    "Now run the following cell to pair the sequences that passed the consensus building."
   ]
  },
  {
   "cell_type": "code",
   "execution_count": null,
   "metadata": {
    "collapsed": false
   },
   "outputs": [],
   "source": [
    "!PairSeq.py -1 SRR1383456_R1_consensus-pass.fastq -2 SRR1383456_R2_consensus-pass.fastq \\\n",
    "    --coord presto"
   ]
  },
  {
   "cell_type": "markdown",
   "metadata": {},
   "source": [
    "## Assembling mate pairs"
   ]
  },
  {
   "cell_type": "code",
   "execution_count": null,
   "metadata": {
    "collapsed": false
   },
   "outputs": [],
   "source": [
    "!AssemblePairs.py align -h"
   ]
  },
  {
   "cell_type": "code",
   "execution_count": null,
   "metadata": {
    "collapsed": false
   },
   "outputs": [],
   "source": [
    "!AssemblePairs.py align -1 SRR1383456_R2_consensus-pass_pair-pass.fastq \\\n",
    "    -2 SRR1383456_R1_consensus-pass_pair-pass.fastq --coord presto --rc tail \\\n",
    "    --1f CONSCOUNT --2f CONSCOUNT PRCONS --outname SRR1383456 --log SRR1383456.assemble.log"
   ]
  },
  {
   "cell_type": "markdown",
   "metadata": {},
   "source": [
    "## Deduplication and filtering"
   ]
  },
  {
   "cell_type": "markdown",
   "metadata": {},
   "source": [
    "Let's take a look at the resulting sequences."
   ]
  },
  {
   "cell_type": "code",
   "execution_count": null,
   "metadata": {
    "collapsed": false
   },
   "outputs": [],
   "source": [
    "!head SRR1383456_assemble-pass.fastq"
   ]
  },
  {
   "cell_type": "markdown",
   "metadata": {},
   "source": [
    "As you can see, there are two entries for the number of sequences used for each consensus. The following command replaces this pair with the minimum of the two."
   ]
  },
  {
   "cell_type": "code",
   "execution_count": null,
   "metadata": {
    "collapsed": false
   },
   "outputs": [],
   "source": [
    "!ParseHeaders.py collapse -s SRR1383456_assemble-pass.fastq -f CONSCOUNT --act min"
   ]
  },
  {
   "cell_type": "markdown",
   "metadata": {},
   "source": [
    "The following command removes duplicate sequences."
   ]
  },
  {
   "cell_type": "code",
   "execution_count": null,
   "metadata": {
    "collapsed": false
   },
   "outputs": [],
   "source": [
    "!CollapseSeq.py -s SRR1383456_assemble-pass_reheader.fastq -n 20 --inner --uf PRCONS \\\n",
    "    --cf CONSCOUNT --act sum --outname SRR1383456"
   ]
  },
  {
   "cell_type": "markdown",
   "metadata": {},
   "source": [
    "We will also convert the sequences to FASTA format."
   ]
  },
  {
   "cell_type": "code",
   "execution_count": null,
   "metadata": {
    "collapsed": false
   },
   "outputs": [],
   "source": [
    "from Bio import SeqIO\n",
    "SeqIO.convert(\"SRR1383456_collapse-unique.fastq\",\"fastq\",\"SRR1383456_collapse-unique.fasta\",\"fasta\")"
   ]
  },
  {
   "cell_type": "code",
   "execution_count": null,
   "metadata": {
    "collapsed": false
   },
   "outputs": [],
   "source": [
    "!head SRR1383456_collapse-unique.fasta"
   ]
  }
 ],
 "metadata": {
  "kernelspec": {
   "display_name": "Python 3",
   "language": "python",
   "name": "python3"
  },
  "language_info": {
   "codemirror_mode": {
    "name": "ipython",
    "version": 3
   },
   "file_extension": ".py",
   "mimetype": "text/x-python",
   "name": "python",
   "nbconvert_exporter": "python",
   "pygments_lexer": "ipython3",
   "version": "3.5.2"
  }
 },
 "nbformat": 4,
 "nbformat_minor": 1
}
